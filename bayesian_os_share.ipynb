{
 "cells": [
  {
   "cell_type": "code",
   "execution_count": 1,
   "metadata": {
    "colab": {
     "base_uri": "https://localhost:8080/",
     "height": 2355
    },
    "colab_type": "code",
    "id": "FWC9JXPR7amg",
    "outputId": "4c68c3f9-e776-42f8-bff8-508cb5da098e"
   },
   "outputs": [
    {
     "name": "stdout",
     "output_type": "stream",
     "text": [
      "Warning: Failed to set locale category LC_NUMERIC to en_CH.\n",
      "Warning: Failed to set locale category LC_TIME to en_CH.\n",
      "Warning: Failed to set locale category LC_COLLATE to en_CH.\n",
      "Warning: Failed to set locale category LC_MONETARY to en_CH.\n",
      "Warning: Failed to set locale category LC_MESSAGES to en_CH.\n",
      "--2019-07-23 09:18:03--  https://raw.githubusercontent.com/betanalpha/jupyter_case_studies/master/pystan_workflow/stan_utility.py\n",
      "Resolving raw.githubusercontent.com (raw.githubusercontent.com)... 151.101.112.133\n",
      "Connecting to raw.githubusercontent.com (raw.githubusercontent.com)|151.101.112.133|:443... connected.\n",
      "HTTP request sent, awaiting response... 200 OK\n",
      "Length: 5593 (5.5K) [text/plain]\n",
      "Saving to: ‘stan_utility.py’\n",
      "\n",
      "stan_utility.py     100%[===================>]   5.46K  --.-KB/s    in 0s      \n",
      "\n",
      "2019-07-23 09:18:03 (12.2 MB/s) - ‘stan_utility.py’ saved [5593/5593]\n",
      "\n"
     ]
    }
   ],
   "source": [
    "!rm stan_utility.py\n",
    "\n",
    "!wget https://raw.githubusercontent.com/betanalpha/jupyter_case_studies/master/pystan_workflow/stan_utility.py"
   ]
  },
  {
   "cell_type": "code",
   "execution_count": 2,
   "metadata": {
    "colab": {},
    "colab_type": "code",
    "id": "k9GOdeBG7Xy0"
   },
   "outputs": [],
   "source": [
    "%matplotlib inline\n",
    "\n",
    "import random\n",
    "random.seed(123)\n",
    "\n",
    "import numpy as np\n",
    "import pandas as pd\n",
    "\n",
    "from matplotlib import pyplot as plt\n",
    "\n",
    "import importlib"
   ]
  },
  {
   "cell_type": "code",
   "execution_count": 3,
   "metadata": {
    "colab": {},
    "colab_type": "code",
    "id": "mImkC_2I7Xy4"
   },
   "outputs": [],
   "source": [
    "import pystan\n",
    "import stan_utility\n",
    "\n",
    "import survivalstan"
   ]
  },
  {
   "cell_type": "markdown",
   "metadata": {
    "colab_type": "text",
    "id": "mChExKwX7Xy9"
   },
   "source": [
    "## SurvivalStan - Exponential Model\n",
    "\n",
    "Tutorial:\n",
    "http://www.hammerlab.org/2017/06/26/introducing-survivalstan/"
   ]
  },
  {
   "cell_type": "markdown",
   "metadata": {},
   "source": [
    "### Model 1: Exponential model with no covariates\n",
    "\n",
    "$S(t) = exp(-a \\cdot t)$\n",
    "\n",
    "$a \\sim N(0,1)$"
   ]
  },
  {
   "cell_type": "code",
   "execution_count": 116,
   "metadata": {},
   "outputs": [
    {
     "data": {
      "text/html": [
       "<div>\n",
       "<style scoped>\n",
       "    .dataframe tbody tr th:only-of-type {\n",
       "        vertical-align: middle;\n",
       "    }\n",
       "\n",
       "    .dataframe tbody tr th {\n",
       "        vertical-align: top;\n",
       "    }\n",
       "\n",
       "    .dataframe thead th {\n",
       "        text-align: right;\n",
       "    }\n",
       "</style>\n",
       "<table border=\"1\" class=\"dataframe\">\n",
       "  <thead>\n",
       "    <tr style=\"text-align: right;\">\n",
       "      <th></th>\n",
       "      <th>true_t</th>\n",
       "      <th>t</th>\n",
       "      <th>event</th>\n",
       "      <th>sex</th>\n",
       "      <th>age</th>\n",
       "      <th>index</th>\n",
       "      <th>event_fac</th>\n",
       "    </tr>\n",
       "  </thead>\n",
       "  <tbody>\n",
       "    <tr>\n",
       "      <th>0</th>\n",
       "      <td>2.132717</td>\n",
       "      <td>2.132717</td>\n",
       "      <td>True</td>\n",
       "      <td>female</td>\n",
       "      <td>45</td>\n",
       "      <td>0</td>\n",
       "      <td>1</td>\n",
       "    </tr>\n",
       "    <tr>\n",
       "      <th>1</th>\n",
       "      <td>0.382696</td>\n",
       "      <td>0.382696</td>\n",
       "      <td>True</td>\n",
       "      <td>male</td>\n",
       "      <td>53</td>\n",
       "      <td>1</td>\n",
       "      <td>1</td>\n",
       "    </tr>\n",
       "    <tr>\n",
       "      <th>2</th>\n",
       "      <td>1.239084</td>\n",
       "      <td>1.239084</td>\n",
       "      <td>True</td>\n",
       "      <td>male</td>\n",
       "      <td>53</td>\n",
       "      <td>2</td>\n",
       "      <td>1</td>\n",
       "    </tr>\n",
       "    <tr>\n",
       "      <th>3</th>\n",
       "      <td>7.842704</td>\n",
       "      <td>7.842704</td>\n",
       "      <td>True</td>\n",
       "      <td>female</td>\n",
       "      <td>53</td>\n",
       "      <td>3</td>\n",
       "      <td>1</td>\n",
       "    </tr>\n",
       "    <tr>\n",
       "      <th>4</th>\n",
       "      <td>1.323792</td>\n",
       "      <td>1.323792</td>\n",
       "      <td>True</td>\n",
       "      <td>male</td>\n",
       "      <td>46</td>\n",
       "      <td>4</td>\n",
       "      <td>1</td>\n",
       "    </tr>\n",
       "  </tbody>\n",
       "</table>\n",
       "</div>"
      ],
      "text/plain": [
       "     true_t         t  event     sex  age  index  event_fac\n",
       "0  2.132717  2.132717   True  female   45      0          1\n",
       "1  0.382696  0.382696   True    male   53      1          1\n",
       "2  1.239084  1.239084   True    male   53      2          1\n",
       "3  7.842704  7.842704   True  female   53      3          1\n",
       "4  1.323792  1.323792   True    male   46      4          1"
      ]
     },
     "execution_count": 116,
     "metadata": {},
     "output_type": "execute_result"
    },
    {
     "data": {
      "image/png": "[encoded data removed]",
      "text/plain": [
       "<Figure size 432x288 with 1 Axes>"
      ]
     },
     "metadata": {
      "needs_background": "light"
     },
     "output_type": "display_data"
    }
   ],
   "source": [
    "# Data\n",
    "df1 = survivalstan.sim.sim_data_exp(censor_time = 50, \n",
    "                                    N = 2000, \n",
    "                                    rate = 0.35)\n",
    "\n",
    "df1['event_fac'] = df1['event'].apply(lambda x: 1 if x == True else 0)\n",
    "\n",
    "data1 = dict(N = len(df1),\n",
    "            y = df1['t'],\n",
    "            event = df1['event_fac'])\n",
    "\n",
    "survivalstan.utils.plot_observed_survival(df1, time_col='t', event_col='event')\n",
    "\n",
    "df1.head(n = 5)"
   ]
  },
  {
   "cell_type": "code",
   "execution_count": 98,
   "metadata": {},
   "outputs": [
    {
     "name": "stderr",
     "output_type": "stream",
     "text": [
      "INFO:pystan:COMPILING THE C++ CODE FOR MODEL anon_model_197c015df38c6c923591a164314f576a NOW.\n"
     ]
    }
   ],
   "source": [
    "# Compile model\n",
    "model = stan_utility.compile_model('exp.stan')"
   ]
  },
  {
   "cell_type": "code",
   "execution_count": 117,
   "metadata": {},
   "outputs": [],
   "source": [
    "# Infer parameters\n",
    "Niter = 10000\n",
    "Nchains = 2\n",
    "\n",
    "ctrl = {'max_treedepth': 20,\n",
    "        'adapt_delta': 0.99}\n",
    "\n",
    "fit = model.sampling(data = data1, \n",
    "                     chains = Nchains,\n",
    "                     iter = Niter,\n",
    "                     control = ctrl,\n",
    "                     seed = 194838)"
   ]
  },
  {
   "cell_type": "code",
   "execution_count": 119,
   "metadata": {},
   "outputs": [
    {
     "data": {
      "text/plain": [
       "{'n_eff': True,\n",
       " 'Rhat': True,\n",
       " 'divergence': True,\n",
       " 'treedepth': True,\n",
       " 'energy': True}"
      ]
     },
     "execution_count": 119,
     "metadata": {},
     "output_type": "execute_result"
    }
   ],
   "source": [
    "pystan.check_hmc_diagnostics(fit)"
   ]
  },
  {
   "cell_type": "code",
   "execution_count": 120,
   "metadata": {},
   "outputs": [
    {
     "data": {
      "text/plain": [
       "Inference for Stan model: anon_model_197c015df38c6c923591a164314f576a.\n",
       "2 chains, each with iter=10000; warmup=5000; thin=1; \n",
       "post-warmup draws per chain=5000, total post-warmup draws=10000.\n",
       "\n",
       "        mean se_mean     sd   2.5%    25%    50%    75%  97.5%  n_eff   Rhat\n",
       "alpha   0.35  1.7e-4 7.9e-3   0.33   0.34   0.35   0.35   0.36   2065    1.0\n",
       "lp__   -4114    0.02   0.71  -4116  -4114  -4114  -4114  -4113   1804    1.0\n",
       "\n",
       "Samples were drawn using NUTS at Tue Jul 23 11:38:10 2019.\n",
       "For each parameter, n_eff is a crude measure of effective sample size,\n",
       "and Rhat is the potential scale reduction factor on split chains (at \n",
       "convergence, Rhat=1)."
      ]
     },
     "execution_count": 120,
     "metadata": {},
     "output_type": "execute_result"
    }
   ],
   "source": [
    "fit"
   ]
  },
  {
   "cell_type": "code",
   "execution_count": null,
   "metadata": {},
   "outputs": [],
   "source": []
  },
  {
   "cell_type": "code",
   "execution_count": 90,
   "metadata": {},
   "outputs": [
    {
     "name": "stderr",
     "output_type": "stream",
     "text": [
      "WARNING:pystan:DeprecationWarning: pystan.stan was deprecated in version 2.17 and will be removed in version 3.0. Compile and use a Stan program in separate steps.\n"
     ]
    },
    {
     "name": "stdout",
     "output_type": "stream",
     "text": [
      "Reusing model.\n"
     ]
    },
    {
     "name": "stderr",
     "output_type": "stream",
     "text": [
      "WARNING:pystan:159 of 4000 iterations ended with a divergence (3.98 %).\n",
      "WARNING:pystan:Try running with adapt_delta larger than 0.8 to remove the divergences.\n"
     ]
    },
    {
     "name": "stdout",
     "output_type": "stream",
     "text": [
      "Ran in 19.807 sec.\n"
     ]
    }
   ],
   "source": [
    "# Model org\n",
    "fit_org = survivalstan.fit_stan_survival_model(\n",
    "    df=df1,\n",
    "    time_col='t',\n",
    "    event_col='event',\n",
    "    model_code=survivalstan.models.exp_survival_model,\n",
    "    formula='~ 1',\n",
    "    model_cohort = 'exp model'\n",
    ")"
   ]
  },
  {
   "cell_type": "code",
   "execution_count": 93,
   "metadata": {},
   "outputs": [],
   "source": [
    "sfit_org = fit_org['fit']"
   ]
  },
  {
   "cell_type": "code",
   "execution_count": 95,
   "metadata": {},
   "outputs": [
    {
     "name": "stderr",
     "output_type": "stream",
     "text": [
      "WARNING:pystan:Truncated summary with the 'fit.__repr__' method. For the full summary use 'print(fit)'\n"
     ]
    },
    {
     "data": {
      "text/plain": [
       "{'df':      event_status       time  Intercept\n",
       " 0               1   2.225285        1.0\n",
       " 1               1   1.394729        1.0\n",
       " 2               1   5.975046        1.0\n",
       " 3               1   5.668242        1.0\n",
       " 4               1  13.302080        1.0\n",
       " ..            ...        ...        ...\n",
       " 195             1   3.766630        1.0\n",
       " 196             1   1.404374        1.0\n",
       " 197             1   9.087744        1.0\n",
       " 198             1  26.227718        1.0\n",
       " 199             1   4.078527        1.0\n",
       " \n",
       " [200 rows x 3 columns], 'x_df':      Intercept\n",
       " 0          1.0\n",
       " 1          1.0\n",
       " 2          1.0\n",
       " 3          1.0\n",
       " 4          1.0\n",
       " ..         ...\n",
       " 195        1.0\n",
       " 196        1.0\n",
       " 197        1.0\n",
       " 198        1.0\n",
       " 199        1.0\n",
       " \n",
       " [200 rows x 1 columns], 'x_names': Index(['Intercept'], dtype='object'), 'data': {'y': array([ 2.22528464,  1.39472911,  5.97504589,  5.66824215, 13.30208004,\n",
       "          0.32959294,  5.11796927, 28.71497977,  6.63352924, 26.59232101,\n",
       "          0.23216121,  6.78346453,  4.63323484,  5.80927593,  2.63714697,\n",
       "          4.55082749, 17.01550816, 20.0789552 ,  8.59199822, 16.1529781 ,\n",
       "          3.39620556,  6.55087932, 32.06963784, 16.54972759,  3.29640273,\n",
       "          3.51418369,  4.40327773,  4.66291508,  4.55073289,  0.19197938,\n",
       "         14.96147438,  1.37984588,  0.40858452,  0.90598159,  1.13862558,\n",
       "          7.46455824,  2.9760887 ,  0.82780767,  3.79888024,  0.75518436,\n",
       "         10.37839574, 31.12299949, 20.05416046, 14.76649178, 14.46846892,\n",
       "         14.754182  ,  0.8333673 , 11.45767874, 12.43955142, 20.06391033,\n",
       "         20.5117301 ,  5.49925845, 16.61764071, 35.20339757,  7.89545902,\n",
       "          8.05825296,  6.41116193, 42.76801023, 25.20391823, 17.1548056 ,\n",
       "         36.73346888,  5.77813686,  1.25712212,  1.74580977,  7.56698915,\n",
       "          2.56057633,  6.14432612,  1.46409392, 12.37223456,  3.06627873,\n",
       "          4.01302686,  4.18534573, 17.29370707,  3.26260382,  1.67187074,\n",
       "         23.77331673, 12.32221328,  4.16579964, 12.71816733,  0.71523461,\n",
       "         18.76189771,  2.07660015,  3.68475631, 16.80062051,  0.47827764,\n",
       "          7.62000904,  6.91760738,  7.18892655,  9.28670093, 11.340457  ,\n",
       "         13.77377012,  7.02507391,  2.81235393, 20.86032544, 14.28436797,\n",
       "         46.94982883,  7.77315752,  3.12018819,  0.12535341,  9.98910912,\n",
       "         27.38656066, 11.16203356,  3.48026932,  0.69803621, 45.06972475,\n",
       "          5.24932149,  8.68728167,  2.1709971 , 16.78886876,  4.99049701,\n",
       "          5.17426202,  2.82565525, 13.52227216,  1.10030289,  1.73230378,\n",
       "         18.93313101,  6.86534152, 21.50825916, 14.93268001,  4.48767726,\n",
       "          1.15894622,  8.75045083, 26.82356018, 13.9431433 , 40.92876982,\n",
       "          4.62312695,  1.73427886,  0.90675742, 10.808021  , 19.85773946,\n",
       "          6.33052368, 20.82506625,  7.32985297, 14.88904379, 13.04209763,\n",
       "          2.19568243,  5.35694678,  5.78627501,  9.82540019,  9.7610609 ,\n",
       "          6.84183364,  7.85544498,  3.59114746,  6.61690675, 19.70260392,\n",
       "         10.47485522,  2.72624317,  2.08440937,  9.96553726,  2.60627581,\n",
       "          0.31533565,  4.08398776,  1.8750634 , 15.56784128,  3.53870348,\n",
       "          3.31912087,  4.03914844,  7.85107802,  1.86006665, 40.3114447 ,\n",
       "          4.47006509,  8.45022764,  0.66711013,  0.09757013, 19.38416366,\n",
       "          7.43706264, 20.8111432 , 10.72198447,  1.04391573,  0.17684947,\n",
       "          6.68091193,  6.95041217,  0.64243048,  9.48507614,  4.85716344,\n",
       "          5.51088219,  8.05326343,  2.28048863,  3.0677043 ,  5.00513878,\n",
       "          4.18045957,  8.40887318,  7.75685992, 13.33612401,  9.90555335,\n",
       "          4.84378935,  1.71755503,  9.46161602,  0.24710375, 16.31953756,\n",
       "          0.40456423, 11.40258692,  7.62982756,  2.57886133, 15.94168975,\n",
       "          3.76662953,  1.40437385,  9.08774383, 26.22771788,  4.07852677]),\n",
       "  'event': array([1, 1, 1, 1, 1, 1, 1, 1, 1, 1, 1, 1, 1, 1, 1, 1, 1, 1, 1, 1, 1, 1,\n",
       "         1, 1, 1, 1, 1, 1, 1, 1, 1, 1, 1, 1, 1, 1, 1, 1, 1, 1, 1, 1, 1, 1,\n",
       "         1, 1, 1, 1, 1, 1, 1, 1, 1, 1, 1, 1, 1, 1, 1, 1, 1, 1, 1, 1, 1, 1,\n",
       "         1, 1, 1, 1, 1, 1, 1, 1, 1, 1, 1, 1, 1, 1, 1, 1, 1, 1, 1, 1, 1, 1,\n",
       "         1, 1, 1, 1, 1, 1, 1, 1, 1, 1, 1, 1, 1, 1, 1, 1, 1, 1, 1, 1, 1, 1,\n",
       "         1, 1, 1, 1, 1, 1, 1, 1, 1, 1, 1, 1, 1, 1, 1, 1, 1, 1, 1, 1, 1, 1,\n",
       "         1, 1, 1, 1, 1, 1, 1, 1, 1, 1, 1, 1, 1, 1, 1, 1, 1, 1, 1, 1, 1, 1,\n",
       "         1, 1, 1, 1, 1, 1, 1, 1, 1, 1, 1, 1, 1, 1, 1, 1, 1, 1, 1, 1, 1, 1,\n",
       "         1, 1, 1, 1, 1, 1, 1, 1, 1, 1, 1, 1, 1, 1, 1, 1, 1, 1, 1, 1, 1, 1,\n",
       "         1, 1]),\n",
       "  'N': 200,\n",
       "  'x': array([[1.],\n",
       "         [1.],\n",
       "         [1.],\n",
       "         [1.],\n",
       "         [1.],\n",
       "         [1.],\n",
       "         [1.],\n",
       "         [1.],\n",
       "         [1.],\n",
       "         [1.],\n",
       "         [1.],\n",
       "         [1.],\n",
       "         [1.],\n",
       "         [1.],\n",
       "         [1.],\n",
       "         [1.],\n",
       "         [1.],\n",
       "         [1.],\n",
       "         [1.],\n",
       "         [1.],\n",
       "         [1.],\n",
       "         [1.],\n",
       "         [1.],\n",
       "         [1.],\n",
       "         [1.],\n",
       "         [1.],\n",
       "         [1.],\n",
       "         [1.],\n",
       "         [1.],\n",
       "         [1.],\n",
       "         [1.],\n",
       "         [1.],\n",
       "         [1.],\n",
       "         [1.],\n",
       "         [1.],\n",
       "         [1.],\n",
       "         [1.],\n",
       "         [1.],\n",
       "         [1.],\n",
       "         [1.],\n",
       "         [1.],\n",
       "         [1.],\n",
       "         [1.],\n",
       "         [1.],\n",
       "         [1.],\n",
       "         [1.],\n",
       "         [1.],\n",
       "         [1.],\n",
       "         [1.],\n",
       "         [1.],\n",
       "         [1.],\n",
       "         [1.],\n",
       "         [1.],\n",
       "         [1.],\n",
       "         [1.],\n",
       "         [1.],\n",
       "         [1.],\n",
       "         [1.],\n",
       "         [1.],\n",
       "         [1.],\n",
       "         [1.],\n",
       "         [1.],\n",
       "         [1.],\n",
       "         [1.],\n",
       "         [1.],\n",
       "         [1.],\n",
       "         [1.],\n",
       "         [1.],\n",
       "         [1.],\n",
       "         [1.],\n",
       "         [1.],\n",
       "         [1.],\n",
       "         [1.],\n",
       "         [1.],\n",
       "         [1.],\n",
       "         [1.],\n",
       "         [1.],\n",
       "         [1.],\n",
       "         [1.],\n",
       "         [1.],\n",
       "         [1.],\n",
       "         [1.],\n",
       "         [1.],\n",
       "         [1.],\n",
       "         [1.],\n",
       "         [1.],\n",
       "         [1.],\n",
       "         [1.],\n",
       "         [1.],\n",
       "         [1.],\n",
       "         [1.],\n",
       "         [1.],\n",
       "         [1.],\n",
       "         [1.],\n",
       "         [1.],\n",
       "         [1.],\n",
       "         [1.],\n",
       "         [1.],\n",
       "         [1.],\n",
       "         [1.],\n",
       "         [1.],\n",
       "         [1.],\n",
       "         [1.],\n",
       "         [1.],\n",
       "         [1.],\n",
       "         [1.],\n",
       "         [1.],\n",
       "         [1.],\n",
       "         [1.],\n",
       "         [1.],\n",
       "         [1.],\n",
       "         [1.],\n",
       "         [1.],\n",
       "         [1.],\n",
       "         [1.],\n",
       "         [1.],\n",
       "         [1.],\n",
       "         [1.],\n",
       "         [1.],\n",
       "         [1.],\n",
       "         [1.],\n",
       "         [1.],\n",
       "         [1.],\n",
       "         [1.],\n",
       "         [1.],\n",
       "         [1.],\n",
       "         [1.],\n",
       "         [1.],\n",
       "         [1.],\n",
       "         [1.],\n",
       "         [1.],\n",
       "         [1.],\n",
       "         [1.],\n",
       "         [1.],\n",
       "         [1.],\n",
       "         [1.],\n",
       "         [1.],\n",
       "         [1.],\n",
       "         [1.],\n",
       "         [1.],\n",
       "         [1.],\n",
       "         [1.],\n",
       "         [1.],\n",
       "         [1.],\n",
       "         [1.],\n",
       "         [1.],\n",
       "         [1.],\n",
       "         [1.],\n",
       "         [1.],\n",
       "         [1.],\n",
       "         [1.],\n",
       "         [1.],\n",
       "         [1.],\n",
       "         [1.],\n",
       "         [1.],\n",
       "         [1.],\n",
       "         [1.],\n",
       "         [1.],\n",
       "         [1.],\n",
       "         [1.],\n",
       "         [1.],\n",
       "         [1.],\n",
       "         [1.],\n",
       "         [1.],\n",
       "         [1.],\n",
       "         [1.],\n",
       "         [1.],\n",
       "         [1.],\n",
       "         [1.],\n",
       "         [1.],\n",
       "         [1.],\n",
       "         [1.],\n",
       "         [1.],\n",
       "         [1.],\n",
       "         [1.],\n",
       "         [1.],\n",
       "         [1.],\n",
       "         [1.],\n",
       "         [1.],\n",
       "         [1.],\n",
       "         [1.],\n",
       "         [1.],\n",
       "         [1.],\n",
       "         [1.],\n",
       "         [1.],\n",
       "         [1.],\n",
       "         [1.],\n",
       "         [1.],\n",
       "         [1.],\n",
       "         [1.],\n",
       "         [1.],\n",
       "         [1.],\n",
       "         [1.],\n",
       "         [1.],\n",
       "         [1.],\n",
       "         [1.],\n",
       "         [1.],\n",
       "         [1.],\n",
       "         [1.],\n",
       "         [1.]]),\n",
       "  'M': 1}, 'fit': \n",
       " Warning: Shown data is truncated to 100 parameters\n",
       " For the full summary use 'print(fit)'\n",
       " \n",
       " Inference for Stan model: anon_model_0176fed484efbd961d78e8973c25ff98.\n",
       " 4 chains, each with iter=2000; warmup=1000; thin=1; \n",
       " post-warmup draws per chain=1000, total post-warmup draws=4000.\n",
       " \n",
       "               mean se_mean     sd   2.5%    25%    50%    75%  97.5%  n_eff   Rhat\n",
       " tau_s_raw     3.52    0.18   3.31   0.15   1.12   2.41   5.01  12.84    347   1.03\n",
       " tau_raw[1]    4.55     0.9  34.82   0.15   0.42   0.87   2.19  30.17   1513    1.0\n",
       " beta_raw[1]  -0.48    0.02   0.64  -1.91   -0.8  -0.41  -0.14   0.82    672   1.01\n",
       " alpha         0.53    0.02   0.49   0.03   0.15   0.36   0.77    1.8    560   1.01\n",
       " beta[1]      -1.12    0.05   1.08  -2.85  -1.99   -1.2  -0.35   1.12    452   1.02\n",
       " lp[1]         0.66    0.06   2.07   0.06   0.14    0.3    0.7   3.07   1038    1.0\n",
       " lp[2]         0.66    0.06   2.07   0.06   0.14    0.3    0.7   3.07   1038    1.0\n",
       " lp[3]         0.66    0.06   2.07   0.06   0.14    0.3    0.7   3.07   1038    1.0\n",
       " lp[4]         0.66    0.06   2.07   0.06   0.14    0.3    0.7   3.07   1038    1.0\n",
       " lp[5]         0.66    0.06   2.07   0.06   0.14    0.3    0.7   3.07   1038    1.0\n",
       " lp[6]         0.66    0.06   2.07   0.06   0.14    0.3    0.7   3.07   1038    1.0\n",
       " lp[7]         0.66    0.06   2.07   0.06   0.14    0.3    0.7   3.07   1038    1.0\n",
       " lp[8]         0.66    0.06   2.07   0.06   0.14    0.3    0.7   3.07   1038    1.0\n",
       " lp[9]         0.66    0.06   2.07   0.06   0.14    0.3    0.7   3.07   1038    1.0\n",
       " lp[10]        0.66    0.06   2.07   0.06   0.14    0.3    0.7   3.07   1038    1.0\n",
       " lp[11]        0.66    0.06   2.07   0.06   0.14    0.3    0.7   3.07   1038    1.0\n",
       " lp[12]        0.66    0.06   2.07   0.06   0.14    0.3    0.7   3.07   1038    1.0\n",
       " lp[13]        0.66    0.06   2.07   0.06   0.14    0.3    0.7   3.07   1038    1.0\n",
       " lp[14]        0.66    0.06   2.07   0.06   0.14    0.3    0.7   3.07   1038    1.0\n",
       " lp[15]        0.66    0.06   2.07   0.06   0.14    0.3    0.7   3.07   1038    1.0\n",
       " lp[16]        0.66    0.06   2.07   0.06   0.14    0.3    0.7   3.07   1038    1.0\n",
       " lp[17]        0.66    0.06   2.07   0.06   0.14    0.3    0.7   3.07   1038    1.0\n",
       " lp[18]        0.66    0.06   2.07   0.06   0.14    0.3    0.7   3.07   1038    1.0\n",
       " lp[19]        0.66    0.06   2.07   0.06   0.14    0.3    0.7   3.07   1038    1.0\n",
       " lp[20]        0.66    0.06   2.07   0.06   0.14    0.3    0.7   3.07   1038    1.0\n",
       " lp[21]        0.66    0.06   2.07   0.06   0.14    0.3    0.7   3.07   1038    1.0\n",
       " lp[22]        0.66    0.06   2.07   0.06   0.14    0.3    0.7   3.07   1038    1.0\n",
       " lp[23]        0.66    0.06   2.07   0.06   0.14    0.3    0.7   3.07   1038    1.0\n",
       " lp[24]        0.66    0.06   2.07   0.06   0.14    0.3    0.7   3.07   1038    1.0\n",
       " lp[25]        0.66    0.06   2.07   0.06   0.14    0.3    0.7   3.07   1038    1.0\n",
       " lp[26]        0.66    0.06   2.07   0.06   0.14    0.3    0.7   3.07   1038    1.0\n",
       " lp[27]        0.66    0.06   2.07   0.06   0.14    0.3    0.7   3.07   1038    1.0\n",
       " lp[28]        0.66    0.06   2.07   0.06   0.14    0.3    0.7   3.07   1038    1.0\n",
       " lp[29]        0.66    0.06   2.07   0.06   0.14    0.3    0.7   3.07   1038    1.0\n",
       " lp[30]        0.66    0.06   2.07   0.06   0.14    0.3    0.7   3.07   1038    1.0\n",
       " lp[31]        0.66    0.06   2.07   0.06   0.14    0.3    0.7   3.07   1038    1.0\n",
       " lp[32]        0.66    0.06   2.07   0.06   0.14    0.3    0.7   3.07   1038    1.0\n",
       " lp[33]        0.66    0.06   2.07   0.06   0.14    0.3    0.7   3.07   1038    1.0\n",
       " lp[34]        0.66    0.06   2.07   0.06   0.14    0.3    0.7   3.07   1038    1.0\n",
       " lp[35]        0.66    0.06   2.07   0.06   0.14    0.3    0.7   3.07   1038    1.0\n",
       " lp[36]        0.66    0.06   2.07   0.06   0.14    0.3    0.7   3.07   1038    1.0\n",
       " lp[37]        0.66    0.06   2.07   0.06   0.14    0.3    0.7   3.07   1038    1.0\n",
       " lp[38]        0.66    0.06   2.07   0.06   0.14    0.3    0.7   3.07   1038    1.0\n",
       " lp[39]        0.66    0.06   2.07   0.06   0.14    0.3    0.7   3.07   1038    1.0\n",
       " lp[40]        0.66    0.06   2.07   0.06   0.14    0.3    0.7   3.07   1038    1.0\n",
       " lp[41]        0.66    0.06   2.07   0.06   0.14    0.3    0.7   3.07   1038    1.0\n",
       " lp[42]        0.66    0.06   2.07   0.06   0.14    0.3    0.7   3.07   1038    1.0\n",
       " lp[43]        0.66    0.06   2.07   0.06   0.14    0.3    0.7   3.07   1038    1.0\n",
       " lp[44]        0.66    0.06   2.07   0.06   0.14    0.3    0.7   3.07   1038    1.0\n",
       " lp[45]        0.66    0.06   2.07   0.06   0.14    0.3    0.7   3.07   1038    1.0\n",
       " lp[46]        0.66    0.06   2.07   0.06   0.14    0.3    0.7   3.07   1038    1.0\n",
       " lp[47]        0.66    0.06   2.07   0.06   0.14    0.3    0.7   3.07   1038    1.0\n",
       " lp[48]        0.66    0.06   2.07   0.06   0.14    0.3    0.7   3.07   1038    1.0\n",
       " lp[49]        0.66    0.06   2.07   0.06   0.14    0.3    0.7   3.07   1038    1.0\n",
       " lp[50]        0.66    0.06   2.07   0.06   0.14    0.3    0.7   3.07   1038    1.0\n",
       " lp[51]        0.66    0.06   2.07   0.06   0.14    0.3    0.7   3.07   1038    1.0\n",
       " lp[52]        0.66    0.06   2.07   0.06   0.14    0.3    0.7   3.07   1038    1.0\n",
       " lp[53]        0.66    0.06   2.07   0.06   0.14    0.3    0.7   3.07   1038    1.0\n",
       " lp[54]        0.66    0.06   2.07   0.06   0.14    0.3    0.7   3.07   1038    1.0\n",
       " lp[55]        0.66    0.06   2.07   0.06   0.14    0.3    0.7   3.07   1038    1.0\n",
       " lp[56]        0.66    0.06   2.07   0.06   0.14    0.3    0.7   3.07   1038    1.0\n",
       " lp[57]        0.66    0.06   2.07   0.06   0.14    0.3    0.7   3.07   1038    1.0\n",
       " lp[58]        0.66    0.06   2.07   0.06   0.14    0.3    0.7   3.07   1038    1.0\n",
       " lp[59]        0.66    0.06   2.07   0.06   0.14    0.3    0.7   3.07   1038    1.0\n",
       " lp[60]        0.66    0.06   2.07   0.06   0.14    0.3    0.7   3.07   1038    1.0\n",
       " lp[61]        0.66    0.06   2.07   0.06   0.14    0.3    0.7   3.07   1038    1.0\n",
       " lp[62]        0.66    0.06   2.07   0.06   0.14    0.3    0.7   3.07   1038    1.0\n",
       " lp[63]        0.66    0.06   2.07   0.06   0.14    0.3    0.7   3.07   1038    1.0\n",
       " lp[64]        0.66    0.06   2.07   0.06   0.14    0.3    0.7   3.07   1038    1.0\n",
       " lp[65]        0.66    0.06   2.07   0.06   0.14    0.3    0.7   3.07   1038    1.0\n",
       " lp[66]        0.66    0.06   2.07   0.06   0.14    0.3    0.7   3.07   1038    1.0\n",
       " lp[67]        0.66    0.06   2.07   0.06   0.14    0.3    0.7   3.07   1038    1.0\n",
       " lp[68]        0.66    0.06   2.07   0.06   0.14    0.3    0.7   3.07   1038    1.0\n",
       " lp[69]        0.66    0.06   2.07   0.06   0.14    0.3    0.7   3.07   1038    1.0\n",
       " lp[70]        0.66    0.06   2.07   0.06   0.14    0.3    0.7   3.07   1038    1.0\n",
       " lp[71]        0.66    0.06   2.07   0.06   0.14    0.3    0.7   3.07   1038    1.0\n",
       " lp[72]        0.66    0.06   2.07   0.06   0.14    0.3    0.7   3.07   1038    1.0\n",
       " lp[73]        0.66    0.06   2.07   0.06   0.14    0.3    0.7   3.07   1038    1.0\n",
       " lp[74]        0.66    0.06   2.07   0.06   0.14    0.3    0.7   3.07   1038    1.0\n",
       " lp[75]        0.66    0.06   2.07   0.06   0.14    0.3    0.7   3.07   1038    1.0\n",
       " lp[76]        0.66    0.06   2.07   0.06   0.14    0.3    0.7   3.07   1038    1.0\n",
       " lp[77]        0.66    0.06   2.07   0.06   0.14    0.3    0.7   3.07   1038    1.0\n",
       " lp[78]        0.66    0.06   2.07   0.06   0.14    0.3    0.7   3.07   1038    1.0\n",
       " lp[79]        0.66    0.06   2.07   0.06   0.14    0.3    0.7   3.07   1038    1.0\n",
       " lp[80]        0.66    0.06   2.07   0.06   0.14    0.3    0.7   3.07   1038    1.0\n",
       " lp[81]        0.66    0.06   2.07   0.06   0.14    0.3    0.7   3.07   1038    1.0\n",
       " lp[82]        0.66    0.06   2.07   0.06   0.14    0.3    0.7   3.07   1038    1.0\n",
       " lp[83]        0.66    0.06   2.07   0.06   0.14    0.3    0.7   3.07   1038    1.0\n",
       " lp[84]        0.66    0.06   2.07   0.06   0.14    0.3    0.7   3.07   1038    1.0\n",
       " lp[85]        0.66    0.06   2.07   0.06   0.14    0.3    0.7   3.07   1038    1.0\n",
       " lp[86]        0.66    0.06   2.07   0.06   0.14    0.3    0.7   3.07   1038    1.0\n",
       " lp[87]        0.66    0.06   2.07   0.06   0.14    0.3    0.7   3.07   1038    1.0\n",
       " lp[88]        0.66    0.06   2.07   0.06   0.14    0.3    0.7   3.07   1038    1.0\n",
       " lp[89]        0.66    0.06   2.07   0.06   0.14    0.3    0.7   3.07   1038    1.0\n",
       " lp[90]        0.66    0.06   2.07   0.06   0.14    0.3    0.7   3.07   1038    1.0\n",
       " lp[91]        0.66    0.06   2.07   0.06   0.14    0.3    0.7   3.07   1038    1.0\n",
       " lp[92]        0.66    0.06   2.07   0.06   0.14    0.3    0.7   3.07   1038    1.0\n",
       " lp[93]        0.66    0.06   2.07   0.06   0.14    0.3    0.7   3.07   1038    1.0\n",
       " lp[94]        0.66    0.06   2.07   0.06   0.14    0.3    0.7   3.07   1038    1.0\n",
       " lp__        -653.2    0.09   1.89 -657.7 -654.3 -652.9 -651.7 -650.5    416   1.02\n",
       " \n",
       " Samples were drawn using NUTS at Tue Jul 23 11:24:03 2019.\n",
       " For each parameter, n_eff is a crude measure of effective sample size,\n",
       " and Rhat is the potential scale reduction factor on split chains (at \n",
       " convergence, Rhat=1)., 'coefs':       iter   variable     value  exp(beta) model_cohort    group\n",
       " 0        0  Intercept  1.435242   4.200661    exp model  Overall\n",
       " 1        1  Intercept -2.062401   0.127148    exp model  Overall\n",
       " 2        2  Intercept -1.167477   0.311151    exp model  Overall\n",
       " 3        3  Intercept -0.806036   0.446625    exp model  Overall\n",
       " 4        4  Intercept -1.704878   0.181795    exp model  Overall\n",
       " ...    ...        ...       ...        ...          ...      ...\n",
       " 3995  3995  Intercept -1.511536   0.220571    exp model  Overall\n",
       " 3996  3996  Intercept -1.160688   0.313271    exp model  Overall\n",
       " 3997  3997  Intercept  0.022678   1.022938    exp model  Overall\n",
       " 3998  3998  Intercept -2.077040   0.125300    exp model  Overall\n",
       " 3999  3999  Intercept -1.180336   0.307175    exp model  Overall\n",
       " \n",
       " [4000 rows x 6 columns], 'grp_coefs':       iter   variable     value  exp(beta) model_cohort    group\n",
       " 0        0  Intercept  1.435242   4.200661    exp model  Overall\n",
       " 1        1  Intercept -2.062401   0.127148    exp model  Overall\n",
       " 2        2  Intercept -1.167477   0.311151    exp model  Overall\n",
       " 3        3  Intercept -0.806036   0.446625    exp model  Overall\n",
       " 4        4  Intercept -1.704878   0.181795    exp model  Overall\n",
       " ...    ...        ...       ...        ...          ...      ...\n",
       " 3995  3995  Intercept -1.511536   0.220571    exp model  Overall\n",
       " 3996  3996  Intercept -1.160688   0.313271    exp model  Overall\n",
       " 3997  3997  Intercept  0.022678   1.022938    exp model  Overall\n",
       " 3998  3998  Intercept -2.077040   0.125300    exp model  Overall\n",
       " 3999  3999  Intercept -1.180336   0.307175    exp model  Overall\n",
       " \n",
       " [4000 rows x 6 columns], 'loo': <stanity.psisloo.Psisloo at 0x13dc0dc50>, 'model_cohort': 'exp model', 'df_all':         true_t          t  event     sex  age  index\n",
       " 0     2.225285   2.225285   True    male   52      0\n",
       " 1     1.394729   1.394729   True    male   55      1\n",
       " 2     5.975046   5.975046   True  female   61      2\n",
       " 3     5.668242   5.668242   True    male   67      3\n",
       " 4    13.302080  13.302080   True  female   47      4\n",
       " ..         ...        ...    ...     ...  ...    ...\n",
       " 195   3.766630   3.766630   True    male   54    195\n",
       " 196   1.404374   1.404374   True  female   51    196\n",
       " 197   9.087744   9.087744   True    male   59    197\n",
       " 198  26.227718  26.227718   True  female   48    198\n",
       " 199   4.078527   4.078527   True  female   55    199\n",
       " \n",
       " [200 rows x 6 columns], 'sample_col': None, 'sample_id_col': None, 'timepoint_id_col': None, 'timepoint_end_col': None}"
      ]
     },
     "execution_count": 95,
     "metadata": {},
     "output_type": "execute_result"
    }
   ],
   "source": [
    "fit1"
   ]
  },
  {
   "cell_type": "code",
   "execution_count": null,
   "metadata": {},
   "outputs": [],
   "source": []
  },
  {
   "cell_type": "code",
   "execution_count": null,
   "metadata": {},
   "outputs": [],
   "source": []
  },
  {
   "cell_type": "code",
   "execution_count": 71,
   "metadata": {
    "colab": {
     "base_uri": "https://localhost:8080/",
     "height": 195
    },
    "colab_type": "code",
    "id": "bPHPAULW7Xy-",
    "outputId": "081113a1-95fa-4522-f295-5cb1d6672127"
   },
   "outputs": [],
   "source": [
    "# Simulate data\n",
    "# Model: exp(-3*t) * exp(0.5*sex)\n",
    "\n",
    "# Sim\n",
    "df2 = survivalstan.sim.sim_data_exp_correlated(\n",
    "    N=500, censor_time=20, rate_form='1 + sex', rate_coefs=[-3, 0.5])\n",
    "\n",
    "# Replace strings\n",
    "df2['sex_fac'] = df2['sex'].apply(lambda x: 1 if x == 'male' else 0)\n",
    "df2['event_fac'] = df2['event'].apply(lambda x: 1 if x == 'True' else 0)\n",
    "\n",
    "# Write to file\n",
    "df2.to_csv('exp.dat')\n",
    "\n",
    "# Prepare data input\n",
    "x = df2[['age', 'sex_fac']].to_numpy()\n",
    "\n",
    "data = dict(N = len(df2),\n",
    "            M = 2,\n",
    "            x = x,\n",
    "            y = df2['t'],\n",
    "            event = df2['event_fac'])"
   ]
  },
  {
   "cell_type": "code",
   "execution_count": 72,
   "metadata": {},
   "outputs": [
    {
     "data": {
      "text/html": [
       "<div>\n",
       "<style scoped>\n",
       "    .dataframe tbody tr th:only-of-type {\n",
       "        vertical-align: middle;\n",
       "    }\n",
       "\n",
       "    .dataframe tbody tr th {\n",
       "        vertical-align: top;\n",
       "    }\n",
       "\n",
       "    .dataframe thead th {\n",
       "        text-align: right;\n",
       "    }\n",
       "</style>\n",
       "<table border=\"1\" class=\"dataframe\">\n",
       "  <thead>\n",
       "    <tr style=\"text-align: right;\">\n",
       "      <th></th>\n",
       "      <th>sex</th>\n",
       "      <th>age</th>\n",
       "      <th>rate</th>\n",
       "      <th>true_t</th>\n",
       "      <th>t</th>\n",
       "      <th>event</th>\n",
       "      <th>index</th>\n",
       "      <th>sex_fac</th>\n",
       "      <th>event_fac</th>\n",
       "    </tr>\n",
       "  </thead>\n",
       "  <tbody>\n",
       "    <tr>\n",
       "      <th>0</th>\n",
       "      <td>male</td>\n",
       "      <td>63</td>\n",
       "      <td>0.082085</td>\n",
       "      <td>15.855396</td>\n",
       "      <td>15.855396</td>\n",
       "      <td>True</td>\n",
       "      <td>0</td>\n",
       "      <td>1</td>\n",
       "      <td>0</td>\n",
       "    </tr>\n",
       "    <tr>\n",
       "      <th>1</th>\n",
       "      <td>female</td>\n",
       "      <td>51</td>\n",
       "      <td>0.049787</td>\n",
       "      <td>5.354489</td>\n",
       "      <td>5.354489</td>\n",
       "      <td>True</td>\n",
       "      <td>1</td>\n",
       "      <td>0</td>\n",
       "      <td>0</td>\n",
       "    </tr>\n",
       "    <tr>\n",
       "      <th>2</th>\n",
       "      <td>male</td>\n",
       "      <td>47</td>\n",
       "      <td>0.082085</td>\n",
       "      <td>6.303516</td>\n",
       "      <td>6.303516</td>\n",
       "      <td>True</td>\n",
       "      <td>2</td>\n",
       "      <td>1</td>\n",
       "      <td>0</td>\n",
       "    </tr>\n",
       "    <tr>\n",
       "      <th>3</th>\n",
       "      <td>female</td>\n",
       "      <td>54</td>\n",
       "      <td>0.049787</td>\n",
       "      <td>39.246327</td>\n",
       "      <td>20.000000</td>\n",
       "      <td>False</td>\n",
       "      <td>3</td>\n",
       "      <td>0</td>\n",
       "      <td>0</td>\n",
       "    </tr>\n",
       "    <tr>\n",
       "      <th>4</th>\n",
       "      <td>male</td>\n",
       "      <td>47</td>\n",
       "      <td>0.082085</td>\n",
       "      <td>39.279712</td>\n",
       "      <td>20.000000</td>\n",
       "      <td>False</td>\n",
       "      <td>4</td>\n",
       "      <td>1</td>\n",
       "      <td>0</td>\n",
       "    </tr>\n",
       "  </tbody>\n",
       "</table>\n",
       "</div>"
      ],
      "text/plain": [
       "      sex  age      rate     true_t          t  event  index  sex_fac  \\\n",
       "0    male   63  0.082085  15.855396  15.855396   True      0        1   \n",
       "1  female   51  0.049787   5.354489   5.354489   True      1        0   \n",
       "2    male   47  0.082085   6.303516   6.303516   True      2        1   \n",
       "3  female   54  0.049787  39.246327  20.000000  False      3        0   \n",
       "4    male   47  0.082085  39.279712  20.000000  False      4        1   \n",
       "\n",
       "   event_fac  \n",
       "0          0  \n",
       "1          0  \n",
       "2          0  \n",
       "3          0  \n",
       "4          0  "
      ]
     },
     "execution_count": 72,
     "metadata": {},
     "output_type": "execute_result"
    }
   ],
   "source": [
    "df2.head()"
   ]
  },
  {
   "cell_type": "code",
   "execution_count": 73,
   "metadata": {
    "colab": {
     "base_uri": "https://localhost:8080/",
     "height": 282
    },
    "colab_type": "code",
    "id": "LDE3hcTY7XzC",
    "outputId": "69d92158-0c23-4cf2-81d5-bdefc0342026"
   },
   "outputs": [
    {
     "data": {
      "text/plain": [
       "<matplotlib.legend.Legend at 0x13db63048>"
      ]
     },
     "execution_count": 73,
     "metadata": {},
     "output_type": "execute_result"
    },
    {
     "data": {
      "image/png": "[encoded data removed]",
      "text/plain": [
       "<Figure size 432x288 with 1 Axes>"
      ]
     },
     "metadata": {
      "needs_background": "light"
     },
     "output_type": "display_data"
    }
   ],
   "source": [
    "survivalstan.utils.plot_observed_survival(\n",
    "    df2.query('sex_fac == 1'),\n",
    "    time_col='t',\n",
    "    event_col='event_fac',\n",
    "    label='female: 1')\n",
    "\n",
    "survivalstan.utils.plot_observed_survival(\n",
    "    df2.query('sex_fac == 0'),\n",
    "    time_col='t',\n",
    "    event_col='event_fac',\n",
    "    label='male: 0')\n",
    "\n",
    "plt.legend()"
   ]
  },
  {
   "cell_type": "code",
   "execution_count": 58,
   "metadata": {},
   "outputs": [
    {
     "name": "stdout",
     "output_type": "stream",
     "text": [
      "functions {\n",
      "  vector sqrt_vec(vector x) {\n",
      "    vector[dims(x)[1]] res;\n",
      "\n",
      "    for (m in 1:dims(x)[1]){\n",
      "      res[m] = sqrt(x[m]);\n",
      "    }\n",
      "\n",
      "    return res;\n",
      "  }\n",
      "\n",
      "  vector bg_prior_lp(real r_global, vector r_local) {\n",
      "    r_global ~ normal(0.0, 10.0);\n",
      "    r_local ~ inv_chi_square(1.0);\n",
      "\n",
      "    return r_global * sqrt_vec(r_local);\n",
      "  }\n",
      "}\n",
      "data {\n",
      "  // dimensions\n",
      "  int<lower=0> N;             // number of observations\n",
      "  int<lower=1> M;             // number of predictors\n",
      "  \n",
      "  // observations\n",
      "  matrix[N, M] x;             // predictors for observation n\n",
      "  vector[N] y;                // time for observation n\n",
      "  vector[N] event;            // event status (1:event, 0:censor) for obs n\n",
      "}\n",
      "parameters {\n",
      "  real<lower=0> tau_s_raw;\n",
      "  vector<lower=0>[M] tau_raw;\n",
      "  vector[M] beta_raw;\n",
      "  real<lower=0> alpha;\n",
      "}\n",
      "transformed parameters {\n",
      "  vector[M] beta;\n",
      "  vector[N] lp;\n",
      "\n",
      "  beta = bg_prior_lp(tau_s_raw, tau_raw) .* beta_raw;\n",
      "  for (n in 1:N) {\n",
      "    lp[n] = exp(dot_product(x[n], beta));\n",
      "  }\n",
      "}\n",
      "model {\n",
      "  // priors\n",
      "  target += normal_lpdf(beta_raw | 0.0, 1.0);\n",
      "  target += normal_lpdf(alpha | 0.0, 1.0);\n",
      "\n",
      "  // likelihood\n",
      "  for (n in 1:N) {\n",
      "      if (event[n]==1)\n",
      "          target += exponential_lpdf(y[n] | (lp[n] * alpha));\n",
      "      else\n",
      "          target += exponential_lccdf(y[n] | (lp[n] * alpha));\n",
      "  }\n",
      "}\n",
      "generated quantities {\n",
      "  vector[N] yhat_uncens;\n",
      "  vector[N] log_lik;\n",
      "  \n",
      "  for (n in 1:N) {\n",
      "      yhat_uncens[n] = exponential_rng((lp[n] * alpha));\n",
      "      if (event[n]==1) {\n",
      "          log_lik[n] = exponential_log(y[n], (lp[n] * alpha));\n",
      "      } else {\n",
      "          log_lik[n] = exponential_ccdf_log(y[n], (lp[n] * alpha));\n",
      "      }\n",
      "  }\n",
      "}\n",
      "\n"
     ]
    }
   ],
   "source": [
    "# Model used\n",
    "src_model = survivalstan.models.exp_survival_model\n",
    "\n",
    "with open('exp.stan', 'w') as myf:\n",
    "    print(src_model, file = myf)\n",
    "    \n",
    "print(src_model)"
   ]
  },
  {
   "cell_type": "code",
   "execution_count": 22,
   "metadata": {},
   "outputs": [
    {
     "name": "stderr",
     "output_type": "stream",
     "text": [
      "INFO:pystan:COMPILING THE C++ CODE FOR MODEL anon_model_91316d735f21b5036c0bdb7c109cc12d NOW.\n"
     ]
    }
   ],
   "source": [
    "# Compile model\n",
    "model = stan_utility.compile_model('exp.stan')"
   ]
  },
  {
   "cell_type": "code",
   "execution_count": 74,
   "metadata": {},
   "outputs": [
    {
     "name": "stderr",
     "output_type": "stream",
     "text": [
      "WARNING:pystan:Maximum (flat) parameter count (1000) exceeded: skipping diagnostic tests for n_eff and Rhat.\n",
      "To run all diagnostics call pystan.check_hmc_diagnostics(fit)\n",
      "WARNING:pystan:6044 of 10000 iterations ended with a divergence (60.4 %).\n",
      "WARNING:pystan:Try running with adapt_delta larger than 0.99 to remove the divergences.\n",
      "WARNING:pystan:Chain 1: E-BFMI = 0.023\n",
      "WARNING:pystan:E-BFMI below 0.2 indicates you may need to reparameterize your model\n",
      "WARNING:pystan:n_eff / iter below 0.001 indicates that the effective sample size has likely been overestimated\n",
      "WARNING:pystan:Rhat above 1.1 or below 0.9 indicates that the chains very likely have not mixed\n",
      "WARNING:pystan:6044 of 10000 iterations ended with a divergence (60.4 %).\n",
      "WARNING:pystan:Try running with adapt_delta larger than 0.99 to remove the divergences.\n",
      "WARNING:pystan:Chain 1: E-BFMI = 0.023\n",
      "WARNING:pystan:E-BFMI below 0.2 indicates you may need to reparameterize your model\n"
     ]
    },
    {
     "data": {
      "text/plain": [
       "{'n_eff': False,\n",
       " 'Rhat': False,\n",
       " 'divergence': False,\n",
       " 'treedepth': True,\n",
       " 'energy': False}"
      ]
     },
     "execution_count": 74,
     "metadata": {},
     "output_type": "execute_result"
    }
   ],
   "source": [
    "# Infer parameters\n",
    "Niter = 10000\n",
    "Nchains = 2\n",
    "\n",
    "ctrl = {'max_treedepth': 20,\n",
    "        'adapt_delta': 0.99}\n",
    "\n",
    "fit = model.sampling(data = data, \n",
    "                     chains = Nchains,\n",
    "                     iter = Niter,\n",
    "                     # warmup = 9000,\n",
    "                     control = ctrl,\n",
    "                     seed=194838)\n",
    "\n",
    "pystan.check_hmc_diagnostics(fit)"
   ]
  },
  {
   "cell_type": "code",
   "execution_count": 75,
   "metadata": {},
   "outputs": [
    {
     "name": "stderr",
     "output_type": "stream",
     "text": [
      "WARNING:pystan:Truncated summary with the 'fit.__repr__' method. For the full summary use 'print(fit)'\n"
     ]
    },
    {
     "data": {
      "text/plain": [
       "\n",
       "Warning: Shown data is truncated to 100 parameters\n",
       "For the full summary use 'print(fit)'\n",
       "\n",
       "Inference for Stan model: anon_model_91316d735f21b5036c0bdb7c109cc12d.\n",
       "2 chains, each with iter=10000; warmup=5000; thin=1; \n",
       "post-warmup draws per chain=5000, total post-warmup draws=10000.\n",
       "\n",
       "              mean se_mean     sd   2.5%    25%    50%    75%  97.5%  n_eff   Rhat\n",
       "tau_s_raw     5.71    0.09   3.49   0.75   4.79    5.3    5.3   15.7   1398   1.01\n",
       "tau_raw[1]   12.81    7.05  93.01   0.24   0.78   0.78   1.35  38.63    174   1.03\n",
       "tau_raw[2]   55.75   18.74 689.95   0.26   0.84   0.84   1.79 177.23   1355    1.0\n",
       "beta_raw[1]-7.1e-3    0.66   0.71   -1.6  -0.52   0.31   0.62   0.62      1   2.33\n",
       "beta_raw[2]  -0.61    0.68   0.92  -1.57  -1.21  -1.21  -0.01   1.66      2   1.42\n",
       "alpha         1.16    0.42   0.56   0.06   0.67   1.52   1.52   1.92      2   1.43\n",
       "beta[1]      -0.34    3.41   3.71  -8.38  -3.03    1.4   2.88   2.92      1   2.28\n",
       "beta[2]      -4.25    0.54  22.77 -37.42  -5.89  -5.89  -0.05  22.76   1777    1.0\n",
       "lp[1]       5.4e76  6.4e76 4.5e774.3e-2311.1e-84 1.1e76 2.2e76 1.6e77     48   1.02\n",
       "lp[2]       1.0e64  1.2e64 5.1e642.1e-1866.0e-68 3.8e63 7.6e63 3.8e64     19   1.05\n",
       "lp[3]       2.3e56  2.7e56 9.6e562.1e-1732.6e-63 1.0e56 2.0e56 8.9e56     13   1.07\n",
       "lp[4]       6.6e67  7.6e67 3.8e682.6e-1976.7e-72 2.2e67 4.3e67 2.4e68     25   1.04\n",
       "lp[5]       2.3e56  2.7e56 9.6e562.1e-1732.6e-63 1.0e56 2.0e56 8.9e56     13   1.07\n",
       "lp[6]       4.2e71  5.0e71 3.0e726.5e-2172.8e-79 1.1e71 2.2e71 1.4e72     37   1.03\n",
       "lp[7]       1.3e83  1.6e83 1.3e845.5e-2492.1e-91 2.1e82 4.1e82 3.5e83     64   1.02\n",
       "lp[8]       2.8e61  3.2e61 1.4e621.3e-1871.1e-68 1.0e61 2.1e61 1.0e62     19   1.05\n",
       "lp[9]       1.5e74  1.8e74 1.1e751.6e-2151.7e-78 4.0e73 7.9e73 5.1e74     37   1.03\n",
       "lp[10]      1.0e64  1.2e64 5.1e642.1e-1866.0e-68 3.8e63 7.6e63 3.8e64     19   1.05\n",
       "lp[11]      8.0e72  9.4e72 5.9e732.4e-2201.6e-80 2.0e72 3.9e72 2.6e73     40   1.03\n",
       "lp[12]      5.0e43  5.8e43 1.3e445.0e-1374.4e-50 3.0e43 6.1e43 1.9e44      5   1.17\n",
       "lp[13]      2.6e84  3.1e84 2.4e851.2e-2444.9e-89 4.2e83 8.3e83 6.8e84     61   1.02\n",
       "lp[14]      6.7e53  7.7e53 2.5e545.7e-1661.2e-60 3.2e53 6.4e53 2.6e54     11   1.08\n",
       "lp[15]      6.5e90  7.9e90 7.0e917.5e-2631.3e-95 7.6e89 1.5e90 1.5e91     78   1.01\n",
       "lp[16]      9.4e86  1.1e87 9.8e873.6e-2601.8e-95 1.2e86 2.4e86 2.2e87     75   1.02\n",
       "lp[17]      2.9e61  3.3e61 1.3e624.1e-1792.6e-65 1.2e61 2.4e61 1.1e62     16   1.06\n",
       "lp[18]      6.4e67  7.4e67 4.0e685.5e-2063.0e-75 1.9e67 3.8e67 2.2e68     29   1.03\n",
       "lp[19]      1.0e78  1.2e78 8.7e781.0e-2345.2e-86 2.0e77 4.0e77 3.0e78     51   1.02\n",
       "lp[20]      2.9e75  3.4e75 2.3e761.7e-2272.6e-83 6.3e74 1.3e75 8.8e75     45   1.02\n",
       "lp[21]      2.9e75  3.4e75 2.1e763.7e-2198.2e-80 7.1e74 1.4e75 9.4e75     40   1.03\n",
       "lp[22]      4.6e94  5.6e94 5.3e959.0e-2741.4e-99 4.4e93 8.7e93 9.2e94     89   1.01\n",
       "lp[23]      9.4e86  1.1e87 9.8e873.6e-2601.8e-95 1.2e86 2.4e86 2.2e87     75   1.02\n",
       "lp[24]      1.3e92  1.5e92 1.4e931.7e-2666.0e-97 1.4e91 2.7e91 2.7e92     82   1.01\n",
       "lp[25]      2.0e79  2.3e79 1.7e802.8e-2382.5e-87 3.6e78 7.2e78 5.5e79     55   1.02\n",
       "lp[26]      2.0e79  2.3e79 1.6e804.4e-2309.2e-84 4.1e78 8.1e78 5.9e79     48   1.02\n",
       "lp[27]      2.3e70  2.7e70 1.5e711.3e-2041.5e-74 6.9e69 1.4e70 8.1e70     29   1.03\n",
       "lp[28]      2.9e75  3.4e75 2.3e761.7e-2272.6e-83 6.3e74 1.3e75 8.8e75     45   1.02\n",
       "lp[29]      2.1e51  2.4e51 6.4e515.4e-1509.1e-55 1.1e51 2.3e51 8.2e51      7   1.11\n",
       "lp[30]      2.9e61  3.3e61 1.3e624.1e-1792.6e-65 1.2e61 2.4e61 1.1e62     16   1.06\n",
       "lp[31]      4.2e71  5.0e71 3.0e726.5e-2172.8e-79 1.1e71 2.2e71 1.4e72     37   1.03\n",
       "lp[32]      4.3e71  5.1e71 2.8e723.1e-2087.4e-76 1.2e71 2.5e71 1.5e72     32   1.03\n",
       "lp[33]      8.0e58  9.2e58 3.7e591.0e-1804.9e-66 3.3e58 6.5e58 3.0e59     16   1.06\n",
       "lp[34]      1.2e69  1.4e69 7.8e691.2e-2091.4e-76 3.4e68 6.9e68 4.1e69     32   1.03\n",
       "lp[35]      1.0e64  1.2e64 5.1e642.1e-1866.0e-68 3.8e63 7.6e63 3.8e64     19   1.05\n",
       "lp[36]      2.0e79  2.3e79 1.7e802.8e-2382.5e-87 3.6e78 7.2e78 5.5e79     55   1.02\n",
       "lp[37]      1.9e65  2.2e65 9.9e654.9e-1902.9e-69 6.8e64 1.4e65 6.9e65     21   1.04\n",
       "lp[38]      1.2e69  1.4e69 7.4e695.9e-2013.2e-73 3.9e68 7.8e68 4.4e69     27   1.04\n",
       "lp[39]      3.5e66  4.1e66 1.9e671.1e-1931.4e-70 1.2e66 2.4e66 1.3e67     23   1.04\n",
       "lp[40]      1.8e88  2.1e88 1.8e891.4e-2555.4e-93 2.4e87 4.8e87 4.3e88     71   1.02\n",
       "lp[41]      2.8e61  3.2e61 1.4e621.3e-1871.1e-68 1.0e61 2.1e61 1.0e62     19   1.05\n",
       "lp[42]      3.4e66  3.9e66 2.0e672.5e-2026.6e-74 1.1e66 2.1e66 1.2e67     27   1.04\n",
       "lp[43]      2.9e75  3.4e75 2.1e763.7e-2198.2e-80 7.1e74 1.4e75 9.4e75     40   1.03\n",
       "lp[44]      3.5e66  4.1e66 1.9e671.1e-1931.4e-70 1.2e66 2.4e66 1.3e67     23   1.04\n",
       "lp[45]      1.5e74  1.8e74 1.2e756.1e-2246.3e-82 3.5e73 7.0e73 4.8e74     42   1.03\n",
       "lp[46]      2.9e61  3.3e61 1.3e624.1e-1792.6e-65 1.2e61 2.4e61 1.1e62     16   1.06\n",
       "lp[47]      3.5e66  4.1e66 1.9e671.1e-1931.4e-70 1.2e66 2.4e66 1.3e67     23   1.04\n",
       "lp[48]      1.8e65  2.1e65 1.0e667.8e-1991.4e-72 6.0e64 1.2e65 6.5e65     25   1.04\n",
       "lp[49]      1.5e74  1.8e74 1.2e756.1e-2246.3e-82 3.5e73 7.0e73 4.8e74     42   1.03\n",
       "lp[50]      1.8e65  2.1e65 1.0e667.8e-1991.4e-72 6.0e64 1.2e65 6.5e65     25   1.04\n",
       "lp[51]      8.0e72  9.4e72 5.9e732.4e-2201.6e-80 2.0e72 3.9e72 2.6e73     40   1.03\n",
       "lp[52]      1.3e83  1.6e83 1.3e845.5e-2492.1e-91 2.1e82 4.1e82 3.5e83     64   1.02\n",
       "lp[53]      2.4e93  3.0e93 2.9e943.2e-2782.1e-102 2.2e92 4.3e92 4.7e93     93   1.01\n",
       "lp[54]      2.8e61  3.2e61 1.4e621.3e-1871.1e-68 1.0e61 2.1e61 1.0e62     19   1.05\n",
       "lp[55]      2.3e70  2.7e70 1.5e711.3e-2041.5e-74 6.9e69 1.4e70 8.1e70     29   1.03\n",
       "lp[56]      2.2e70  2.6e70 1.5e712.5e-2136.5e-78 6.1e69 1.2e70 7.6e70     34   1.03\n",
       "lp[57]      8.0e72  9.4e72 5.9e732.4e-2201.6e-80 2.0e72 3.9e72 2.6e73     40   1.03\n",
       "lp[58]      1.0e78  1.2e78 8.2e781.9e-2261.9e-82 2.3e77 4.5e77 3.2e78     45   1.02\n",
       "lp[59]      1.3e55  1.5e55 4.7e556.5e-1611.0e-58 6.5e54 1.3e55 5.2e55     10   1.08\n",
       "lp[60]      2.3e56  2.7e56 9.6e562.1e-1732.6e-63 1.0e56 2.0e56 8.9e56     13   1.07\n",
       "lp[61]      2.9e75  3.4e75 2.3e761.7e-2272.6e-83 6.3e74 1.3e75 8.8e75     45   1.02\n",
       "lp[62]      8.2e72  9.5e72 5.6e737.0e-2123.6e-77 2.2e72 4.4e72 2.7e73     34   1.03\n",
       "lp[63]      3.4e66  3.9e66 2.0e672.5e-2026.6e-74 1.1e66 2.1e66 1.2e67     27   1.04\n",
       "lp[64]      2.9e61  3.3e61 1.3e624.1e-1792.6e-65 1.2e61 2.4e61 1.1e62     16   1.06\n",
       "lp[65]      4.3e57  4.9e57 1.9e584.8e-1771.1e-64 1.8e57 3.7e57 1.6e58     14   1.06\n",
       "lp[66]      1.3e83  1.6e83 1.2e845.3e-2411.0e-87 2.3e82 4.7e82 3.7e83     58   1.02\n",
       "lp[67]      6.4e67  7.4e67 4.0e685.5e-2063.0e-75 1.9e67 3.8e67 2.2e68     29   1.03\n",
       "lp[68]      2.3e70  2.7e70 1.5e711.3e-2041.5e-74 6.9e69 1.4e70 8.1e70     29   1.03\n",
       "lp[69]      2.4e56  2.8e56 9.2e561.5e-1644.9e-60 1.2e56 2.3e56 9.5e56     11   1.08\n",
       "lp[70]      2.4e56  2.8e56 9.2e561.5e-1644.9e-60 1.2e56 2.3e56 9.5e56     11   1.08\n",
       "lp[71]      2.9e75  3.4e75 2.1e763.7e-2198.2e-80 7.1e74 1.4e75 9.4e75     40   1.03\n",
       "lp[72]      8.2e72  9.5e72 5.6e737.0e-2123.6e-77 2.2e72 4.4e72 2.7e73     34   1.03\n",
       "lp[73]      3.5e89  4.2e89 3.8e903.6e-2673.2e-98 3.8e88 7.5e88 7.4e89     82   1.01\n",
       "lp[74]      1.2e69  1.4e69 7.4e695.9e-2013.2e-73 3.9e68 7.8e68 4.4e69     27   1.04\n",
       "lp[75]      1.3e55  1.5e55 4.7e556.5e-1611.0e-58 6.5e54 1.3e55 5.2e55     10   1.08\n",
       "lp[76]      2.9e75  3.4e75 2.3e761.7e-2272.6e-83 6.3e74 1.3e75 8.8e75     45   1.02\n",
       "lp[77]      9.6e63  1.1e64 5.3e644.1e-1952.8e-71 3.3e63 6.7e63 3.5e64     23   1.04\n",
       "lp[78]      1.5e74  1.8e74 1.2e756.1e-2246.3e-82 3.5e73 7.0e73 4.8e74     42   1.03\n",
       "lp[79]      3.7e80  4.4e80 3.2e811.0e-2334.4e-85 7.3e79 1.5e80 1.1e81     51   1.02\n",
       "lp[80]      3.5e66  4.1e66 1.9e671.1e-1931.4e-70 1.2e66 2.4e66 1.3e67     23   1.04\n",
       "lp[81]      7.1e81  8.4e81 6.2e822.3e-2372.1e-86 1.3e81 2.6e81 2.0e82     55   1.02\n",
       "lp[82]      2.8e61  3.2e61 1.4e621.3e-1871.1e-68 1.0e61 2.1e61 1.0e62     19   1.05\n",
       "lp[83]      2.9e75  3.4e75 2.1e763.7e-2198.2e-80 7.1e74 1.4e75 9.4e75     40   1.03\n",
       "lp[84]      8.4e58  9.7e58 3.5e597.8e-1721.1e-62 3.7e58 7.4e58 3.2e59     13   1.07\n",
       "lp[85]      6.6e67  7.6e67 3.8e682.6e-1976.7e-72 2.2e67 4.3e67 2.4e68     25   1.04\n",
       "lp[86]      2.4e56  2.8e56 9.2e561.5e-1644.9e-60 1.2e56 2.3e56 9.5e56     11   1.08\n",
       "lp[87]      1.2e69  1.4e69 7.8e691.2e-2091.4e-76 3.4e68 6.9e68 4.1e69     32   1.03\n",
       "lp[88]      1.5e60  1.7e60 7.2e604.7e-1842.5e-67 5.8e59 1.2e60 5.6e60     17   1.05\n",
       "lp[89]      1.9e65  2.2e65 9.9e654.9e-1902.9e-69 6.8e64 1.4e65 6.9e65     21   1.04\n",
       "lp[90]      1.2e69  1.4e69 7.4e695.9e-2013.2e-73 3.9e68 7.8e68 4.4e69     27   1.04\n",
       "lp[91]      5.2e62  6.0e62 2.7e632.3e-1915.2e-70 1.9e62 3.7e62 1.9e63     21   1.04\n",
       "lp__       -1.4e101 1.8e1011.8e102-2.4e101-2.0e100-1.0e100  -5.29  -3.29    104   1.01\n",
       "\n",
       "Samples were drawn using NUTS at Tue Jul 23 11:08:52 2019.\n",
       "For each parameter, n_eff is a crude measure of effective sample size,\n",
       "and Rhat is the potential scale reduction factor on split chains (at \n",
       "convergence, Rhat=1)."
      ]
     },
     "execution_count": 75,
     "metadata": {},
     "output_type": "execute_result"
    }
   ],
   "source": [
    "fit"
   ]
  },
  {
   "cell_type": "code",
   "execution_count": 78,
   "metadata": {
    "colab": {
     "base_uri": "https://localhost:8080/",
     "height": 205
    },
    "colab_type": "code",
    "id": "Fn3Y_4bi7XzF",
    "outputId": "75ec2420-1265-45c2-a45b-12356ff1b657"
   },
   "outputs": [
    {
     "name": "stderr",
     "output_type": "stream",
     "text": [
      "WARNING:pystan:DeprecationWarning: pystan.stan was deprecated in version 2.17 and will be removed in version 3.0. Compile and use a Stan program in separate steps.\n"
     ]
    },
    {
     "name": "stdout",
     "output_type": "stream",
     "text": [
      "Reusing model.\n"
     ]
    },
    {
     "name": "stderr",
     "output_type": "stream",
     "text": [
      "WARNING:pystan:Maximum (flat) parameter count (1000) exceeded: skipping diagnostic tests for n_eff and Rhat.\n",
      "To run all diagnostics call pystan.check_hmc_diagnostics(fit)\n",
      "WARNING:pystan:2537 of 10000 iterations ended with a divergence (25.4 %).\n",
      "WARNING:pystan:Try running with adapt_delta larger than 0.8 to remove the divergences.\n",
      "WARNING:pystan:3 of 10000 iterations saturated the maximum tree depth of 10 (0.03 %)\n",
      "WARNING:pystan:Run again with max_treedepth larger than 10 to avoid saturation\n"
     ]
    },
    {
     "name": "stdout",
     "output_type": "stream",
     "text": [
      "Ran in 166.092 sec.\n"
     ]
    }
   ],
   "source": [
    "# Infer parameters\n",
    "fit1 = survivalstan.fit_stan_survival_model(\n",
    "    df=df2,\n",
    "    time_col='t',\n",
    "    event_col='event',\n",
    "    model_code=survivalstan.models.exp_survival_model,\n",
    "    formula='~ age + sex',\n",
    "    model_cohort = 'exp model',\n",
    "    iter = Niter,\n",
    "    chains = Nchains,    \n",
    "    seed = 194838\n",
    ")"
   ]
  },
  {
   "cell_type": "code",
   "execution_count": 81,
   "metadata": {},
   "outputs": [
    {
     "name": "stderr",
     "output_type": "stream",
     "text": [
      "WARNING:pystan:Truncated summary with the 'fit.__repr__' method. For the full summary use 'print(fit)'\n"
     ]
    },
    {
     "data": {
      "text/plain": [
       "\n",
       "Warning: Shown data is truncated to 100 parameters\n",
       "For the full summary use 'print(fit)'\n",
       "\n",
       "Inference for Stan model: anon_model_0176fed484efbd961d78e8973c25ff98.\n",
       "2 chains, each with iter=10000; warmup=5000; thin=1; \n",
       "post-warmup draws per chain=5000, total post-warmup draws=10000.\n",
       "\n",
       "              mean se_mean     sd   2.5%    25%    50%    75%  97.5%  n_eff   Rhat\n",
       "tau_s_raw     0.34    0.08   0.23   0.02   0.15   0.33   0.48   0.86      7   1.11\n",
       "tau_raw[1]  376.59  161.21  1.2e4   0.21   0.46   1.66   8.39 575.78   5444    1.0\n",
       "tau_raw[2]    1.53    0.18   3.26   0.14   0.36   0.77   2.25   4.55    344   1.01\n",
       "beta_raw[1]   1.06    0.03   0.51   0.22   0.65   1.13   1.28    2.3    308   1.01\n",
       "beta_raw[2]   0.03  4.5e-3   0.14  -0.12-4.8e-3 1.9e-3   0.03   0.34    969   1.01\n",
       "alpha         0.05  1.9e-3   0.02   0.02   0.03   0.05   0.06   0.09     85   1.02\n",
       "beta[1]       0.39    0.01   0.11   0.16   0.33   0.39   0.47   0.61     57   1.04\n",
       "beta[2]     2.2e-3  9.9e-4 6.9e-3-9.9e-3-3.0e-3 8.6e-4 6.9e-3   0.02     49   1.03\n",
       "lp[1]         1.89    0.15   0.99   0.79   1.23   1.53   2.33   4.51     47   1.03\n",
       "lp[2]         1.19    0.07   0.47    0.6   0.86   1.05   1.43   2.37     48   1.03\n",
       "lp[3]         1.75     0.1   0.67   0.91   1.27   1.51   2.09   3.51     45   1.03\n",
       "lp[4]         1.21    0.07   0.51   0.58   0.85   1.05   1.46   2.49     48   1.03\n",
       "lp[5]         1.75     0.1   0.67   0.91   1.27   1.51   2.09   3.51     45   1.03\n",
       "lp[6]         1.85    0.13   0.91   0.82   1.24   1.52   2.27   4.24     46   1.03\n",
       "lp[7]         1.95    0.16   1.11   0.75   1.22   1.53   2.41   4.88     48   1.03\n",
       "lp[8]         1.78    0.11   0.75   0.88   1.26   1.52   2.15   3.74     45   1.03\n",
       "lp[9]         1.24    0.08   0.57   0.56   0.84   1.05   1.51   2.71     49   1.03\n",
       "lp[10]        1.19    0.07   0.47    0.6   0.86   1.05   1.43   2.37     48   1.03\n",
       "lp[11]        1.86    0.14   0.93   0.81   1.24   1.53   2.29    4.3     46   1.03\n",
       "lp[12]        1.67    0.08   0.51    1.0    1.3   1.51   1.95    3.0     45   1.03\n",
       "lp[13]         1.3     0.1    0.7   0.51   0.82   1.06   1.59   3.11     50   1.03\n",
       "lp[14]        1.73     0.1   0.64   0.93   1.28   1.51   2.06   3.41     45   1.03\n",
       "lp[15]        1.33    0.11   0.78   0.49   0.81   1.06   1.65   3.38     51   1.03\n",
       "lp[16]        1.98    0.17   1.19   0.73   1.21   1.54   2.46    5.1     48   1.03\n",
       "lp[17]        1.18    0.06   0.44   0.61   0.86   1.04   1.41   2.29     47   1.03\n",
       "lp[18]        1.82    0.12   0.84   0.84   1.25   1.52   2.23   4.04     46   1.03\n",
       "lp[19]         1.9    0.15   1.02   0.78   1.23   1.53   2.35   4.58     47   1.03\n",
       "lp[20]        1.88    0.14   0.97    0.8   1.23   1.53   2.32   4.44     47   1.03\n",
       "lp[21]        1.25    0.08   0.59   0.55   0.84   1.05   1.52   2.76     49   1.03\n",
       "lp[22]        1.36    0.12   0.84   0.47    0.8   1.07   1.68   3.56     52   1.03\n",
       "lp[23]        1.98    0.17   1.19   0.73   1.21   1.54   2.46    5.1     48   1.03\n",
       "lp[24]        1.34    0.11    0.8   0.48   0.81   1.07   1.66   3.44     52   1.03\n",
       "lp[25]        1.91    0.15   1.04   0.77   1.23   1.53   2.36   4.65     47   1.03\n",
       "lp[26]        1.27    0.09   0.63   0.53   0.83   1.06   1.55    2.9     49   1.03\n",
       "lp[27]        1.22    0.08   0.53   0.57   0.85   1.05   1.48   2.58     48   1.03\n",
       "lp[28]        1.88    0.14   0.97    0.8   1.23   1.53   2.32   4.44     47   1.03\n",
       "lp[29]        1.14    0.05   0.35   0.67   0.89   1.04   1.33    2.0     47   1.03\n",
       "lp[30]        1.18    0.06   0.44   0.61   0.86   1.04   1.41   2.29     47   1.03\n",
       "lp[31]        1.85    0.13   0.91   0.82   1.24   1.52   2.27   4.24     46   1.03\n",
       "lp[32]        1.23    0.08   0.55   0.57   0.84   1.05   1.49   2.62     48   1.03\n",
       "lp[33]        1.76    0.11   0.71    0.9   1.27   1.52   2.12   3.63     45   1.03\n",
       "lp[34]        1.83    0.13   0.86   0.83   1.25   1.52   2.24    4.1     46   1.03\n",
       "lp[35]        1.19    0.07   0.47    0.6   0.86   1.05   1.43   2.37     48   1.03\n",
       "lp[36]        1.91    0.15   1.04   0.77   1.23   1.53   2.36   4.65     47   1.03\n",
       "lp[37]         1.2    0.07   0.48    0.6   0.86   1.05   1.43   2.41     48   1.03\n",
       "lp[38]        1.22    0.07   0.52   0.58   0.85   1.05   1.47   2.54     48   1.03\n",
       "lp[39]         1.2    0.07   0.49   0.59   0.85   1.05   1.44   2.45     48   1.03\n",
       "lp[40]        1.32     0.1   0.75    0.5   0.81   1.06   1.63   3.27     51   1.03\n",
       "lp[41]        1.78    0.11   0.75   0.88   1.26   1.52   2.15   3.74     45   1.03\n",
       "lp[42]        1.81    0.12   0.82   0.84   1.26   1.52   2.21   3.98     46   1.03\n",
       "lp[43]        1.25    0.08   0.59   0.55   0.84   1.05   1.52   2.76     49   1.03\n",
       "lp[44]         1.2    0.07   0.49   0.59   0.85   1.05   1.44   2.45     48   1.03\n",
       "lp[45]        1.87    0.14   0.95    0.8   1.24   1.53    2.3   4.37     46   1.03\n",
       "lp[46]        1.18    0.06   0.44   0.61   0.86   1.04   1.41   2.29     47   1.03\n",
       "lp[47]         1.2    0.07   0.49   0.59   0.85   1.05   1.44   2.45     48   1.03\n",
       "lp[48]        1.81    0.12    0.8   0.85   1.26   1.52    2.2   3.93     46   1.03\n",
       "lp[49]        1.87    0.14   0.95    0.8   1.24   1.53    2.3   4.37     46   1.03\n",
       "lp[50]        1.81    0.12    0.8   0.85   1.26   1.52    2.2   3.93     46   1.03\n",
       "lp[51]        1.86    0.14   0.93   0.81   1.24   1.53   2.29    4.3     46   1.03\n",
       "lp[52]        1.95    0.16   1.11   0.75   1.22   1.53   2.41   4.88     48   1.03\n",
       "lp[53]        2.04    0.19   1.33    0.7   1.19   1.54   2.54   5.53     49   1.03\n",
       "lp[54]        1.78    0.11   0.75   0.88   1.26   1.52   2.15   3.74     45   1.03\n",
       "lp[55]        1.22    0.08   0.53   0.57   0.85   1.05   1.48   2.58     48   1.03\n",
       "lp[56]        1.84    0.13   0.88   0.83   1.24   1.52   2.26   4.17     46   1.03\n",
       "lp[57]        1.86    0.14   0.93   0.81   1.24   1.53   2.29    4.3     46   1.03\n",
       "lp[58]        1.26    0.09   0.62   0.54   0.83   1.06   1.54   2.85     49   1.03\n",
       "lp[59]        1.15    0.06   0.38   0.65   0.88   1.04   1.36   2.11     47   1.03\n",
       "lp[60]        1.75     0.1   0.67   0.91   1.27   1.51   2.09   3.51     45   1.03\n",
       "lp[61]        1.88    0.14   0.97    0.8   1.23   1.53   2.32   4.44     47   1.03\n",
       "lp[62]        1.23    0.08   0.56   0.56   0.84   1.05    1.5   2.67     49   1.03\n",
       "lp[63]        1.81    0.12   0.82   0.84   1.26   1.52   2.21   3.98     46   1.03\n",
       "lp[64]        1.18    0.06   0.44   0.61   0.86   1.04   1.41   2.29     47   1.03\n",
       "lp[65]        1.75     0.1   0.69    0.9   1.27   1.52   2.11   3.57     45   1.03\n",
       "lp[66]        1.29     0.1   0.68   0.52   0.82   1.06   1.58   3.05     50   1.03\n",
       "lp[67]        1.82    0.12   0.84   0.84   1.25   1.52   2.23   4.04     46   1.03\n",
       "lp[68]        1.22    0.08   0.53   0.57   0.85   1.05   1.48   2.58     48   1.03\n",
       "lp[69]        1.16    0.06   0.39   0.64   0.88   1.04   1.37   2.14     47   1.03\n",
       "lp[70]        1.16    0.06   0.39   0.64   0.88   1.04   1.37   2.14     47   1.03\n",
       "lp[71]        1.25    0.08   0.59   0.55   0.84   1.05   1.52   2.76     49   1.03\n",
       "lp[72]        1.23    0.08   0.56   0.56   0.84   1.05    1.5   2.67     49   1.03\n",
       "lp[73]        2.01    0.18   1.24   0.71    1.2   1.54   2.49   5.27     49   1.03\n",
       "lp[74]        1.22    0.07   0.52   0.58   0.85   1.05   1.47   2.54     48   1.03\n",
       "lp[75]        1.15    0.06   0.38   0.65   0.88   1.04   1.36   2.11     47   1.03\n",
       "lp[76]        1.88    0.14   0.97    0.8   1.23   1.53   2.32   4.44     47   1.03\n",
       "lp[77]         1.8    0.12   0.78   0.86   1.26   1.52   2.18   3.87     45   1.03\n",
       "lp[78]        1.87    0.14   0.95    0.8   1.24   1.53    2.3   4.37     46   1.03\n",
       "lp[79]        1.27    0.09   0.65   0.53   0.83   1.06   1.56   2.95     50   1.03\n",
       "lp[80]         1.2    0.07   0.49   0.59   0.85   1.05   1.44   2.45     48   1.03\n",
       "lp[81]        1.28    0.09   0.66   0.52   0.82   1.06   1.57    3.0     50   1.03\n",
       "lp[82]        1.78    0.11   0.75   0.88   1.26   1.52   2.15   3.74     45   1.03\n",
       "lp[83]        1.25    0.08   0.59   0.55   0.84   1.05   1.52   2.76     49   1.03\n",
       "lp[84]        1.17    0.06   0.42   0.63   0.87   1.04   1.39   2.21     47   1.03\n",
       "lp[85]        1.21    0.07   0.51   0.58   0.85   1.05   1.46   2.49     48   1.03\n",
       "lp[86]        1.16    0.06   0.39   0.64   0.88   1.04   1.37   2.14     47   1.03\n",
       "lp[87]        1.83    0.13   0.86   0.83   1.25   1.52   2.24    4.1     46   1.03\n",
       "lp[88]        1.77    0.11   0.73   0.89   1.26   1.52   2.13   3.69     45   1.03\n",
       "lp[89]         1.2    0.07   0.48    0.6   0.86   1.05   1.43   2.41     48   1.03\n",
       "lp[90]        1.22    0.07   0.52   0.58   0.85   1.05   1.47   2.54     48   1.03\n",
       "lp[91]        1.79    0.11   0.76   0.87   1.26   1.52   2.16    3.8     45   1.03\n",
       "lp__         -1316    0.63   2.44  -1322  -1317  -1315  -1314  -1313     15   1.09\n",
       "\n",
       "Samples were drawn using NUTS at Tue Jul 23 11:13:20 2019.\n",
       "For each parameter, n_eff is a crude measure of effective sample size,\n",
       "and Rhat is the potential scale reduction factor on split chains (at \n",
       "convergence, Rhat=1)."
      ]
     },
     "execution_count": 81,
     "metadata": {},
     "output_type": "execute_result"
    }
   ],
   "source": [
    "sfit1 = fit1['fit']\n",
    "sfit1"
   ]
  },
  {
   "cell_type": "code",
   "execution_count": 79,
   "metadata": {},
   "outputs": [
    {
     "name": "stderr",
     "output_type": "stream",
     "text": [
      "WARNING:pystan:DeprecationWarning: pystan.stan was deprecated in version 2.17 and will be removed in version 3.0. Compile and use a Stan program in separate steps.\n"
     ]
    },
    {
     "name": "stdout",
     "output_type": "stream",
     "text": [
      "Reusing model.\n"
     ]
    },
    {
     "name": "stderr",
     "output_type": "stream",
     "text": [
      "WARNING:pystan:Maximum (flat) parameter count (1000) exceeded: skipping diagnostic tests for n_eff and Rhat.\n",
      "To run all diagnostics call pystan.check_hmc_diagnostics(fit)\n",
      "WARNING:pystan:8107 of 10000 iterations ended with a divergence (81.1 %).\n",
      "WARNING:pystan:Try running with adapt_delta larger than 0.8 to remove the divergences.\n"
     ]
    },
    {
     "name": "stdout",
     "output_type": "stream",
     "text": [
      "Ran in 55.003 sec.\n"
     ]
    }
   ],
   "source": [
    "fit2 = survivalstan.fit_stan_survival_model(\n",
    "    df=df2,\n",
    "    time_col='t',\n",
    "    event_col='event_fac',\n",
    "    model_code=survivalstan.models.exp_survival_model,\n",
    "    formula='~ age + sex_fac',\n",
    "    model_cohort = 'exp model fac',\n",
    "    iter = Niter,\n",
    "    chains = Nchains,    \n",
    "    seed = 194838\n",
    ")"
   ]
  },
  {
   "cell_type": "code",
   "execution_count": 82,
   "metadata": {},
   "outputs": [
    {
     "name": "stderr",
     "output_type": "stream",
     "text": [
      "WARNING:pystan:Truncated summary with the 'fit.__repr__' method. For the full summary use 'print(fit)'\n"
     ]
    },
    {
     "data": {
      "text/plain": [
       "\n",
       "Warning: Shown data is truncated to 100 parameters\n",
       "For the full summary use 'print(fit)'\n",
       "\n",
       "Inference for Stan model: anon_model_0176fed484efbd961d78e8973c25ff98.\n",
       "2 chains, each with iter=10000; warmup=5000; thin=1; \n",
       "post-warmup draws per chain=5000, total post-warmup draws=10000.\n",
       "\n",
       "              mean se_mean     sd   2.5%    25%    50%    75%  97.5%  n_eff   Rhat\n",
       "tau_s_raw     5.97    0.16   4.88   0.32   2.22   4.75   8.46  18.14    941    1.0\n",
       "tau_raw[1]    8.32    1.61   78.2   0.18   0.53   1.21   3.25  42.94   2345    1.0\n",
       "tau_raw[2]   81.95   31.16 2252.7   0.19    0.7   1.96   7.54 340.74   5226    1.0\n",
       "beta_raw[1]  -0.68    0.02   0.52  -1.96  -0.95  -0.56  -0.28  -0.05    589    1.0\n",
       "beta_raw[2]  -0.04    0.03   1.02  -2.07   -0.7  -0.02   0.63   1.97   1450    1.0\n",
       "alpha         0.81    0.01   0.61   0.03   0.32   0.69   1.18   2.21   1972    1.0\n",
       "beta[1]       -3.4    0.06   2.55  -8.81  -5.23  -2.83  -1.18  -0.24   1785    1.0\n",
       "beta[2]      -2.03    0.98  31.29 -59.55  -4.66  -0.05   3.45  42.72   1026    1.0\n",
       "lp[1]       9.0e-7  2.9e-7 2.6e-52.5e-2435.8e-1462.4e-791.0e-33 9.0e-8   8032    1.0\n",
       "lp[2]       7.3e-6  2.6e-6 2.4e-47.3e-1961.6e-1162.1e-637.6e-27 5.4e-6   8539    1.0\n",
       "lp[3]       8.9e-6  2.0e-6 1.6e-45.7e-1831.9e-1094.4e-593.1e-25 6.1e-6   6673    1.0\n",
       "lp[4]       5.2e-6  2.0e-6 1.9e-42.4e-2072.5e-1234.2e-672.2e-28 2.6e-6   8838    1.0\n",
       "lp[5]       8.9e-6  2.0e-6 1.6e-45.7e-1831.9e-1094.4e-593.1e-25 6.1e-6   6673    1.0\n",
       "lp[6]       1.5e-6  4.6e-7 4.1e-53.5e-2281.1e-1362.7e-741.4e-31 2.4e-7   7707    1.0\n",
       "lp[7]       4.7e-7  1.7e-7 1.5e-52.8e-2622.5e-1571.7e-852.6e-36 2.2e-8   8398    1.0\n",
       "lp[8]       4.8e-6  1.2e-6 1.0e-45.5e-1982.2e-1183.8e-642.2e-27 2.2e-6   7011    1.0\n",
       "lp[9]       3.0e-6  1.3e-6 1.3e-41.8e-2261.1e-1343.0e-736.1e-31 8.0e-7   9228    1.0\n",
       "lp[10]      7.3e-6  2.6e-6 2.4e-47.3e-1961.6e-1162.1e-637.6e-27 5.4e-6   8539    1.0\n",
       "lp[11]      1.3e-6  4.1e-7 3.7e-56.6e-2327.1e-1391.5e-754.2e-32 1.9e-7   7790    1.0\n",
       "lp[12]      5.4e-5  8.7e-6 6.7e-44.3e-1451.1e-861.1e-461.1e-19 1.4e-4   6049    1.0\n",
       "lp[13]      1.3e-6  7.0e-7 6.9e-54.4e-2577.7e-1534.5e-834.8e-35 1.2e-7   9622    1.0\n",
       "lp[14]      1.2e-5  2.6e-6 2.1e-42.3e-1756.5e-1051.3e-564.9e-24 1.1e-5   6513    1.0\n",
       "lp[15]      8.0e-7  4.8e-7 4.7e-53.3e-2763.4e-1643.2e-891.3e-37 3.6e-8   9767    1.0\n",
       "lp[16]      3.2e-7  1.2e-7 1.1e-51.0e-2733.4e-1642.9e-894.6e-38 9.1e-9   8593    1.0\n",
       "lp[17]      9.3e-6  3.1e-6 2.9e-43.3e-1885.7e-1125.9e-618.0e-26 8.7e-6   8310    1.0\n",
       "lp[18]      2.3e-6  6.6e-7 5.7e-57.0e-2179.6e-1301.6e-705.8e-30 5.5e-7   7449    1.0\n",
       "lp[19]      7.9e-7  2.6e-7 2.4e-53.8e-2473.4e-1481.4e-803.1e-34 6.8e-8   8109    1.0\n",
       "lp[20]      1.0e-6  3.3e-7 2.9e-51.5e-2391.5e-1436.1e-783.2e-33 1.1e-7   7953    1.0\n",
       "lp[21]      2.7e-6  1.2e-6 1.2e-42.7e-2306.0e-1371.8e-741.9e-31 6.3e-7   9292    1.0\n",
       "lp[22]      6.0e-7  3.8e-7 3.8e-51.1e-2875.3e-1716.5e-933.9e-39 1.8e-8   9828    1.0\n",
       "lp[23]      3.2e-7  1.2e-7 1.1e-51.0e-2733.4e-1642.9e-894.6e-38 9.1e-9   8593    1.0\n",
       "lp[24]      7.3e-7  4.4e-7 4.4e-54.9e-2801.8e-1661.9e-904.1e-38 2.9e-8   9789    1.0\n",
       "lp[25]      6.9e-7  2.4e-7 2.1e-57.7e-2511.9e-1507.8e-829.9e-35 5.0e-8   8184    1.0\n",
       "lp[26]      1.9e-6  9.7e-7 9.4e-58.9e-2429.3e-1443.7e-785.4e-33 3.1e-7   9456    1.0\n",
       "lp[27]      4.1e-6  1.7e-6 1.6e-45.4e-2157.2e-1281.5e-692.1e-29 1.6e-6   9010    1.0\n",
       "lp[28]      1.0e-6  3.3e-7 2.9e-51.5e-2391.5e-1436.1e-783.2e-33 1.1e-7   7953    1.0\n",
       "lp[29]      2.6e-5  6.7e-6 5.6e-41.3e-1578.2e-944.0e-511.0e-21 5.8e-5   7193    1.0\n",
       "lp[30]      9.3e-6  3.1e-6 2.9e-43.3e-1885.7e-1125.9e-618.0e-26 8.7e-6   8310    1.0\n",
       "lp[31]      1.5e-6  4.6e-7 4.1e-53.5e-2281.1e-1362.7e-741.4e-31 2.4e-7   7707    1.0\n",
       "lp[32]      3.7e-6  1.6e-6 1.5e-48.1e-2193.9e-1308.7e-716.4e-30 1.3e-6   9088    1.0\n",
       "lp[33]      6.5e-6  1.6e-6 1.3e-41.5e-1907.3e-1141.3e-612.7e-26 3.8e-6   6840    1.0\n",
       "lp[34]      2.0e-6  5.9e-7 5.1e-51.7e-2204.4e-1329.3e-721.7e-30 4.2e-7   7536    1.0\n",
       "lp[35]      7.3e-6  2.6e-6 2.4e-47.3e-1961.6e-1162.1e-637.6e-27 5.4e-6   8539    1.0\n",
       "lp[36]      6.9e-7  2.4e-7 2.1e-57.7e-2511.9e-1507.8e-829.9e-35 5.0e-8   8184    1.0\n",
       "lp[37]      6.5e-6  2.4e-6 2.2e-41.1e-1998.7e-1191.2e-642.3e-27 4.2e-6   8644    1.0\n",
       "lp[38]      4.6e-6  1.9e-6 1.8e-43.6e-2111.3e-1252.5e-686.8e-29 2.1e-6   8927    1.0\n",
       "lp[39]      5.8e-6  2.2e-6 2.1e-41.6e-2034.7e-1217.2e-667.2e-28 3.3e-6   8744    1.0\n",
       "lp[40]      9.7e-7  5.6e-7 5.5e-51.5e-2681.2e-1599.1e-871.4e-36 5.9e-8   9716    1.0\n",
       "lp[41]      4.8e-6  1.2e-6 1.0e-45.5e-1982.2e-1183.8e-642.2e-27 2.2e-6   7011    1.0\n",
       "lp[42]      2.7e-6  7.4e-7 6.4e-54.6e-2131.7e-1272.5e-692.0e-29 7.8e-7   7362    1.0\n",
       "lp[43]      2.7e-6  1.2e-6 1.2e-42.7e-2306.0e-1371.8e-741.9e-31 6.3e-7   9292    1.0\n",
       "lp[44]      5.8e-6  2.2e-6 2.1e-41.6e-2034.7e-1217.2e-667.2e-28 3.3e-6   8744    1.0\n",
       "lp[45]      1.2e-6  3.7e-7 3.3e-51.0e-2353.4e-1417.6e-771.1e-32 1.5e-7   7872    1.0\n",
       "lp[46]      9.3e-6  3.1e-6 2.9e-43.3e-1885.7e-1125.9e-618.0e-26 8.7e-6   8310    1.0\n",
       "lp[47]      5.8e-6  2.2e-6 2.1e-41.6e-2034.7e-1217.2e-667.2e-28 3.3e-6   8744    1.0\n",
       "lp[48]      3.1e-6  8.4e-7 7.1e-53.3e-2092.9e-1254.6e-686.4e-29 1.0e-6   7274    1.0\n",
       "lp[49]      1.2e-6  3.7e-7 3.3e-51.0e-2353.4e-1417.6e-771.1e-32 1.5e-7   7872    1.0\n",
       "lp[50]      3.1e-6  8.4e-7 7.1e-53.3e-2092.9e-1254.6e-686.4e-29 1.0e-6   7274    1.0\n",
       "lp[51]      1.3e-6  4.1e-7 3.7e-56.6e-2327.1e-1391.5e-754.2e-32 1.9e-7   7790    1.0\n",
       "lp[52]      4.7e-7  1.7e-7 1.5e-52.8e-2622.5e-1571.7e-852.6e-36 2.2e-8   8398    1.0\n",
       "lp[53]      1.7e-7  7.1e-8 6.7e-61.3e-2921.3e-1751.9e-951.0e-40 2.5e-9   8877    1.0\n",
       "lp[54]      4.8e-6  1.2e-6 1.0e-45.5e-1982.2e-1183.8e-642.2e-27 2.2e-6   7011    1.0\n",
       "lp[55]      4.1e-6  1.7e-6 1.6e-45.4e-2157.2e-1281.5e-692.1e-29 1.6e-6   9010    1.0\n",
       "lp[56]      1.8e-6  5.2e-7 4.6e-52.5e-2242.5e-1345.2e-734.4e-31 3.2e-7   7622    1.0\n",
       "lp[57]      1.3e-6  4.1e-7 3.7e-56.6e-2327.1e-1391.5e-754.2e-32 1.9e-7   7790    1.0\n",
       "lp[58]      2.2e-6  1.0e-6 1.0e-46.0e-2381.7e-1416.2e-771.8e-32 3.9e-7   9405    1.0\n",
       "lp[59]      1.7e-5  5.0e-6 4.3e-44.4e-1691.3e-1008.3e-552.9e-23 2.8e-5   7645    1.0\n",
       "lp[60]      8.9e-6  2.0e-6 1.6e-45.7e-1831.9e-1094.4e-593.1e-25 6.1e-6   6673    1.0\n",
       "lp[61]      1.0e-6  3.3e-7 2.9e-51.5e-2391.5e-1436.1e-783.2e-33 1.1e-7   7953    1.0\n",
       "lp[62]      3.3e-6  1.5e-6 1.4e-41.2e-2222.1e-1325.1e-722.0e-30 1.0e-6   9161    1.0\n",
       "lp[63]      2.7e-6  7.4e-7 6.4e-54.6e-2131.7e-1272.5e-692.0e-29 7.8e-7   7362    1.0\n",
       "lp[64]      9.3e-6  3.1e-6 2.9e-43.3e-1885.7e-1125.9e-618.0e-26 8.7e-6   8310    1.0\n",
       "lp[65]      7.6e-6  1.8e-6 1.4e-49.3e-1871.2e-1112.5e-609.2e-26 5.0e-6   6758    1.0\n",
       "lp[66]      1.4e-6  7.6e-7 7.5e-53.0e-2531.4e-1507.5e-821.6e-34 1.5e-7   9585    1.0\n",
       "lp[67]      2.3e-6  6.6e-7 5.7e-57.0e-2179.6e-1301.6e-705.8e-30 5.5e-7   7449    1.0\n",
       "lp[68]      4.1e-6  1.7e-6 1.6e-45.4e-2157.2e-1281.5e-692.1e-29 1.6e-6   9010    1.0\n",
       "lp[69]      1.5e-5  4.5e-6 4.0e-46.6e-1736.8e-1034.9e-569.0e-24 2.2e-5   7788    1.0\n",
       "lp[70]      1.5e-5  4.5e-6 4.0e-46.6e-1736.8e-1034.9e-569.0e-24 2.2e-5   7788    1.0\n",
       "lp[71]      2.7e-6  1.2e-6 1.2e-42.7e-2306.0e-1371.8e-741.9e-31 6.3e-7   9292    1.0\n",
       "lp[72]      3.3e-6  1.5e-6 1.4e-41.2e-2222.1e-1325.1e-722.0e-30 1.0e-6   9161    1.0\n",
       "lp[73]      2.5e-7  9.8e-8 9.1e-62.7e-2811.2e-1681.1e-913.9e-39 5.3e-9   8713    1.0\n",
       "lp[74]      4.6e-6  1.9e-6 1.8e-43.6e-2111.3e-1252.5e-686.8e-29 2.1e-6   8927    1.0\n",
       "lp[75]      1.7e-5  5.0e-6 4.3e-44.4e-1691.3e-1008.3e-552.9e-23 2.8e-5   7645    1.0\n",
       "lp[76]      1.0e-6  3.3e-7 2.9e-51.5e-2391.5e-1436.1e-783.2e-33 1.1e-7   7953    1.0\n",
       "lp[77]      3.6e-6  9.4e-7 8.0e-51.6e-2054.9e-1231.1e-662.3e-28 1.3e-6   7186    1.0\n",
       "lp[78]      1.2e-6  3.7e-7 3.3e-51.0e-2353.4e-1417.6e-771.1e-32 1.5e-7   7872    1.0\n",
       "lp[79]      1.8e-6  8.9e-7 8.7e-51.3e-2455.0e-1462.2e-791.7e-33 2.4e-7   9502    1.0\n",
       "lp[80]      5.8e-6  2.2e-6 2.1e-41.6e-2034.7e-1217.2e-667.2e-28 3.3e-6   8744    1.0\n",
       "lp[81]      1.6e-6  8.3e-7 8.1e-52.0e-2492.7e-1481.3e-805.1e-34 1.9e-7   9546    1.0\n",
       "lp[82]      4.8e-6  1.2e-6 1.0e-45.5e-1982.2e-1183.8e-642.2e-27 2.2e-6   7011    1.0\n",
       "lp[83]      2.7e-6  1.2e-6 1.2e-42.7e-2306.0e-1371.8e-741.9e-31 6.3e-7   9292    1.0\n",
       "lp[84]      1.2e-5  3.8e-6 3.4e-41.5e-1802.0e-1071.7e-588.5e-25 1.4e-5   8059    1.0\n",
       "lp[85]      5.2e-6  2.0e-6 1.9e-42.4e-2072.5e-1234.2e-672.2e-28 2.6e-6   8838    1.0\n",
       "lp[86]      1.5e-5  4.5e-6 4.0e-46.6e-1736.8e-1034.9e-569.0e-24 2.2e-5   7788    1.0\n",
       "lp[87]      2.0e-6  5.9e-7 5.1e-51.7e-2204.4e-1329.3e-721.7e-30 4.2e-7   7536    1.0\n",
       "lp[88]      5.6e-6  1.4e-6 1.1e-42.5e-1943.2e-1166.5e-637.8e-27 2.9e-6   6925    1.0\n",
       "lp[89]      6.5e-6  2.4e-6 2.2e-41.1e-1998.7e-1191.2e-642.3e-27 4.2e-6   8644    1.0\n",
       "lp[90]      4.6e-6  1.9e-6 1.8e-43.6e-2111.3e-1252.5e-686.8e-29 2.1e-6   8927    1.0\n",
       "lp[91]      4.2e-6  1.1e-6 9.0e-51.0e-2019.7e-1211.9e-657.1e-28 1.7e-6   7098    1.0\n",
       "lp__         -5.65    0.06    1.9 -10.36  -6.64  -5.28  -4.26  -3.09    943    1.0\n",
       "\n",
       "Samples were drawn using NUTS at Tue Jul 23 11:14:16 2019.\n",
       "For each parameter, n_eff is a crude measure of effective sample size,\n",
       "and Rhat is the potential scale reduction factor on split chains (at \n",
       "convergence, Rhat=1)."
      ]
     },
     "execution_count": 82,
     "metadata": {},
     "output_type": "execute_result"
    }
   ],
   "source": [
    "sfit2 = fit2['fit']\n"
   ]
  },
  {
   "cell_type": "code",
   "execution_count": 77,
   "metadata": {},
   "outputs": [
    {
     "ename": "NameError",
     "evalue": "name 'fit2' is not defined",
     "output_type": "error",
     "traceback": [
      "\u001b[0;31m---------------------------------------------------------------------------\u001b[0m",
      "\u001b[0;31mNameError\u001b[0m                                 Traceback (most recent call last)",
      "\u001b[0;32m<ipython-input-77-27877d34518e>\u001b[0m in \u001b[0;36m<module>\u001b[0;34m\u001b[0m\n\u001b[1;32m      2\u001b[0m \u001b[0msurvivalstan\u001b[0m\u001b[0;34m.\u001b[0m\u001b[0mutils\u001b[0m\u001b[0;34m.\u001b[0m\u001b[0mfilter_stan_summary\u001b[0m\u001b[0;34m(\u001b[0m\u001b[0;34m[\u001b[0m\u001b[0mfit1\u001b[0m\u001b[0;34m]\u001b[0m\u001b[0;34m,\u001b[0m \u001b[0mpars\u001b[0m\u001b[0;34m=\u001b[0m\u001b[0;34m[\u001b[0m\u001b[0;34m'lp__'\u001b[0m\u001b[0;34m,\u001b[0m\u001b[0;34m'beta'\u001b[0m\u001b[0;34m]\u001b[0m\u001b[0;34m)\u001b[0m\u001b[0;34m\u001b[0m\u001b[0;34m\u001b[0m\u001b[0m\n\u001b[1;32m      3\u001b[0m \u001b[0;34m\u001b[0m\u001b[0m\n\u001b[0;32m----> 4\u001b[0;31m \u001b[0msurvivalstan\u001b[0m\u001b[0;34m.\u001b[0m\u001b[0mutils\u001b[0m\u001b[0;34m.\u001b[0m\u001b[0mplot_coefs\u001b[0m\u001b[0;34m(\u001b[0m\u001b[0;34m[\u001b[0m\u001b[0mfit1\u001b[0m\u001b[0;34m,\u001b[0m \u001b[0mfit2\u001b[0m\u001b[0;34m]\u001b[0m\u001b[0;34m)\u001b[0m\u001b[0;34m\u001b[0m\u001b[0;34m\u001b[0m\u001b[0m\n\u001b[0m",
      "\u001b[0;31mNameError\u001b[0m: name 'fit2' is not defined"
     ]
    }
   ],
   "source": [
    "# Some results\n",
    "survivalstan.utils.filter_stan_summary([fit1], pars=['lp__','beta'])\n",
    "\n",
    "survivalstan.utils.plot_coefs([fit1, fit2])"
   ]
  },
  {
   "cell_type": "code",
   "execution_count": 69,
   "metadata": {},
   "outputs": [
    {
     "name": "stderr",
     "output_type": "stream",
     "text": [
      "WARNING:pystan:Rhat above 1.1 or below 0.9 indicates that the chains very likely have not mixed\n",
      "WARNING:pystan:1745 of 10000 iterations ended with a divergence (17.4 %).\n",
      "WARNING:pystan:Try running with adapt_delta larger than 0.8 to remove the divergences.\n",
      "WARNING:pystan:2 of 10000 iterations saturated the maximum tree depth of 10 (0.02 %)\n",
      "WARNING:pystan:Run again with max_treedepth larger than 10 to avoid saturation\n"
     ]
    },
    {
     "data": {
      "text/plain": [
       "{'n_eff': True,\n",
       " 'Rhat': False,\n",
       " 'divergence': False,\n",
       " 'treedepth': False,\n",
       " 'energy': True}"
      ]
     },
     "execution_count": 69,
     "metadata": {},
     "output_type": "execute_result"
    }
   ],
   "source": [
    "pystan.check_hmc_diagnostics(fit1['fit'])"
   ]
  },
  {
   "cell_type": "code",
   "execution_count": 15,
   "metadata": {
    "colab": {
     "base_uri": "https://localhost:8080/",
     "height": 136
    },
    "colab_type": "code",
    "id": "UE2qQN0w-EQU",
    "outputId": "626996fe-68a9-43e1-b082-06ad9062e6c0"
   },
   "outputs": [
    {
     "data": {
      "text/html": [
       "<div>\n",
       "<style scoped>\n",
       "    .dataframe tbody tr th:only-of-type {\n",
       "        vertical-align: middle;\n",
       "    }\n",
       "\n",
       "    .dataframe tbody tr th {\n",
       "        vertical-align: top;\n",
       "    }\n",
       "\n",
       "    .dataframe thead th {\n",
       "        text-align: right;\n",
       "    }\n",
       "</style>\n",
       "<table border=\"1\" class=\"dataframe\">\n",
       "  <thead>\n",
       "    <tr style=\"text-align: right;\">\n",
       "      <th></th>\n",
       "      <th>mean</th>\n",
       "      <th>se_mean</th>\n",
       "      <th>sd</th>\n",
       "      <th>2.5%</th>\n",
       "      <th>50%</th>\n",
       "      <th>97.5%</th>\n",
       "      <th>Rhat</th>\n",
       "    </tr>\n",
       "  </thead>\n",
       "  <tbody>\n",
       "    <tr>\n",
       "      <th>lp__</th>\n",
       "      <td>-1380.831248</td>\n",
       "      <td>0.184798</td>\n",
       "      <td>2.527832</td>\n",
       "      <td>-1386.828028</td>\n",
       "      <td>-1380.392029</td>\n",
       "      <td>-1377.426718</td>\n",
       "      <td>1.012229</td>\n",
       "    </tr>\n",
       "    <tr>\n",
       "      <th>beta[1]</th>\n",
       "      <td>0.369574</td>\n",
       "      <td>0.004876</td>\n",
       "      <td>0.109217</td>\n",
       "      <td>0.146884</td>\n",
       "      <td>0.374531</td>\n",
       "      <td>0.569993</td>\n",
       "      <td>1.001107</td>\n",
       "    </tr>\n",
       "    <tr>\n",
       "      <th>beta[2]</th>\n",
       "      <td>-0.004035</td>\n",
       "      <td>0.000319</td>\n",
       "      <td>0.006614</td>\n",
       "      <td>-0.017575</td>\n",
       "      <td>-0.004285</td>\n",
       "      <td>0.008706</td>\n",
       "      <td>1.009214</td>\n",
       "    </tr>\n",
       "  </tbody>\n",
       "</table>\n",
       "</div>"
      ],
      "text/plain": [
       "                mean   se_mean        sd         2.5%          50%  \\\n",
       "lp__    -1380.831248  0.184798  2.527832 -1386.828028 -1380.392029   \n",
       "beta[1]     0.369574  0.004876  0.109217     0.146884     0.374531   \n",
       "beta[2]    -0.004035  0.000319  0.006614    -0.017575    -0.004285   \n",
       "\n",
       "               97.5%      Rhat  \n",
       "lp__    -1377.426718  1.012229  \n",
       "beta[1]     0.569993  1.001107  \n",
       "beta[2]     0.008706  1.009214  "
      ]
     },
     "execution_count": 15,
     "metadata": {},
     "output_type": "execute_result"
    }
   ],
   "source": [
    "# Diagnostics - tutorial\n"
   ]
  },
  {
   "cell_type": "code",
   "execution_count": 8,
   "metadata": {
    "colab": {
     "base_uri": "https://localhost:8080/",
     "height": 151
    },
    "colab_type": "code",
    "id": "Et0G22im7XzJ",
    "outputId": "f19903b9-0f9e-41fe-eacc-bd8713ef4d12"
   },
   "outputs": [
    {
     "name": "stdout",
     "output_type": "stream",
     "text": [
      "n_eff / iter looks reasonable for all parameters\n",
      "Rhat looks reasonable for all parameters\n",
      "212.0 of 2000 iterations ended with a divergence (10.6%)\n",
      "  Try running with larger adapt_delta to remove the divergences\n",
      "0 of 2000 iterations saturated the maximum tree depth of 10 (0.0%)\n",
      "E-BFMI indicated no pathological behavior\n"
     ]
    }
   ],
   "source": [
    "# Diagnostics\n",
    "# http://mc-stan.org/users/documentation/case-studies/pystan_workflow.html\n",
    "\n",
    "sfit1 = fit1['fit']\n",
    "stan_utility.check_all_diagnostics(sfit1)"
   ]
  },
  {
   "cell_type": "code",
   "execution_count": 9,
   "metadata": {
    "colab": {
     "base_uri": "https://localhost:8080/",
     "height": 282
    },
    "colab_type": "code",
    "id": "l5g-Yjsd7XzM",
    "outputId": "f54e9868-94f0-4cbc-af87-82b0f3440c42"
   },
   "outputs": [
    {
     "data": {
      "text/plain": [
       "<matplotlib.collections.PathCollection at 0x1329a2dd8>"
      ]
     },
     "execution_count": 9,
     "metadata": {},
     "output_type": "execute_result"
    },
    {
     "data": {
      "image/png": "[encoded data removed]",
      "text/plain": [
       "<Figure size 432x288 with 1 Axes>"
      ]
     },
     "metadata": {
      "needs_background": "light"
     },
     "output_type": "display_data"
    }
   ],
   "source": [
    "light=\"#DCBCBC\"\n",
    "light_highlight=\"#C79999\"\n",
    "mid=\"#B97C7C\"\n",
    "mid_highlight=\"#A25050\"\n",
    "dark=\"#8F2727\"\n",
    "dark_highlight=\"#7C0000\"\n",
    "green=\"#00FF00\"\n",
    "\n",
    "nondiv_params, div_params = stan_utility.partition_div(sfit1)\n",
    "\n",
    "plt.scatter([x[0] for x in nondiv_params['beta']], [x[1] for x in nondiv_params['beta']], \n",
    "             color = mid_highlight, alpha=0.1)\n",
    "\n",
    "plt.scatter([x[0] for x in div_params['beta']], [x[1] for x in div_params['beta']], \n",
    "             color = green, alpha=0.25)"
   ]
  },
  {
   "cell_type": "code",
   "execution_count": 0,
   "metadata": {
    "colab": {},
    "colab_type": "code",
    "id": "-zOzQtlf7Xzj"
   },
   "outputs": [],
   "source": []
  }
 ],
 "metadata": {
  "colab": {
   "collapsed_sections": [],
   "name": "bayesian_os_share.ipynb",
   "provenance": [],
   "version": "0.3.2"
  },
  "kernelspec": {
   "display_name": "Python 3",
   "language": "python",
   "name": "python3"
  },
  "language_info": {
   "codemirror_mode": {
    "name": "ipython",
    "version": 3
   },
   "file_extension": ".py",
   "mimetype": "text/x-python",
   "name": "python",
   "nbconvert_exporter": "python",
   "pygments_lexer": "ipython3",
   "version": "3.7.3"
  }
 },
 "nbformat": 4,
 "nbformat_minor": 1
}
