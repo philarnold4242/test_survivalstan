{
 "cells": [
  {
   "cell_type": "code",
   "execution_count": 1,
   "metadata": {
    "colab": {
     "base_uri": "https://localhost:8080/",
     "height": 2355
    },
    "colab_type": "code",
    "id": "FWC9JXPR7amg",
    "outputId": "4c68c3f9-e776-42f8-bff8-508cb5da098e"
   },
   "outputs": [
    {
     "name": "stdout",
     "output_type": "stream",
     "text": [
      "Warning: Failed to set locale category LC_NUMERIC to en_CH.\n",
      "Warning: Failed to set locale category LC_TIME to en_CH.\n",
      "Warning: Failed to set locale category LC_COLLATE to en_CH.\n",
      "Warning: Failed to set locale category LC_MONETARY to en_CH.\n",
      "Warning: Failed to set locale category LC_MESSAGES to en_CH.\n",
      "--2019-07-23 15:14:28--  https://raw.githubusercontent.com/betanalpha/jupyter_case_studies/master/pystan_workflow/stan_utility.py\n",
      "Resolving raw.githubusercontent.com (raw.githubusercontent.com)... 151.101.120.133\n",
      "Connecting to raw.githubusercontent.com (raw.githubusercontent.com)|151.101.120.133|:443... connected.\n",
      "HTTP request sent, awaiting response... 200 OK\n",
      "Length: 5593 (5.5K) [text/plain]\n",
      "Saving to: ‘stan_utility.py’\n",
      "\n",
      "stan_utility.py     100%[===================>]   5.46K  --.-KB/s    in 0s      \n",
      "\n",
      "2019-07-23 15:14:28 (24.7 MB/s) - ‘stan_utility.py’ saved [5593/5593]\n",
      "\n"
     ]
    }
   ],
   "source": [
    "!rm stan_utility.py\n",
    "\n",
    "!wget https://raw.githubusercontent.com/betanalpha/jupyter_case_studies/master/pystan_workflow/stan_utility.py"
   ]
  },
  {
   "cell_type": "code",
   "execution_count": 2,
   "metadata": {
    "colab": {},
    "colab_type": "code",
    "id": "k9GOdeBG7Xy0"
   },
   "outputs": [],
   "source": [
    "%matplotlib inline\n",
    "\n",
    "import random\n",
    "random.seed(123)\n",
    "\n",
    "import numpy as np\n",
    "import pandas as pd\n",
    "\n",
    "from matplotlib import pyplot as plt\n",
    "\n",
    "import importlib"
   ]
  },
  {
   "cell_type": "code",
   "execution_count": 3,
   "metadata": {
    "colab": {},
    "colab_type": "code",
    "id": "mImkC_2I7Xy4"
   },
   "outputs": [],
   "source": [
    "import pystan\n",
    "import stan_utility\n",
    "\n",
    "import survivalstan"
   ]
  },
  {
   "cell_type": "markdown",
   "metadata": {
    "colab_type": "text",
    "id": "mChExKwX7Xy9"
   },
   "source": [
    "## SurvivalStan - Exponential Model\n",
    "\n",
    "Tutorial:\n",
    "http://www.hammerlab.org/2017/06/26/introducing-survivalstan/"
   ]
  },
  {
   "cell_type": "markdown",
   "metadata": {},
   "source": [
    "### Model 1: Exponential model with no covariates\n",
    "\n",
    "$S(t) = exp(-a \\cdot t)$\n",
    "\n",
    "$a \\sim N(0,1)$"
   ]
  },
  {
   "cell_type": "code",
   "execution_count": null,
   "metadata": {},
   "outputs": [],
   "source": [
    "# Data\n",
    "df1 = survivalstan.sim.sim_data_exp(censor_time = 50, \n",
    "                                    N = 2000, \n",
    "                                    rate = 0.35)\n",
    "\n",
    "df1['event_fac'] = df1['event'].apply(lambda x: 1 if x == True else 0)\n",
    "\n",
    "data1 = dict(N = len(df1),\n",
    "            y = df1['t'],\n",
    "            event = df1['event_fac'])\n",
    "\n",
    "survivalstan.utils.plot_observed_survival(df1, time_col='t', event_col='event')\n",
    "\n",
    "df1.head(n = 5)"
   ]
  },
  {
   "cell_type": "code",
   "execution_count": null,
   "metadata": {},
   "outputs": [],
   "source": [
    "# Compile model\n",
    "model = stan_utility.compile_model('exp.stan')"
   ]
  },
  {
   "cell_type": "code",
   "execution_count": null,
   "metadata": {},
   "outputs": [],
   "source": [
    "# Infer parameters\n",
    "Niter = 10000\n",
    "Nchains = 2\n",
    "\n",
    "ctrl = {'max_treedepth': 20,\n",
    "        'adapt_delta': 0.99}\n",
    "\n",
    "fit = model.sampling(data = data1, \n",
    "                     chains = Nchains,\n",
    "                     iter = Niter,\n",
    "                     control = ctrl,\n",
    "                     seed = 194838)"
   ]
  },
  {
   "cell_type": "code",
   "execution_count": null,
   "metadata": {},
   "outputs": [],
   "source": [
    "pystan.check_hmc_diagnostics(fit)"
   ]
  },
  {
   "cell_type": "code",
   "execution_count": null,
   "metadata": {},
   "outputs": [],
   "source": [
    "fit"
   ]
  },
  {
   "cell_type": "markdown",
   "metadata": {},
   "source": [
    "### Model 2: Exponential model with covariates\n",
    "\n",
    "$S(t) = exp(-a \\cdot t) \\cdot exp(-beta \\cdot X)$\n",
    "\n",
    "$a \\sim N(0,1)$\n",
    "\n",
    "$b \\sim $"
   ]
  },
  {
   "cell_type": "code",
   "execution_count": 4,
   "metadata": {},
   "outputs": [
    {
     "data": {
      "text/html": [
       "<div>\n",
       "<style scoped>\n",
       "    .dataframe tbody tr th:only-of-type {\n",
       "        vertical-align: middle;\n",
       "    }\n",
       "\n",
       "    .dataframe tbody tr th {\n",
       "        vertical-align: top;\n",
       "    }\n",
       "\n",
       "    .dataframe thead th {\n",
       "        text-align: right;\n",
       "    }\n",
       "</style>\n",
       "<table border=\"1\" class=\"dataframe\">\n",
       "  <thead>\n",
       "    <tr style=\"text-align: right;\">\n",
       "      <th></th>\n",
       "      <th>sex</th>\n",
       "      <th>age</th>\n",
       "      <th>rate</th>\n",
       "      <th>true_t</th>\n",
       "      <th>t</th>\n",
       "      <th>event</th>\n",
       "      <th>index</th>\n",
       "      <th>event_fac</th>\n",
       "      <th>sex_fac</th>\n",
       "    </tr>\n",
       "  </thead>\n",
       "  <tbody>\n",
       "    <tr>\n",
       "      <th>0</th>\n",
       "      <td>female</td>\n",
       "      <td>62</td>\n",
       "      <td>0.049787</td>\n",
       "      <td>19.105065</td>\n",
       "      <td>19.105065</td>\n",
       "      <td>True</td>\n",
       "      <td>0</td>\n",
       "      <td>1</td>\n",
       "      <td>0</td>\n",
       "    </tr>\n",
       "    <tr>\n",
       "      <th>1</th>\n",
       "      <td>female</td>\n",
       "      <td>53</td>\n",
       "      <td>0.049787</td>\n",
       "      <td>18.748806</td>\n",
       "      <td>18.748806</td>\n",
       "      <td>True</td>\n",
       "      <td>1</td>\n",
       "      <td>1</td>\n",
       "      <td>0</td>\n",
       "    </tr>\n",
       "    <tr>\n",
       "      <th>2</th>\n",
       "      <td>female</td>\n",
       "      <td>70</td>\n",
       "      <td>0.049787</td>\n",
       "      <td>49.711349</td>\n",
       "      <td>20.000000</td>\n",
       "      <td>False</td>\n",
       "      <td>2</td>\n",
       "      <td>0</td>\n",
       "      <td>0</td>\n",
       "    </tr>\n",
       "    <tr>\n",
       "      <th>3</th>\n",
       "      <td>female</td>\n",
       "      <td>70</td>\n",
       "      <td>0.049787</td>\n",
       "      <td>8.553184</td>\n",
       "      <td>8.553184</td>\n",
       "      <td>True</td>\n",
       "      <td>3</td>\n",
       "      <td>1</td>\n",
       "      <td>0</td>\n",
       "    </tr>\n",
       "    <tr>\n",
       "      <th>4</th>\n",
       "      <td>female</td>\n",
       "      <td>51</td>\n",
       "      <td>0.049787</td>\n",
       "      <td>13.939467</td>\n",
       "      <td>13.939467</td>\n",
       "      <td>True</td>\n",
       "      <td>4</td>\n",
       "      <td>1</td>\n",
       "      <td>0</td>\n",
       "    </tr>\n",
       "  </tbody>\n",
       "</table>\n",
       "</div>"
      ],
      "text/plain": [
       "      sex  age      rate     true_t          t  event  index  event_fac  \\\n",
       "0  female   62  0.049787  19.105065  19.105065   True      0          1   \n",
       "1  female   53  0.049787  18.748806  18.748806   True      1          1   \n",
       "2  female   70  0.049787  49.711349  20.000000  False      2          0   \n",
       "3  female   70  0.049787   8.553184   8.553184   True      3          1   \n",
       "4  female   51  0.049787  13.939467  13.939467   True      4          1   \n",
       "\n",
       "   sex_fac  \n",
       "0        0  \n",
       "1        0  \n",
       "2        0  \n",
       "3        0  \n",
       "4        0  "
      ]
     },
     "execution_count": 4,
     "metadata": {},
     "output_type": "execute_result"
    },
    {
     "data": {
      "image/png": "[encoded data removed]",
      "text/plain": [
       "<Figure size 432x288 with 1 Axes>"
      ]
     },
     "metadata": {
      "needs_background": "light"
     },
     "output_type": "display_data"
    }
   ],
   "source": [
    "# Data\n",
    "df2 = survivalstan.sim.sim_data_exp_correlated(N = 500, \n",
    "                                               censor_time = 20, \n",
    "                                               rate_form = '1 + sex', \n",
    "                                               rate_coefs=[-3, 0.5])\n",
    "\n",
    "# Convert dummies\n",
    "# event status (1:event, 0:censor) for obs n\n",
    "df2['event_fac'] = df2['event'].apply(lambda x: 1 if x == True else 0)\n",
    "df2['sex_fac'] = df2['sex'].apply(lambda x: 1 if x == 'male' else 0)\n",
    "\n",
    "# Prepare data input dict\n",
    "data2 = dict(N = len(df2),\n",
    "             M = 2,\n",
    "             x = df2[['age', 'sex_fac']].to_numpy(),\n",
    "             y = df2['t'],\n",
    "             event = df2['event_fac'])\n",
    "\n",
    "# Plot data\n",
    "from matplotlib import pyplot as plt\n",
    "survivalstan.utils.plot_observed_survival(\n",
    "    df2.query('sex == \"female\"'),\n",
    "    time_col='t',\n",
    "    event_col='event',\n",
    "    label='female')\n",
    "survivalstan.utils.plot_observed_survival(\n",
    "    df2.query('sex == \"male\"'),\n",
    "    time_col='t',\n",
    "    event_col='event',\n",
    "    label='male')\n",
    "plt.legend()\n",
    "\n",
    "# Show data\n",
    "df2.head()"
   ]
  },
  {
   "cell_type": "markdown",
   "metadata": {},
   "source": [
    "##### Raw stan"
   ]
  },
  {
   "cell_type": "code",
   "execution_count": null,
   "metadata": {},
   "outputs": [],
   "source": [
    "# Compile model\n",
    "model = stan_utility.compile_model('exp_covar.stan')"
   ]
  },
  {
   "cell_type": "code",
   "execution_count": null,
   "metadata": {},
   "outputs": [],
   "source": [
    "# Infer parameters\n",
    "Niter = 5000\n",
    "Nchains = 4\n",
    "\n",
    "ctrl = {'max_treedepth': 20,\n",
    "        'adapt_delta': 0.99}\n",
    "\n",
    "fit = model.sampling(data = data2, \n",
    "                     chains = Nchains,\n",
    "                     iter = Niter,\n",
    "                     control = ctrl,\n",
    "                     seed = 194838)"
   ]
  },
  {
   "cell_type": "code",
   "execution_count": null,
   "metadata": {},
   "outputs": [],
   "source": [
    "fit"
   ]
  },
  {
   "cell_type": "markdown",
   "metadata": {},
   "source": [
    "##### Survivalstan"
   ]
  },
  {
   "cell_type": "code",
   "execution_count": null,
   "metadata": {},
   "outputs": [
    {
     "name": "stderr",
     "output_type": "stream",
     "text": [
      "WARNING:pystan:DeprecationWarning: pystan.stan was deprecated in version 2.17 and will be removed in version 3.0. Compile and use a Stan program in separate steps.\n"
     ]
    },
    {
     "name": "stdout",
     "output_type": "stream",
     "text": [
      "Reusing model.\n"
     ]
    }
   ],
   "source": [
    "# Model org\n",
    "ctrl = dict(adapt_delta = 0.99,\n",
    "            max_treedepth = 20)\n",
    "\n",
    "fit2_org = survivalstan.fit_stan_survival_model(\n",
    "    df=df2,\n",
    "    time_col='t',\n",
    "    event_col='event',\n",
    "    model_code=survivalstan.models.exp_survival_model,\n",
    "    formula='~ age + sex',\n",
    "    model_cohort = 'exp model',\n",
    "    iter = 5000,\n",
    "    chains = 4,\n",
    "    warmup = 4500,\n",
    "    control = ctrl)"
   ]
  },
  {
   "cell_type": "code",
   "execution_count": 6,
   "metadata": {},
   "outputs": [
    {
     "data": {
      "text/html": [
       "<div>\n",
       "<style scoped>\n",
       "    .dataframe tbody tr th:only-of-type {\n",
       "        vertical-align: middle;\n",
       "    }\n",
       "\n",
       "    .dataframe tbody tr th {\n",
       "        vertical-align: top;\n",
       "    }\n",
       "\n",
       "    .dataframe thead th {\n",
       "        text-align: right;\n",
       "    }\n",
       "</style>\n",
       "<table border=\"1\" class=\"dataframe\">\n",
       "  <thead>\n",
       "    <tr style=\"text-align: right;\">\n",
       "      <th></th>\n",
       "      <th>mean</th>\n",
       "      <th>se_mean</th>\n",
       "      <th>sd</th>\n",
       "      <th>2.5%</th>\n",
       "      <th>50%</th>\n",
       "      <th>97.5%</th>\n",
       "      <th>Rhat</th>\n",
       "    </tr>\n",
       "  </thead>\n",
       "  <tbody>\n",
       "    <tr>\n",
       "      <th>lp__</th>\n",
       "      <td>-2.229614e+196</td>\n",
       "      <td>NaN</td>\n",
       "      <td>inf</td>\n",
       "      <td>-2.308498e+197</td>\n",
       "      <td>-2.732371e+13</td>\n",
       "      <td>-1318.645649</td>\n",
       "      <td>NaN</td>\n",
       "    </tr>\n",
       "    <tr>\n",
       "      <th>beta[1]</th>\n",
       "      <td>7.842611e+00</td>\n",
       "      <td>7.144863</td>\n",
       "      <td>10.129983</td>\n",
       "      <td>3.584602e-01</td>\n",
       "      <td>3.055654e+00</td>\n",
       "      <td>25.047511</td>\n",
       "      <td>135.222142</td>\n",
       "    </tr>\n",
       "    <tr>\n",
       "      <th>beta[2]</th>\n",
       "      <td>1.491519e+00</td>\n",
       "      <td>1.826986</td>\n",
       "      <td>2.590248</td>\n",
       "      <td>-2.082861e-02</td>\n",
       "      <td>5.837197e-04</td>\n",
       "      <td>5.991533</td>\n",
       "      <td>395.048544</td>\n",
       "    </tr>\n",
       "  </tbody>\n",
       "</table>\n",
       "</div>"
      ],
      "text/plain": [
       "                  mean   se_mean         sd           2.5%           50%  \\\n",
       "lp__    -2.229614e+196       NaN        inf -2.308498e+197 -2.732371e+13   \n",
       "beta[1]   7.842611e+00  7.144863  10.129983   3.584602e-01  3.055654e+00   \n",
       "beta[2]   1.491519e+00  1.826986   2.590248  -2.082861e-02  5.837197e-04   \n",
       "\n",
       "               97.5%        Rhat  \n",
       "lp__    -1318.645649         NaN  \n",
       "beta[1]    25.047511  135.222142  \n",
       "beta[2]     5.991533  395.048544  "
      ]
     },
     "execution_count": 6,
     "metadata": {},
     "output_type": "execute_result"
    }
   ],
   "source": [
    "survivalstan.utils.filter_stan_summary([fit2_org], pars=['lp__','beta'])"
   ]
  },
  {
   "cell_type": "code",
   "execution_count": 7,
   "metadata": {},
   "outputs": [
    {
     "name": "stderr",
     "output_type": "stream",
     "text": [
      "WARNING:pystan:Truncated summary with the 'fit.__repr__' method. For the full summary use 'print(fit)'\n",
      "/Users/arnoldp9/Projects/exp_survivalstan/env/lib/python3.7/site-packages/numpy/core/_methods.py:122: RuntimeWarning: overflow encountered in reduce\n",
      "  ret = umr_sum(x, axis, dtype, out, keepdims)\n"
     ]
    },
    {
     "data": {
      "text/plain": [
       "\n",
       "Warning: Shown data is truncated to 100 parameters\n",
       "For the full summary use 'print(fit)'\n",
       "\n",
       "Inference for Stan model: anon_model_0176fed484efbd961d78e8973c25ff98.\n",
       "4 chains, each with iter=500; warmup=400; thin=1; \n",
       "post-warmup draws per chain=100, total post-warmup draws=400.\n",
       "\n",
       "              mean se_mean     sd   2.5%    25%    50%    75%  97.5%  n_eff   Rhat\n",
       "tau_s_raw     2.43    1.79   2.56   0.03   0.33   2.05    4.6   6.67      2   8.39\n",
       "tau_raw[1]   21.27    8.77 118.38   0.29   1.71   3.43   3.74 130.72    182   1.02\n",
       "tau_raw[2]     2.6    1.39   3.88   0.19   0.22   0.79   5.72   9.08      8   1.22\n",
       "beta_raw[1]   1.49    0.31   0.64   0.16   0.91   1.94   1.95   2.28      4   1.54\n",
       "beta_raw[2]   0.31    0.37   0.53   -0.1-4.1e-3 1.2e-3    0.9   1.21      2   8.61\n",
       "alpha         0.35    0.26   0.38   0.03   0.05   0.23   0.68   0.97      2  29.26\n",
       "beta[1]       7.84    7.14  10.13   0.36   0.53   3.06  16.14  25.05      2 135.22\n",
       "beta[2]       1.49    1.83   2.59  -0.02-3.1e-3 5.8e-4   3.29   5.99      2 395.05\n",
       "lp[1]      2.3e160     nan    inf   0.27   0.83   1.041.6e1602.1e161    nan    nan\n",
       "lp[2]      9.4e136 1.1e1372.2e137   0.33   0.85   1.038.3e1368.1e137      4   2.29\n",
       "lp[3]      1.4e181     nan    inf   0.23   0.81   1.048.3e1801.4e182    nan    nan\n",
       "lp[4]      1.4e181     nan    inf   0.23   0.81   1.048.3e1801.4e182    nan    nan\n",
       "lp[5]      6.0e131 6.8e1311.4e132   0.35   0.85   1.035.5e1315.1e132      4   2.35\n",
       "lp[6]      2.8e144 3.2e1446.6e144   0.87   1.62 1.1e102.4e1442.5e145      4   2.22\n",
       "lp[7]      1.9e126 2.1e1264.1e126   0.95   1.63 1.3e101.8e1261.5e127      4   2.42\n",
       "lp[8]      2.3e147 2.6e1475.5e147   0.31   0.84   1.031.9e1472.1e148      5   2.19\n",
       "lp[9]      3.8e126 4.4e1268.5e126   0.36   0.86   1.033.7e1263.2e127      4   2.41\n",
       "lp[10]     7.1e141 8.0e1411.7e142   0.88   1.62 1.1e106.1e1416.3e142      4   2.25\n",
       "lp[11]     9.1e162     nan    inf   0.27   0.82   1.046.4e1628.5e163    nan    nan\n",
       "lp[12]     6.2e118 7.2e1181.3e119   0.38   0.87   1.036.3e1185.0e119      4   2.51\n",
       "lp[13]     2.3e147 2.6e1475.5e147   0.31   0.84   1.031.9e1472.1e148      5   2.19\n",
       "lp[14]     1.1e173     nan    inf   0.77   1.58  8.8e97.0e1721.0e174    nan    nan\n",
       "lp[15]     2.4e134 2.7e1345.4e134   0.34   0.85   1.032.1e1342.0e135      4   2.32\n",
       "lp[16]     5.8e157     nan    inf   0.28   0.83   1.044.2e1575.3e158    nan    nan\n",
       "lp[17]      6.6e92  7.9e92 1.3e93   0.47    0.9   1.02 8.3e92 4.7e93      3   3.03\n",
       "lp[18]     2.5e121 2.8e1215.4e121   0.38   0.87   1.032.5e1212.0e122      4   2.48\n",
       "lp[19]     3.7e139 4.2e1398.6e139   0.32   0.85   1.033.2e1393.3e140      4   2.26\n",
       "lp[20]     9.1e162     nan    inf   0.27   0.82   1.046.4e1628.5e163    nan    nan\n",
       "lp[21]     4.7e123 5.4e1231.0e124   0.96   1.64 1.3e104.6e1233.8e124      4   2.46\n",
       "lp[22]     1.9e113 2.2e1134.1e113    1.0   1.64 1.5e102.1e1131.5e114      3   2.62\n",
       "lp[23]     1.5e129 1.7e1293.4e129   0.35   0.86   1.031.4e1291.3e130      4   2.38\n",
       "lp[24]     1.8e139 2.0e1394.1e139   0.89   1.63 1.2e101.6e1391.6e140      4   2.27\n",
       "lp[25]     1.9e113 2.2e1134.1e113    1.0   1.64 1.5e102.1e1131.5e114      3   2.62\n",
       "lp[26]     1.1e147 1.2e1472.6e147   0.86   1.61 1.1e109.1e1461.0e148      4    2.2\n",
       "lp[27]     3.5e178     nan    inf   0.24   0.81   1.042.2e1783.5e179    nan    nan\n",
       "lp[28]     1.1e147 1.2e1472.6e147   0.86   1.61 1.1e109.1e1461.0e148      4    2.2\n",
       "lp[29]     7.3e128 8.4e1281.6e129   0.93   1.63 1.3e107.0e1286.1e129      4   2.39\n",
       "lp[30]     3.7e152     nan    inf   0.29   0.83   1.042.8e1523.3e153    nan   2.15\n",
       "lp[31]     2.2e173     nan    inf   0.25   0.81   1.041.4e1732.2e174    nan    nan\n",
       "lp[32]     4.0e113 4.6e1138.5e113    0.4   0.87   1.034.2e1133.1e114      3    2.6\n",
       "lp[33]     1.7e165     nan    inf   0.79   1.59  9.4e91.2e1651.6e166    nan    nan\n",
       "lp[34]     1.7e165     nan    inf   0.79   1.59  9.4e91.2e1651.6e166    nan    nan\n",
       "lp[35]     6.0e131 6.8e1311.4e132   0.35   0.85   1.035.5e1315.1e132      4   2.35\n",
       "lp[36]     2.8e144 3.2e1446.6e144   0.87   1.62 1.1e102.4e1442.5e145      4   2.22\n",
       "lp[37]     6.8e180     nan    inf   0.74   1.58  8.2e94.1e1806.7e181    nan    nan\n",
       "lp[38]     4.5e149 4.9e1491.1e150   0.85   1.61 1.1e103.5e1494.0e150      5   2.18\n",
       "lp[39]     3.0e118 3.5e1186.5e118   0.98   1.64 1.4e103.1e1182.4e119      3   2.53\n",
       "lp[40]     2.8e144 3.2e1446.6e144   0.87   1.62 1.1e102.4e1442.5e145      4   2.22\n",
       "lp[41]     4.5e149 4.9e1491.1e150   0.85   1.61 1.1e103.5e1494.0e150      5   2.18\n",
       "lp[42]     4.4e162     nan    inf    0.8    1.6  9.6e93.1e1624.1e163    nan    nan\n",
       "lp[43]      6.6e92  7.9e92 1.3e93   0.47    0.9   1.02 8.3e92 4.7e93      3   3.03\n",
       "lp[44]     1.1e173     nan    inf   0.77   1.58  8.8e97.0e1721.0e174    nan    nan\n",
       "lp[45]     1.6e116 1.8e1163.4e116   0.39   0.87   1.031.6e1161.2e117      3   2.55\n",
       "lp[46]     1.8e139 2.0e1394.1e139   0.89   1.63 1.2e101.6e1391.6e140      4   2.27\n",
       "lp[47]     1.1e134 1.3e1342.6e134   0.91   1.63 1.2e101.0e1349.8e134      4   2.33\n",
       "lp[48]     5.9e144 6.5e1441.4e145   0.31   0.84   1.034.8e1445.2e145      4   2.21\n",
       "lp[49]     3.7e139 4.2e1398.6e139   0.32   0.85   1.033.2e1393.3e140      4   2.26\n",
       "lp[50]     1.2e121 1.4e1212.6e121   0.97   1.64 1.4e101.2e1219.5e121      4   2.49\n",
       "lp[51]     1.9e126 2.1e1264.1e126   0.95   1.63 1.3e101.8e1261.5e127      4   2.42\n",
       "lp[52]     4.5e149 4.9e1491.1e150   0.85   1.61 1.1e103.5e1494.0e150      5   2.18\n",
       "lp[53]     6.0e131 6.8e1311.4e132   0.35   0.85   1.035.5e1315.1e132      4   2.35\n",
       "lp[54]     2.3e147 2.6e1475.5e147   0.31   0.84   1.031.9e1472.1e148      5   2.19\n",
       "lp[55]     2.3e147 2.6e1475.5e147   0.31   0.84   1.031.9e1472.1e148      5   2.19\n",
       "lp[56]     5.8e157     nan    inf   0.28   0.83   1.044.2e1575.3e158    nan    nan\n",
       "lp[57]     1.8e139 2.0e1394.1e139   0.89   1.63 1.2e101.6e1391.6e140      4   2.27\n",
       "lp[58]     1.1e160     nan    inf   0.81    1.6  9.8e98.0e1591.0e161    nan    nan\n",
       "lp[59]     4.5e149 4.9e1491.1e150   0.85   1.61 1.1e103.5e1494.0e150      5   2.18\n",
       "lp[60]     2.7e170     nan    inf   0.77   1.59  9.0e91.8e1702.6e171    nan    nan\n",
       "lp[61]     1.5e129 1.7e1293.4e129   0.35   0.86   1.031.4e1291.3e130      4   2.38\n",
       "lp[62]     3.8e126 4.4e1268.5e126   0.36   0.86   1.033.7e1263.2e127      4   2.41\n",
       "lp[63]     5.8e157     nan    inf   0.28   0.83   1.044.2e1575.3e158    nan    nan\n",
       "lp[64]     6.0e131 6.8e1311.4e132   0.35   0.85   1.035.5e1315.1e132      4   2.35\n",
       "lp[65]     1.1e186     nan    inf   0.73   1.57  7.9e96.1e1851.1e187    nan    nan\n",
       "lp[66]     1.8e152     nan4.2e152   0.84   1.61 1.0e101.4e1521.6e153    nan   2.16\n",
       "lp[67]     1.5e129 1.7e1293.4e129   0.35   0.86   1.031.4e1291.3e130      4   2.38\n",
       "lp[68]     1.1e160     nan    inf   0.81    1.6  9.8e98.0e1591.0e161    nan    nan\n",
       "lp[69]     3.6e165     nan    inf   0.26   0.82   1.042.5e1653.4e166    nan    nan\n",
       "lp[70]     2.3e160     nan    inf   0.27   0.83   1.041.6e1602.1e161    nan    nan\n",
       "lp[71]     1.5e142 1.7e1423.4e142   0.32   0.84   1.031.2e1421.3e143      4   2.24\n",
       "lp[72]     1.8e152     nan4.2e152   0.84   1.61 1.0e101.4e1521.6e153    nan   2.16\n",
       "lp[73]     3.7e139 4.2e1398.6e139   0.32   0.85   1.033.2e1393.3e140      4   2.26\n",
       "lp[74]     1.4e181     nan    inf   0.23   0.81   1.048.3e1801.4e182    nan    nan\n",
       "lp[75]     3.7e139 4.2e1398.6e139   0.32   0.85   1.033.2e1393.3e140      4   2.26\n",
       "lp[76]     6.0e131 6.8e1311.4e132   0.35   0.85   1.035.5e1315.1e132      4   2.35\n",
       "lp[77]     1.8e152     nan4.2e152   0.84   1.61 1.0e101.4e1521.6e153    nan   2.16\n",
       "lp[78]     3.7e152     nan    inf   0.29   0.83   1.042.8e1523.3e153    nan   2.15\n",
       "lp[79]     1.1e134 1.3e1342.6e134   0.91   1.63 1.2e101.0e1349.8e134      4   2.33\n",
       "lp[80]     3.6e165     nan    inf   0.26   0.82   1.042.5e1653.4e166    nan    nan\n",
       "lp[81]     5.9e144 6.5e1441.4e145   0.31   0.84   1.034.8e1445.2e145      4   2.21\n",
       "lp[82]     5.9e144 6.5e1441.4e145   0.31   0.84   1.034.8e1445.2e145      4   2.21\n",
       "lp[83]     9.1e162     nan    inf   0.27   0.82   1.046.4e1628.5e163    nan    nan\n",
       "lp[84]     9.1e162     nan    inf   0.27   0.82   1.046.4e1628.5e163    nan    nan\n",
       "lp[85]     1.5e142 1.7e1423.4e142   0.32   0.84   1.031.2e1421.3e143      4   2.24\n",
       "lp[86]     1.4e168     nan    inf   0.26   0.82   1.049.5e1671.4e169    nan    nan\n",
       "lp[87]     2.3e160     nan    inf   0.27   0.83   1.041.6e1602.1e161    nan    nan\n",
       "lp[88]     1.7e165     nan    inf   0.79   1.59  9.4e91.2e1651.6e166    nan    nan\n",
       "lp[89]     9.1e162     nan    inf   0.27   0.82   1.046.4e1628.5e163    nan    nan\n",
       "lp[90]     2.4e134 2.7e1345.4e134   0.34   0.85   1.032.1e1342.0e135      4   2.32\n",
       "lp[91]     3.0e118 3.5e1186.5e118   0.98   1.64 1.4e103.1e1182.4e119      3   2.53\n",
       "lp__       -2.2e196     nan    inf-2.3e197-1.1e196-2.7e13  -1321  -1318    nan    nan\n",
       "\n",
       "Samples were drawn using NUTS at Tue Jul 23 15:17:53 2019.\n",
       "For each parameter, n_eff is a crude measure of effective sample size,\n",
       "and Rhat is the potential scale reduction factor on split chains (at \n",
       "convergence, Rhat=1)."
      ]
     },
     "execution_count": 7,
     "metadata": {},
     "output_type": "execute_result"
    }
   ],
   "source": [
    "sfit2_org = fit2_org['fit']\n",
    "sfit2_org"
   ]
  },
  {
   "cell_type": "code",
   "execution_count": 9,
   "metadata": {},
   "outputs": [
    {
     "name": "stderr",
     "output_type": "stream",
     "text": [
      "WARNING:pystan:n_eff / iter below 0.001 indicates that the effective sample size has likely been overestimated\n",
      "WARNING:pystan:Rhat above 1.1 or below 0.9 indicates that the chains very likely have not mixed\n",
      "WARNING:pystan:2 of 400 iterations ended with a divergence (0.5 %).\n",
      "WARNING:pystan:Try running with adapt_delta larger than 0.99 to remove the divergences.\n",
      "WARNING:pystan:Chain 1: E-BFMI = 0.0326\n",
      "WARNING:pystan:E-BFMI below 0.2 indicates you may need to reparameterize your model\n"
     ]
    },
    {
     "data": {
      "text/plain": [
       "{'n_eff': False,\n",
       " 'Rhat': False,\n",
       " 'divergence': False,\n",
       " 'treedepth': True,\n",
       " 'energy': False}"
      ]
     },
     "execution_count": 9,
     "metadata": {},
     "output_type": "execute_result"
    }
   ],
   "source": [
    "pystan.check_hmc_diagnostics(sfit2_org)"
   ]
  },
  {
   "cell_type": "code",
   "execution_count": null,
   "metadata": {},
   "outputs": [],
   "source": [
    "fit2_org['data']\n"
   ]
  },
  {
   "cell_type": "code",
   "execution_count": null,
   "metadata": {
    "colab": {
     "base_uri": "https://localhost:8080/",
     "height": 195
    },
    "colab_type": "code",
    "id": "bPHPAULW7Xy-",
    "outputId": "081113a1-95fa-4522-f295-5cb1d6672127"
   },
   "outputs": [],
   "source": [
    "# Simulate data\n",
    "# Model: exp(-3*t) * exp(0.5*sex)\n",
    "\n",
    "# Sim\n",
    "df2 = survivalstan.sim.sim_data_exp_correlated(\n",
    "    N=500, censor_time=20, rate_form='1 + sex', rate_coefs=[-3, 0.5])\n",
    "\n",
    "# Replace strings\n",
    "df2['sex_fac'] = df2['sex'].apply(lambda x: 1 if x == 'male' else 0)\n",
    "df2['event_fac'] = df2['event'].apply(lambda x: 1 if x == 'True' else 0)\n",
    "\n",
    "# Write to file\n",
    "df2.to_csv('exp.dat')\n",
    "\n",
    "# Prepare data input\n",
    "x = df2[['age', 'sex_fac']].to_numpy()\n",
    "\n",
    "data = dict(N = len(df2),\n",
    "            M = 2,\n",
    "            x = x,\n",
    "            y = df2['t'],\n",
    "            event = df2['event_fac'])"
   ]
  },
  {
   "cell_type": "code",
   "execution_count": null,
   "metadata": {},
   "outputs": [],
   "source": [
    "df2.head()"
   ]
  },
  {
   "cell_type": "code",
   "execution_count": null,
   "metadata": {
    "colab": {
     "base_uri": "https://localhost:8080/",
     "height": 282
    },
    "colab_type": "code",
    "id": "LDE3hcTY7XzC",
    "outputId": "69d92158-0c23-4cf2-81d5-bdefc0342026"
   },
   "outputs": [],
   "source": [
    "survivalstan.utils.plot_observed_survival(\n",
    "    df2.query('sex_fac == 1'),\n",
    "    time_col='t',\n",
    "    event_col='event_fac',\n",
    "    label='female: 1')\n",
    "\n",
    "survivalstan.utils.plot_observed_survival(\n",
    "    df2.query('sex_fac == 0'),\n",
    "    time_col='t',\n",
    "    event_col='event_fac',\n",
    "    label='male: 0')\n",
    "\n",
    "plt.legend()"
   ]
  },
  {
   "cell_type": "code",
   "execution_count": null,
   "metadata": {},
   "outputs": [],
   "source": [
    "# Model used\n",
    "src_model = survivalstan.models.exp_survival_model\n",
    "\n",
    "with open('exp.stan', 'w') as myf:\n",
    "    print(src_model, file = myf)\n",
    "    \n",
    "print(src_model)"
   ]
  },
  {
   "cell_type": "code",
   "execution_count": null,
   "metadata": {},
   "outputs": [],
   "source": [
    "# Compile model\n",
    "model = stan_utility.compile_model('exp.stan')"
   ]
  },
  {
   "cell_type": "code",
   "execution_count": null,
   "metadata": {},
   "outputs": [],
   "source": [
    "# Infer parameters\n",
    "Niter = 10000\n",
    "Nchains = 2\n",
    "\n",
    "ctrl = {'max_treedepth': 20,\n",
    "        'adapt_delta': 0.99}\n",
    "\n",
    "fit = model.sampling(data = data, \n",
    "                     chains = Nchains,\n",
    "                     iter = Niter,\n",
    "                     # warmup = 9000,\n",
    "                     control = ctrl,\n",
    "                     seed=194838)\n",
    "\n",
    "pystan.check_hmc_diagnostics(fit)"
   ]
  },
  {
   "cell_type": "code",
   "execution_count": null,
   "metadata": {},
   "outputs": [],
   "source": [
    "fit"
   ]
  },
  {
   "cell_type": "code",
   "execution_count": null,
   "metadata": {
    "colab": {
     "base_uri": "https://localhost:8080/",
     "height": 205
    },
    "colab_type": "code",
    "id": "Fn3Y_4bi7XzF",
    "outputId": "75ec2420-1265-45c2-a45b-12356ff1b657"
   },
   "outputs": [],
   "source": [
    "# Infer parameters\n",
    "fit1 = survivalstan.fit_stan_survival_model(\n",
    "    df=df2,\n",
    "    time_col='t',\n",
    "    event_col='event',\n",
    "    model_code=survivalstan.models.exp_survival_model,\n",
    "    formula='~ age + sex',\n",
    "    model_cohort = 'exp model',\n",
    "    iter = Niter,\n",
    "    chains = Nchains,    \n",
    "    seed = 194838\n",
    ")"
   ]
  },
  {
   "cell_type": "code",
   "execution_count": null,
   "metadata": {},
   "outputs": [],
   "source": [
    "sfit1 = fit1['fit']\n",
    "sfit1"
   ]
  },
  {
   "cell_type": "code",
   "execution_count": null,
   "metadata": {},
   "outputs": [],
   "source": [
    "fit2 = survivalstan.fit_stan_survival_model(\n",
    "    df=df2,\n",
    "    time_col='t',\n",
    "    event_col='event_fac',\n",
    "    model_code=survivalstan.models.exp_survival_model,\n",
    "    formula='~ age + sex_fac',\n",
    "    model_cohort = 'exp model fac',\n",
    "    iter = Niter,\n",
    "    chains = Nchains,    \n",
    "    seed = 194838\n",
    ")"
   ]
  },
  {
   "cell_type": "code",
   "execution_count": null,
   "metadata": {},
   "outputs": [],
   "source": [
    "sfit2 = fit2['fit']\n"
   ]
  },
  {
   "cell_type": "code",
   "execution_count": null,
   "metadata": {},
   "outputs": [],
   "source": [
    "# Some results\n",
    "survivalstan.utils.filter_stan_summary([fit1], pars=['lp__','beta'])\n",
    "\n",
    "survivalstan.utils.plot_coefs([fit1, fit2])"
   ]
  },
  {
   "cell_type": "code",
   "execution_count": null,
   "metadata": {},
   "outputs": [],
   "source": [
    "pystan.check_hmc_diagnostics(fit1['fit'])"
   ]
  },
  {
   "cell_type": "code",
   "execution_count": null,
   "metadata": {
    "colab": {
     "base_uri": "https://localhost:8080/",
     "height": 136
    },
    "colab_type": "code",
    "id": "UE2qQN0w-EQU",
    "outputId": "626996fe-68a9-43e1-b082-06ad9062e6c0"
   },
   "outputs": [],
   "source": [
    "# Diagnostics - tutorial\n",
    "survivalstan.fit_stan_survival_model"
   ]
  },
  {
   "cell_type": "code",
   "execution_count": null,
   "metadata": {
    "colab": {
     "base_uri": "https://localhost:8080/",
     "height": 151
    },
    "colab_type": "code",
    "id": "Et0G22im7XzJ",
    "outputId": "f19903b9-0f9e-41fe-eacc-bd8713ef4d12"
   },
   "outputs": [],
   "source": [
    "# Diagnostics\n",
    "# http://mc-stan.org/users/documentation/case-studies/pystan_workflow.html\n",
    "\n",
    "sfit1 = fit1['fit']\n",
    "stan_utility.check_all_diagnostics(sfit1)"
   ]
  },
  {
   "cell_type": "code",
   "execution_count": null,
   "metadata": {
    "colab": {
     "base_uri": "https://localhost:8080/",
     "height": 282
    },
    "colab_type": "code",
    "id": "l5g-Yjsd7XzM",
    "outputId": "f54e9868-94f0-4cbc-af87-82b0f3440c42"
   },
   "outputs": [],
   "source": [
    "light=\"#DCBCBC\"\n",
    "light_highlight=\"#C79999\"\n",
    "mid=\"#B97C7C\"\n",
    "mid_highlight=\"#A25050\"\n",
    "dark=\"#8F2727\"\n",
    "dark_highlight=\"#7C0000\"\n",
    "green=\"#00FF00\"\n",
    "\n",
    "nondiv_params, div_params = stan_utility.partition_div(sfit1)\n",
    "\n",
    "plt.scatter([x[0] for x in nondiv_params['beta']], [x[1] for x in nondiv_params['beta']], \n",
    "             color = mid_highlight, alpha=0.1)\n",
    "\n",
    "plt.scatter([x[0] for x in div_params['beta']], [x[1] for x in div_params['beta']], \n",
    "             color = green, alpha=0.25)"
   ]
  },
  {
   "cell_type": "code",
   "execution_count": null,
   "metadata": {
    "colab": {},
    "colab_type": "code",
    "id": "-zOzQtlf7Xzj"
   },
   "outputs": [],
   "source": []
  }
 ],
 "metadata": {
  "colab": {
   "collapsed_sections": [],
   "name": "bayesian_os_share.ipynb",
   "provenance": [],
   "version": "0.3.2"
  },
  "kernelspec": {
   "display_name": "Python 3",
   "language": "python",
   "name": "python3"
  },
  "language_info": {
   "codemirror_mode": {
    "name": "ipython",
    "version": 3
   },
   "file_extension": ".py",
   "mimetype": "text/x-python",
   "name": "python",
   "nbconvert_exporter": "python",
   "pygments_lexer": "ipython3",
   "version": "3.7.3"
  }
 },
 "nbformat": 4,
 "nbformat_minor": 1
}
