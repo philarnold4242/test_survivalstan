{
  "nbformat": 4,
  "nbformat_minor": 0,
  "metadata": {
    "colab": {
      "name": "bayesian_os_share.ipynb",
      "version": "0.3.2",
      "provenance": [],
      "collapsed_sections": []
    },
    "kernelspec": {
      "display_name": "Python [default]",
      "language": "python",
      "name": "python3"
    }
  },
  "cells": [
    {
      "metadata": {
        "id": "FWC9JXPR7amg",
        "colab_type": "code",
        "colab": {
          "base_uri": "https://localhost:8080/",
          "height": 2355
        },
        "outputId": "4c68c3f9-e776-42f8-bff8-508cb5da098e"
      },
      "cell_type": "code",
      "source": [
        "!wget https://raw.githubusercontent.com/betanalpha/jupyter_case_studies/master/pystan_workflow/stan_utility.py\n",
        "  \n",
        "!pip install pystan\n",
        "!pip install survivalstan\n",
        "!pip install importlib"
      ],
      "execution_count": 5,
      "outputs": [
        {
          "output_type": "stream",
          "text": [
            "--2018-12-04 06:37:12--  https://raw.githubusercontent.com/betanalpha/jupyter_case_studies/master/pystan_workflow/stan_utility.py\n",
            "Resolving raw.githubusercontent.com (raw.githubusercontent.com)... 151.101.0.133, 151.101.64.133, 151.101.128.133, ...\n",
            "Connecting to raw.githubusercontent.com (raw.githubusercontent.com)|151.101.0.133|:443... connected.\n",
            "HTTP request sent, awaiting response... 200 OK\n",
            "Length: 5593 (5.5K) [text/plain]\n",
            "Saving to: ‘stan_utility.py.1’\n",
            "\n",
            "\rstan_utility.py.1     0%[                    ]       0  --.-KB/s               \rstan_utility.py.1   100%[===================>]   5.46K  --.-KB/s    in 0s      \n",
            "\n",
            "2018-12-04 06:37:12 (57.9 MB/s) - ‘stan_utility.py.1’ saved [5593/5593]\n",
            "\n",
            "Collecting pystan\n",
            "\u001b[?25l  Downloading https://files.pythonhosted.org/packages/49/f9/106f3db81cf4da1be937a11b63f400d072718662f3fd1349ea7f0458aa0f/pystan-2.18.0.0-cp36-cp36m-manylinux1_x86_64.whl (50.0MB)\n",
            "\u001b[K    100% |████████████████████████████████| 50.0MB 653kB/s \n",
            "\u001b[?25hRequirement already satisfied: numpy>=1.7 in /usr/local/lib/python3.6/dist-packages (from pystan) (1.14.6)\n",
            "Collecting Cython!=0.25.1,>=0.22 (from pystan)\n",
            "\u001b[?25l  Downloading https://files.pythonhosted.org/packages/a2/e0/0592be5b851c8013aa253592606ca265862d27444d908e029fd75d563c9c/Cython-0.29.1-cp36-cp36m-manylinux1_x86_64.whl (2.1MB)\n",
            "\u001b[K    100% |████████████████████████████████| 2.1MB 13.1MB/s \n",
            "\u001b[?25hInstalling collected packages: Cython, pystan\n",
            "Successfully installed Cython-0.29.1 pystan-2.18.0.0\n",
            "Collecting survivalstan\n",
            "\u001b[?25l  Downloading https://files.pythonhosted.org/packages/a7/f1/acd6995ac4e8e98e5aa898ee55ebf6d985e7f63f98deee414e15f46c5f4e/survivalstan-0.1.2.5.tar.gz (46kB)\n",
            "\u001b[K    100% |████████████████████████████████| 51kB 2.0MB/s \n",
            "\u001b[?25hCollecting sphinx (from survivalstan)\n",
            "\u001b[?25l  Downloading https://files.pythonhosted.org/packages/ff/d5/3a8727d6f890b1ae45da72a55bf8449e9f2c535a444923b338c3f509f203/Sphinx-1.8.2-py2.py3-none-any.whl (3.1MB)\n",
            "\u001b[K    100% |████████████████████████████████| 3.1MB 10.4MB/s \n",
            "\u001b[?25hCollecting sphinx_rtd_theme (from survivalstan)\n",
            "\u001b[?25l  Downloading https://files.pythonhosted.org/packages/ef/0c/e4a462190506bc4bff6ca8cf93da07b2d13e540466d2e8a760352d0c69b0/sphinx_rtd_theme-0.4.2-py2.py3-none-any.whl (6.4MB)\n",
            "\u001b[K    100% |████████████████████████████████| 6.4MB 5.5MB/s \n",
            "\u001b[?25hCollecting coverage (from survivalstan)\n",
            "\u001b[?25l  Downloading https://files.pythonhosted.org/packages/a4/5c/b3eac6aa7eb4af83c8580d9c1578343910bdcc59e64e3565402f9a527f9c/coverage-4.5.2-cp36-cp36m-manylinux1_x86_64.whl (205kB)\n",
            "\u001b[K    100% |████████████████████████████████| 215kB 29.4MB/s \n",
            "\u001b[?25hCollecting pypi-publisher (from survivalstan)\n",
            "  Downloading https://files.pythonhosted.org/packages/fb/54/20d4290b78ca3a8d291ad984c180a5edcf6bd66e08cbd431776da238ca3d/pypi-publisher-0.0.4.tar.gz\n",
            "Requirement already satisfied: Cython>=0.19 in /usr/local/lib/python3.6/dist-packages (from survivalstan) (0.29.1)\n",
            "Requirement already satisfied: numpy in /usr/local/lib/python3.6/dist-packages (from survivalstan) (1.14.6)\n",
            "Requirement already satisfied: patsy in /usr/local/lib/python3.6/dist-packages (from survivalstan) (0.5.1)\n",
            "Collecting nose>=1.3.3 (from survivalstan)\n",
            "\u001b[?25l  Downloading https://files.pythonhosted.org/packages/15/d8/dd071918c040f50fa1cf80da16423af51ff8ce4a0f2399b7bf8de45ac3d9/nose-1.3.7-py3-none-any.whl (154kB)\n",
            "\u001b[K    100% |████████████████████████████████| 163kB 28.1MB/s \n",
            "\u001b[?25hCollecting pylint>=1.4.4 (from survivalstan)\n",
            "\u001b[?25l  Downloading https://files.pythonhosted.org/packages/a5/06/ecef826f319055e6b231716730d7f9047dd7524ffda224b521d989f085b6/pylint-2.2.2-py3-none-any.whl (750kB)\n",
            "\u001b[K    100% |████████████████████████████████| 757kB 19.2MB/s \n",
            "\u001b[?25hCollecting stanity>=0.1.2 (from survivalstan)\n",
            "  Downloading https://files.pythonhosted.org/packages/5d/84/69fa2281acbbb4e44fbbdc9e0198803121dda9f3c1da5f054ead8000a809/stanity-0.1.4.tar.gz\n",
            "Requirement already satisfied: pystan>=2.12.0 in /usr/local/lib/python3.6/dist-packages (from survivalstan) (2.18.0.0)\n",
            "Collecting lifelines (from survivalstan)\n",
            "\u001b[?25l  Downloading https://files.pythonhosted.org/packages/fc/1f/03275d19d413cb131e9c3a606da5f6dad29318f53aa2a89d7af81708eb4b/lifelines-0.15.1-py2.py3-none-any.whl (227kB)\n",
            "\u001b[K    100% |████████████████████████████████| 235kB 28.3MB/s \n",
            "\u001b[?25hCollecting versioneer (from survivalstan)\n",
            "  Downloading https://files.pythonhosted.org/packages/95/b5/8bcf39663abc1fda6a2af6704062a44be13d3bc1ceca562a9c020fae8f36/versioneer-0.18-py2.py3-none-any.whl\n",
            "Requirement already satisfied: Jinja2>=2.3 in /usr/local/lib/python3.6/dist-packages (from sphinx->survivalstan) (2.10)\n",
            "Collecting docutils>=0.11 (from sphinx->survivalstan)\n",
            "\u001b[?25l  Downloading https://files.pythonhosted.org/packages/36/fa/08e9e6e0e3cbd1d362c3bbee8d01d0aedb2155c4ac112b19ef3cae8eed8d/docutils-0.14-py3-none-any.whl (543kB)\n",
            "\u001b[K    100% |████████████████████████████████| 552kB 16.8MB/s \n",
            "\u001b[?25hCollecting snowballstemmer>=1.1 (from sphinx->survivalstan)\n",
            "\u001b[?25l  Downloading https://files.pythonhosted.org/packages/d4/6c/8a935e2c7b54a37714656d753e4187ee0631988184ed50c0cf6476858566/snowballstemmer-1.2.1-py2.py3-none-any.whl (64kB)\n",
            "\u001b[K    100% |████████████████████████████████| 71kB 25.4MB/s \n",
            "\u001b[?25hCollecting sphinxcontrib-websupport (from sphinx->survivalstan)\n",
            "  Downloading https://files.pythonhosted.org/packages/52/69/3c2fbdc3702358c5b34ee25e387b24838597ef099761fc9a42c166796e8f/sphinxcontrib_websupport-1.1.0-py2.py3-none-any.whl\n",
            "Collecting imagesize (from sphinx->survivalstan)\n",
            "  Downloading https://files.pythonhosted.org/packages/fc/b6/aef66b4c52a6ad6ac18cf6ebc5731ed06d8c9ae4d3b2d9951f261150be67/imagesize-1.1.0-py2.py3-none-any.whl\n",
            "Requirement already satisfied: six>=1.5 in /usr/local/lib/python3.6/dist-packages (from sphinx->survivalstan) (1.11.0)\n",
            "Collecting babel!=2.0,>=1.3 (from sphinx->survivalstan)\n",
            "\u001b[?25l  Downloading https://files.pythonhosted.org/packages/b8/ad/c6f60602d3ee3d92fbed87675b6fb6a6f9a38c223343ababdb44ba201f10/Babel-2.6.0-py2.py3-none-any.whl (8.1MB)\n",
            "\u001b[K    100% |████████████████████████████████| 8.1MB 4.8MB/s \n",
            "\u001b[?25hRequirement already satisfied: setuptools in /usr/local/lib/python3.6/dist-packages (from sphinx->survivalstan) (40.6.2)\n",
            "Collecting packaging (from sphinx->survivalstan)\n",
            "  Downloading https://files.pythonhosted.org/packages/89/d1/92e6df2e503a69df9faab187c684585f0136662c12bb1f36901d426f3fab/packaging-18.0-py2.py3-none-any.whl\n",
            "Requirement already satisfied: Pygments>=2.0 in /usr/local/lib/python3.6/dist-packages (from sphinx->survivalstan) (2.1.3)\n",
            "Collecting alabaster<0.8,>=0.7 (from sphinx->survivalstan)\n",
            "  Downloading https://files.pythonhosted.org/packages/10/ad/00b090d23a222943eb0eda509720a404f531a439e803f6538f35136cae9e/alabaster-0.7.12-py2.py3-none-any.whl\n",
            "Requirement already satisfied: requests>=2.0.0 in /usr/local/lib/python3.6/dist-packages (from sphinx->survivalstan) (2.18.4)\n",
            "Collecting gitpython==0.3.6 (from pypi-publisher->survivalstan)\n",
            "\u001b[?25l  Downloading https://files.pythonhosted.org/packages/e9/d5/807cea9ffbfa398a23bbaff35d3fd37aa330c8c264c9489ed104b6192f74/GitPython-0.3.6.tar.gz (353kB)\n",
            "\u001b[K    100% |████████████████████████████████| 358kB 26.3MB/s \n",
            "\u001b[?25hCollecting mccabe (from pylint>=1.4.4->survivalstan)\n",
            "  Downloading https://files.pythonhosted.org/packages/87/89/479dc97e18549e21354893e4ee4ef36db1d237534982482c3681ee6e7b57/mccabe-0.6.1-py2.py3-none-any.whl\n",
            "Collecting isort>=4.2.5 (from pylint>=1.4.4->survivalstan)\n",
            "\u001b[?25l  Downloading https://files.pythonhosted.org/packages/1f/2c/22eee714d7199ae0464beda6ad5fedec8fee6a2f7ffd1e8f1840928fe318/isort-4.3.4-py3-none-any.whl (45kB)\n",
            "\u001b[K    100% |████████████████████████████████| 51kB 21.8MB/s \n",
            "\u001b[?25hCollecting astroid>=2.0.0 (from pylint>=1.4.4->survivalstan)\n",
            "\u001b[?25l  Downloading https://files.pythonhosted.org/packages/fc/53/8809bc008bad0300897281a7b320b286dc0e84e836396c0cff6279841e8a/astroid-2.1.0-py3-none-any.whl (176kB)\n",
            "\u001b[K    100% |████████████████████████████████| 184kB 20.0MB/s \n",
            "\u001b[?25hCollecting typechecks (from stanity>=0.1.2->survivalstan)\n",
            "  Downloading https://files.pythonhosted.org/packages/62/21/15129201c1f52f6af1e7809e96dce46da4b406c2c07fe9425e92f51edc5c/typechecks-0.1.0.tar.gz\n",
            "Requirement already satisfied: future>=0.14.3 in /usr/local/lib/python3.6/dist-packages (from stanity>=0.1.2->survivalstan) (0.16.0)\n",
            "Requirement already satisfied: pandas in /usr/local/lib/python3.6/dist-packages (from stanity>=0.1.2->survivalstan) (0.22.0)\n",
            "Requirement already satisfied: seaborn in /usr/local/lib/python3.6/dist-packages (from stanity>=0.1.2->survivalstan) (0.7.1)\n",
            "Requirement already satisfied: matplotlib>=2.0 in /usr/local/lib/python3.6/dist-packages (from lifelines->survivalstan) (2.1.2)\n",
            "Requirement already satisfied: scipy>=1.0 in /usr/local/lib/python3.6/dist-packages (from lifelines->survivalstan) (1.1.0)\n",
            "Requirement already satisfied: MarkupSafe>=0.23 in /usr/local/lib/python3.6/dist-packages (from Jinja2>=2.3->sphinx->survivalstan) (1.1.0)\n",
            "Requirement already satisfied: pytz>=0a in /usr/local/lib/python3.6/dist-packages (from babel!=2.0,>=1.3->sphinx->survivalstan) (2018.7)\n",
            "Requirement already satisfied: pyparsing>=2.0.2 in /usr/local/lib/python3.6/dist-packages (from packaging->sphinx->survivalstan) (2.3.0)\n",
            "Requirement already satisfied: chardet<3.1.0,>=3.0.2 in /usr/local/lib/python3.6/dist-packages (from requests>=2.0.0->sphinx->survivalstan) (3.0.4)\n",
            "Requirement already satisfied: certifi>=2017.4.17 in /usr/local/lib/python3.6/dist-packages (from requests>=2.0.0->sphinx->survivalstan) (2018.10.15)\n",
            "Requirement already satisfied: idna<2.7,>=2.5 in /usr/local/lib/python3.6/dist-packages (from requests>=2.0.0->sphinx->survivalstan) (2.6)\n",
            "Requirement already satisfied: urllib3<1.23,>=1.21.1 in /usr/local/lib/python3.6/dist-packages (from requests>=2.0.0->sphinx->survivalstan) (1.22)\n",
            "Collecting gitdb>=0.6.4 (from gitpython==0.3.6->pypi-publisher->survivalstan)\n",
            "\u001b[?25l  Downloading https://files.pythonhosted.org/packages/e3/95/7e5d7261feb46c0539ac5e451be340ddd64d78c5118f2d893b052c76fe8c/gitdb-0.6.4.tar.gz (400kB)\n",
            "\u001b[K    100% |████████████████████████████████| 409kB 23.4MB/s \n",
            "\u001b[?25hRequirement already satisfied: wrapt in /usr/local/lib/python3.6/dist-packages (from astroid>=2.0.0->pylint>=1.4.4->survivalstan) (1.10.11)\n",
            "Collecting lazy-object-proxy (from astroid>=2.0.0->pylint>=1.4.4->survivalstan)\n",
            "\u001b[?25l  Downloading https://files.pythonhosted.org/packages/65/1f/2043ec33066e779905ed7e6580384425fdc7dc2ac64d6931060c75b0c5a3/lazy_object_proxy-1.3.1-cp36-cp36m-manylinux1_x86_64.whl (55kB)\n",
            "\u001b[K    100% |████████████████████████████████| 61kB 23.1MB/s \n",
            "\u001b[?25hCollecting typed-ast; python_version < \"3.7\" and implementation_name == \"cpython\" (from astroid>=2.0.0->pylint>=1.4.4->survivalstan)\n",
            "\u001b[?25l  Downloading https://files.pythonhosted.org/packages/35/69/94dd92985792df90cf3b544d33315e60a95cc1c7ce0518f73b4cc11f106e/typed_ast-1.1.0-cp36-cp36m-manylinux1_x86_64.whl (724kB)\n",
            "\u001b[K    100% |████████████████████████████████| 727kB 20.1MB/s \n",
            "\u001b[?25hRequirement already satisfied: python-dateutil>=2 in /usr/local/lib/python3.6/dist-packages (from pandas->stanity>=0.1.2->survivalstan) (2.5.3)\n",
            "Requirement already satisfied: cycler>=0.10 in /usr/local/lib/python3.6/dist-packages (from matplotlib>=2.0->lifelines->survivalstan) (0.10.0)\n",
            "Collecting smmap>=0.8.5 (from gitdb>=0.6.4->gitpython==0.3.6->pypi-publisher->survivalstan)\n",
            "  Downloading https://files.pythonhosted.org/packages/bc/aa/b744b3761fff1b10579df996a2d2e87f124ae07b8336e37edc89cc502f86/smmap-0.9.0.tar.gz\n",
            "Building wheels for collected packages: survivalstan, pypi-publisher, stanity, gitpython, typechecks, gitdb, smmap\n",
            "  Running setup.py bdist_wheel for survivalstan ... \u001b[?25l-\b \bdone\n",
            "\u001b[?25h  Stored in directory: /root/.cache/pip/wheels/33/d5/78/8167fab9f78bc84561e2eaa3f82f154474ddd9edee14647b05\n",
            "  Running setup.py bdist_wheel for pypi-publisher ... \u001b[?25l-\b \bdone\n",
            "\u001b[?25h  Stored in directory: /root/.cache/pip/wheels/4f/ce/2c/12db89fa56f78dbed6c4dedd5fd8e4d8334bfb56952c1db505\n",
            "  Running setup.py bdist_wheel for stanity ... \u001b[?25l-\b \bdone\n",
            "\u001b[?25h  Stored in directory: /root/.cache/pip/wheels/a1/43/08/b0f99fa0f17a67f6f886d7e4fc47ad9f204c82796afad86b05\n",
            "  Running setup.py bdist_wheel for gitpython ... \u001b[?25l-\b \b\\\b \bdone\n",
            "\u001b[?25h  Stored in directory: /root/.cache/pip/wheels/a0/f9/86/86f71d7f28712562519932887ee0965eeaa6e05d0b045eec20\n",
            "  Running setup.py bdist_wheel for typechecks ... \u001b[?25l-\b \bdone\n",
            "\u001b[?25h  Stored in directory: /root/.cache/pip/wheels/27/ad/82/4a9bbc88f1d31bb1a0c053e29efafc02f56e2ed1598f5639b2\n",
            "  Running setup.py bdist_wheel for gitdb ... \u001b[?25l-\b \b\\\b \b|\b \b/\b \b-\b \bdone\n",
            "\u001b[?25h  Stored in directory: /root/.cache/pip/wheels/d1/7e/c5/1093bc36622d7d06ed6520a50280771ebff8c190d92bd402b6\n",
            "  Running setup.py bdist_wheel for smmap ... \u001b[?25l-\b \bdone\n",
            "\u001b[?25h  Stored in directory: /root/.cache/pip/wheels/d6/a5/09/cb584a95ad332da2bf0265a8b0423c562a99553a3edf148d12\n",
            "Successfully built survivalstan pypi-publisher stanity gitpython typechecks gitdb smmap\n",
            "Installing collected packages: docutils, snowballstemmer, sphinxcontrib-websupport, imagesize, babel, packaging, alabaster, sphinx, sphinx-rtd-theme, coverage, smmap, gitdb, gitpython, pypi-publisher, nose, mccabe, isort, lazy-object-proxy, typed-ast, astroid, pylint, typechecks, stanity, lifelines, versioneer, survivalstan\n",
            "Successfully installed alabaster-0.7.12 astroid-2.1.0 babel-2.6.0 coverage-4.5.2 docutils-0.14 gitdb-0.6.4 gitpython-0.3.6 imagesize-1.1.0 isort-4.3.4 lazy-object-proxy-1.3.1 lifelines-0.15.1 mccabe-0.6.1 nose-1.3.7 packaging-18.0 pylint-2.2.2 pypi-publisher-0.0.4 smmap-0.9.0 snowballstemmer-1.2.1 sphinx-1.8.2 sphinx-rtd-theme-0.4.2 sphinxcontrib-websupport-1.1.0 stanity-0.1.4 survivalstan-0.1.2.5 typechecks-0.1.0 typed-ast-1.1.0 versioneer-0.18\n",
            "Collecting importlib\n",
            "  Downloading https://files.pythonhosted.org/packages/31/77/3781f65cafe55480b56914def99022a5d2965a4bb269655c89ef2f1de3cd/importlib-1.0.4.zip\n",
            "Building wheels for collected packages: importlib\n",
            "  Running setup.py bdist_wheel for importlib ... \u001b[?25l-\b \bdone\n",
            "\u001b[?25h  Stored in directory: /root/.cache/pip/wheels/26/eb/96/a8a055637794153edb35b7f7f97de528350367d42d8829c187\n",
            "Successfully built importlib\n",
            "Installing collected packages: importlib\n",
            "Successfully installed importlib-1.0.4\n"
          ],
          "name": "stdout"
        }
      ]
    },
    {
      "metadata": {
        "id": "k9GOdeBG7Xy0",
        "colab_type": "code",
        "colab": {}
      },
      "cell_type": "code",
      "source": [
        "%matplotlib inline\n",
        "\n",
        "import random\n",
        "random.seed(123)\n",
        "\n",
        "import numpy as np\n",
        "import pandas as pd\n",
        "\n",
        "from matplotlib import pyplot as plt\n",
        "\n",
        "import importlib"
      ],
      "execution_count": 0,
      "outputs": []
    },
    {
      "metadata": {
        "id": "mImkC_2I7Xy4",
        "colab_type": "code",
        "colab": {}
      },
      "cell_type": "code",
      "source": [
        "import pystan\n",
        "import stan_utility\n",
        "\n",
        "import survivalstan"
      ],
      "execution_count": 0,
      "outputs": []
    },
    {
      "metadata": {
        "id": "mChExKwX7Xy9",
        "colab_type": "text"
      },
      "cell_type": "markdown",
      "source": [
        "### Bayesian survival analysis - Explore SurvivalStan\n",
        "Tutorial:\n",
        "http://www.hammerlab.org/2017/06/26/introducing-survivalstan/"
      ]
    },
    {
      "metadata": {
        "id": "bPHPAULW7Xy-",
        "colab_type": "code",
        "colab": {
          "base_uri": "https://localhost:8080/",
          "height": 195
        },
        "outputId": "081113a1-95fa-4522-f295-5cb1d6672127"
      },
      "cell_type": "code",
      "source": [
        "# Simulate data\n",
        "# Model: exp(-3*t) * exp(0.5*sex)\n",
        "df2 = survivalstan.sim.sim_data_exp_correlated(\n",
        "    N=500, censor_time=20, rate_form='1 + sex', rate_coefs=[-3, 0.5])\n",
        "\n",
        "df2.head()"
      ],
      "execution_count": 16,
      "outputs": [
        {
          "output_type": "execute_result",
          "data": {
            "text/html": [
              "<div>\n",
              "<style scoped>\n",
              "    .dataframe tbody tr th:only-of-type {\n",
              "        vertical-align: middle;\n",
              "    }\n",
              "\n",
              "    .dataframe tbody tr th {\n",
              "        vertical-align: top;\n",
              "    }\n",
              "\n",
              "    .dataframe thead th {\n",
              "        text-align: right;\n",
              "    }\n",
              "</style>\n",
              "<table border=\"1\" class=\"dataframe\">\n",
              "  <thead>\n",
              "    <tr style=\"text-align: right;\">\n",
              "      <th></th>\n",
              "      <th>age</th>\n",
              "      <th>sex</th>\n",
              "      <th>rate</th>\n",
              "      <th>true_t</th>\n",
              "      <th>t</th>\n",
              "      <th>event</th>\n",
              "      <th>index</th>\n",
              "    </tr>\n",
              "  </thead>\n",
              "  <tbody>\n",
              "    <tr>\n",
              "      <th>0</th>\n",
              "      <td>41</td>\n",
              "      <td>male</td>\n",
              "      <td>0.082085</td>\n",
              "      <td>10.267403</td>\n",
              "      <td>10.267403</td>\n",
              "      <td>True</td>\n",
              "      <td>0</td>\n",
              "    </tr>\n",
              "    <tr>\n",
              "      <th>1</th>\n",
              "      <td>50</td>\n",
              "      <td>female</td>\n",
              "      <td>0.049787</td>\n",
              "      <td>8.993303</td>\n",
              "      <td>8.993303</td>\n",
              "      <td>True</td>\n",
              "      <td>1</td>\n",
              "    </tr>\n",
              "    <tr>\n",
              "      <th>2</th>\n",
              "      <td>44</td>\n",
              "      <td>female</td>\n",
              "      <td>0.049787</td>\n",
              "      <td>4.076072</td>\n",
              "      <td>4.076072</td>\n",
              "      <td>True</td>\n",
              "      <td>2</td>\n",
              "    </tr>\n",
              "    <tr>\n",
              "      <th>3</th>\n",
              "      <td>59</td>\n",
              "      <td>female</td>\n",
              "      <td>0.049787</td>\n",
              "      <td>25.053230</td>\n",
              "      <td>20.000000</td>\n",
              "      <td>False</td>\n",
              "      <td>3</td>\n",
              "    </tr>\n",
              "    <tr>\n",
              "      <th>4</th>\n",
              "      <td>54</td>\n",
              "      <td>male</td>\n",
              "      <td>0.082085</td>\n",
              "      <td>3.215231</td>\n",
              "      <td>3.215231</td>\n",
              "      <td>True</td>\n",
              "      <td>4</td>\n",
              "    </tr>\n",
              "  </tbody>\n",
              "</table>\n",
              "</div>"
            ],
            "text/plain": [
              "   age     sex      rate     true_t          t  event  index\n",
              "0   41    male  0.082085  10.267403  10.267403   True      0\n",
              "1   50  female  0.049787   8.993303   8.993303   True      1\n",
              "2   44  female  0.049787   4.076072   4.076072   True      2\n",
              "3   59  female  0.049787  25.053230  20.000000  False      3\n",
              "4   54    male  0.082085   3.215231   3.215231   True      4"
            ]
          },
          "metadata": {
            "tags": []
          },
          "execution_count": 16
        }
      ]
    },
    {
      "metadata": {
        "id": "LDE3hcTY7XzC",
        "colab_type": "code",
        "colab": {
          "base_uri": "https://localhost:8080/",
          "height": 282
        },
        "outputId": "69d92158-0c23-4cf2-81d5-bdefc0342026"
      },
      "cell_type": "code",
      "source": [
        "survivalstan.utils.plot_observed_survival(\n",
        "    df2.query('sex == \"female\"'),\n",
        "    time_col='t',\n",
        "    event_col='event',\n",
        "    label='female')\n",
        "survivalstan.utils.plot_observed_survival(\n",
        "    df2.query('sex == \"male\"'),\n",
        "    time_col='t',\n",
        "    event_col='event',\n",
        "    label='male')\n",
        "plt.legend()"
      ],
      "execution_count": 17,
      "outputs": [
        {
          "output_type": "execute_result",
          "data": {
            "text/plain": [
              "<matplotlib.legend.Legend at 0x7f400b5d1e10>"
            ]
          },
          "metadata": {
            "tags": []
          },
          "execution_count": 17
        },
        {
          "output_type": "display_data",
          "data": {
            "image/png": "[encoded data removed]",
            "text/plain": [
              "<matplotlib.figure.Figure at 0x7f400b5e4160>"
            ]
          },
          "metadata": {
            "tags": []
          }
        }
      ]
    },
    {
      "metadata": {
        "id": "Fn3Y_4bi7XzF",
        "colab_type": "code",
        "colab": {
          "base_uri": "https://localhost:8080/",
          "height": 205
        },
        "outputId": "75ec2420-1265-45c2-a45b-12356ff1b657"
      },
      "cell_type": "code",
      "source": [
        "# Model used\n",
        "# print(survivalstan.models.exp_survival_model)\n",
        "Niter = 5000\n",
        "Nchains = 4\n",
        "max_treedepth = 20\n",
        "\n",
        "fit1 = survivalstan.fit_stan_survival_model(\n",
        "    df=df2,\n",
        "    time_col='t',\n",
        "    event_col='event',\n",
        "    model_code=survivalstan.models.exp_survival_model,\n",
        "    formula='~ age + sex',\n",
        "    model_cohort = 'exp model',\n",
        "    iter = Niter,\n",
        "    chains = Nchains,\n",
        "    stan_data = {'max_treedepth': max_treedepth,\n",
        "                 'adapt_delta': 0.99,\n",
        "                 'warmup': 8000},\n",
        "    seed = 123\n",
        ")"
      ],
      "execution_count": 18,
      "outputs": [
        {
          "output_type": "stream",
          "text": [
            "INFO:pystan:COMPILING THE C++ CODE FOR MODEL anon_model_f77411c14d5fdde0f8f2d85efd32dc56 NOW.\n"
          ],
          "name": "stderr"
        },
        {
          "output_type": "stream",
          "text": [
            "NOT reusing model.\n"
          ],
          "name": "stdout"
        },
        {
          "output_type": "stream",
          "text": [
            "/usr/local/lib/python3.6/dist-packages/Cython/Compiler/Main.py:367: FutureWarning: Cython directive 'language_level' not set, using 2 for now (Py2). This will change in a later release! File: /tmp/tmp6qada9mt/stanfit4anon_model_f77411c14d5fdde0f8f2d85efd32dc56_3844980300137785280.pyx\n",
            "  tree = Parsing.p_module(s, pxd, full_module_name)\n",
            "WARNING:pystan:Rhat for parameter tau_raw[2] is 1.1721425116037232!\n",
            "WARNING:pystan:Rhat for parameter log_lik[149] is 1.1000333944915106!\n",
            "WARNING:pystan:Rhat above 1.1 or below 0.9 indicates that the chains very likely have not mixed\n",
            "WARNING:pystan:2101 of 10000 iterations ended with a divergence (21.01%).\n",
            "WARNING:pystan:Try running with adapt_delta larger than 0.8 to remove the divergences.\n"
          ],
          "name": "stderr"
        },
        {
          "output_type": "stream",
          "text": [
            "Ran in 337.114 sec.\n"
          ],
          "name": "stdout"
        }
      ]
    },
    {
      "metadata": {
        "id": "UE2qQN0w-EQU",
        "colab_type": "code",
        "colab": {
          "base_uri": "https://localhost:8080/",
          "height": 136
        },
        "outputId": "626996fe-68a9-43e1-b082-06ad9062e6c0"
      },
      "cell_type": "code",
      "source": [
        "# Diagnostics - tutorial\n",
        "survivalstan.utils.filter_stan_summary([fit1], pars=['lp__','beta'])"
      ],
      "execution_count": 19,
      "outputs": [
        {
          "output_type": "execute_result",
          "data": {
            "text/html": [
              "<div>\n",
              "<style scoped>\n",
              "    .dataframe tbody tr th:only-of-type {\n",
              "        vertical-align: middle;\n",
              "    }\n",
              "\n",
              "    .dataframe tbody tr th {\n",
              "        vertical-align: top;\n",
              "    }\n",
              "\n",
              "    .dataframe thead th {\n",
              "        text-align: right;\n",
              "    }\n",
              "</style>\n",
              "<table border=\"1\" class=\"dataframe\">\n",
              "  <thead>\n",
              "    <tr style=\"text-align: right;\">\n",
              "      <th></th>\n",
              "      <th>mean</th>\n",
              "      <th>se_mean</th>\n",
              "      <th>sd</th>\n",
              "      <th>2.5%</th>\n",
              "      <th>50%</th>\n",
              "      <th>97.5%</th>\n",
              "      <th>Rhat</th>\n",
              "    </tr>\n",
              "  </thead>\n",
              "  <tbody>\n",
              "    <tr>\n",
              "      <th>lp__</th>\n",
              "      <td>-1357.905960</td>\n",
              "      <td>0.227870</td>\n",
              "      <td>2.378224</td>\n",
              "      <td>-1363.472717</td>\n",
              "      <td>-1357.473731</td>\n",
              "      <td>-1354.351369</td>\n",
              "      <td>1.057248</td>\n",
              "    </tr>\n",
              "    <tr>\n",
              "      <th>beta[1]</th>\n",
              "      <td>0.482973</td>\n",
              "      <td>0.005966</td>\n",
              "      <td>0.106305</td>\n",
              "      <td>0.280151</td>\n",
              "      <td>0.481027</td>\n",
              "      <td>0.697667</td>\n",
              "      <td>1.018557</td>\n",
              "    </tr>\n",
              "    <tr>\n",
              "      <th>beta[2]</th>\n",
              "      <td>-0.004760</td>\n",
              "      <td>0.001005</td>\n",
              "      <td>0.007604</td>\n",
              "      <td>-0.019251</td>\n",
              "      <td>-0.005029</td>\n",
              "      <td>0.009420</td>\n",
              "      <td>1.086090</td>\n",
              "    </tr>\n",
              "  </tbody>\n",
              "</table>\n",
              "</div>"
            ],
            "text/plain": [
              "                mean   se_mean        sd         2.5%          50%  \\\n",
              "lp__    -1357.905960  0.227870  2.378224 -1363.472717 -1357.473731   \n",
              "beta[1]     0.482973  0.005966  0.106305     0.280151     0.481027   \n",
              "beta[2]    -0.004760  0.001005  0.007604    -0.019251    -0.005029   \n",
              "\n",
              "               97.5%      Rhat  \n",
              "lp__    -1354.351369  1.057248  \n",
              "beta[1]     0.697667  1.018557  \n",
              "beta[2]     0.009420  1.086090  "
            ]
          },
          "metadata": {
            "tags": []
          },
          "execution_count": 19
        }
      ]
    },
    {
      "metadata": {
        "id": "Et0G22im7XzJ",
        "colab_type": "code",
        "colab": {
          "base_uri": "https://localhost:8080/",
          "height": 151
        },
        "outputId": "f19903b9-0f9e-41fe-eacc-bd8713ef4d12"
      },
      "cell_type": "code",
      "source": [
        "# Diagnostics\n",
        "# http://mc-stan.org/users/documentation/case-studies/pystan_workflow.html\n",
        "\n",
        "sfit1 = fit1['fit']\n",
        "stan_utility.check_all_diagnostics(sfit1)"
      ],
      "execution_count": 21,
      "outputs": [
        {
          "output_type": "stream",
          "text": [
            "n_eff / iter looks reasonable for all parameters\n",
            "Rhat for parameter tau_raw[2] is 1.1721425116037232!\n",
            "Rhat for parameter log_lik[149] is 1.1000333944915106!\n",
            "  Rhat above 1.1 indicates that the chains very likely have not mixed\n",
            "2101.0 of 10000 iterations ended with a divergence (21.01%)\n",
            "  Try running with larger adapt_delta to remove the divergences\n",
            "0 of 10000 iterations saturated the maximum tree depth of 10 (0.0%)\n",
            "E-BFMI indicated no pathological behavior\n"
          ],
          "name": "stdout"
        }
      ]
    },
    {
      "metadata": {
        "id": "l5g-Yjsd7XzM",
        "colab_type": "code",
        "colab": {
          "base_uri": "https://localhost:8080/",
          "height": 282
        },
        "outputId": "f54e9868-94f0-4cbc-af87-82b0f3440c42"
      },
      "cell_type": "code",
      "source": [
        "light=\"#DCBCBC\"\n",
        "light_highlight=\"#C79999\"\n",
        "mid=\"#B97C7C\"\n",
        "mid_highlight=\"#A25050\"\n",
        "dark=\"#8F2727\"\n",
        "dark_highlight=\"#7C0000\"\n",
        "green=\"#00FF00\"\n",
        "\n",
        "nondiv_params, div_params = stan_utility.partition_div(sfit1)\n",
        "\n",
        "plt.scatter([x[0] for x in nondiv_params['beta']], [x[1] for x in nondiv_params['beta']], \n",
        "             color = mid_highlight, alpha=0.1)\n",
        "\n",
        "plt.scatter([x[0] for x in div_params['beta']], [x[1] for x in div_params['beta']], \n",
        "             color = green, alpha=0.25)"
      ],
      "execution_count": 22,
      "outputs": [
        {
          "output_type": "execute_result",
          "data": {
            "text/plain": [
              "<matplotlib.collections.PathCollection at 0x7f4007ccae10>"
            ]
          },
          "metadata": {
            "tags": []
          },
          "execution_count": 22
        },
        {
          "output_type": "display_data",
          "data": {
            "image/png": "[encoded data removed]",
            "text/plain": [
              "<matplotlib.figure.Figure at 0x7f4008803a20>"
            ]
          },
          "metadata": {
            "tags": []
          }
        }
      ]
    },
    {
      "metadata": {
        "id": "-zOzQtlf7Xzj",
        "colab_type": "code",
        "colab": {}
      },
      "cell_type": "code",
      "source": [
        ""
      ],
      "execution_count": 0,
      "outputs": []
    }
  ]
}