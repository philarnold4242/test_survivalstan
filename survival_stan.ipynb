{
 "cells": [
  {
   "cell_type": "markdown",
   "metadata": {},
   "source": [
    "# SurvivalStan"
   ]
  },
  {
   "cell_type": "markdown",
   "metadata": {},
   "source": [
    "Tutorial: http://www.hammerlab.org/2017/06/26/introducing-survivalstan/"
   ]
  },
  {
   "cell_type": "markdown",
   "metadata": {},
   "source": [
    "TODO\n",
    "\n",
    "- [] Plot divergent transitions for different runs with different options\n",
    "- [] Run model independent of SurvivalStan so that I can reparametrize\n",
    "- [] Change prior ranges\n",
    "- [] Reparametrize"
   ]
  },
  {
   "cell_type": "markdown",
   "metadata": {},
   "source": [
    "## Set up environment"
   ]
  },
  {
   "cell_type": "code",
   "execution_count": 1,
   "metadata": {},
   "outputs": [
    {
     "name": "stdout",
     "output_type": "stream",
     "text": [
      "--2019-07-25 05:22:17--  https://raw.githubusercontent.com/betanalpha/jupyter_case_studies/master/pystan_workflow/stan_utility.py\n",
      "Resolving raw.githubusercontent.com (raw.githubusercontent.com)... 151.101.112.133\n",
      "Connecting to raw.githubusercontent.com (raw.githubusercontent.com)|151.101.112.133|:443... connected.\n",
      "HTTP request sent, awaiting response... 200 OK\n",
      "Length: 5593 (5.5K) [text/plain]\n",
      "Saving to: ‘stan_utility.py’\n",
      "\n",
      "stan_utility.py     100%[===================>]   5.46K  --.-KB/s    in 0s      \n",
      "\n",
      "2019-07-25 05:22:17 (137 MB/s) - ‘stan_utility.py’ saved [5593/5593]\n",
      "\n",
      "Requirement already up-to-date: pip in /home/arnoldp9/.local/lib/python3.6/site-packages (19.2.1)\n",
      "Requirement already satisfied: pystan in /home/arnoldp9/.local/lib/python3.6/site-packages (2.19.0.0)\n",
      "Requirement already satisfied: Cython!=0.25.1,>=0.22 in /opt/conda/lib/python3.6/site-packages (from pystan) (0.29.7)\n",
      "Requirement already satisfied: numpy>=1.7 in /opt/conda/lib/python3.6/site-packages (from pystan) (1.16.3)\n",
      "fatal: destination path 'survivalstan' already exists and is not an empty directory.\n",
      "Uninstalling survivalstan-0.1.2.8:\n",
      "  Successfully uninstalled survivalstan-0.1.2.8\n",
      "Processing ./survivalstan\n",
      "Requirement already satisfied: sphinx in /home/arnoldp9/.local/lib/python3.6/site-packages (from survivalstan==0.1.2.8) (2.1.2)\n",
      "Requirement already satisfied: sphinx_rtd_theme in /home/arnoldp9/.local/lib/python3.6/site-packages (from survivalstan==0.1.2.8) (0.4.3)\n",
      "Requirement already satisfied: coverage in /home/arnoldp9/.local/lib/python3.6/site-packages (from survivalstan==0.1.2.8) (4.5.3)\n",
      "Requirement already satisfied: pypi-publisher in /home/arnoldp9/.local/lib/python3.6/site-packages (from survivalstan==0.1.2.8) (0.0.4)\n",
      "Requirement already satisfied: Cython>=0.19 in /opt/conda/lib/python3.6/site-packages (from survivalstan==0.1.2.8) (0.29.7)\n",
      "Requirement already satisfied: numpy in /opt/conda/lib/python3.6/site-packages (from survivalstan==0.1.2.8) (1.16.3)\n",
      "Requirement already satisfied: patsy in /opt/conda/lib/python3.6/site-packages (from survivalstan==0.1.2.8) (0.5.1)\n",
      "Requirement already satisfied: nose>=1.3.3 in /home/arnoldp9/.local/lib/python3.6/site-packages (from survivalstan==0.1.2.8) (1.3.7)\n",
      "Requirement already satisfied: pylint>=1.4.4 in /home/arnoldp9/.local/lib/python3.6/site-packages (from survivalstan==0.1.2.8) (2.3.1)\n",
      "Requirement already satisfied: stanity>=0.1.2 in /home/arnoldp9/.local/lib/python3.6/site-packages (from survivalstan==0.1.2.8) (0.1.4)\n",
      "Requirement already satisfied: pystan>=2.12.0 in /home/arnoldp9/.local/lib/python3.6/site-packages (from survivalstan==0.1.2.8) (2.19.0.0)\n",
      "Requirement already satisfied: lifelines in /home/arnoldp9/.local/lib/python3.6/site-packages (from survivalstan==0.1.2.8) (0.22.1)\n",
      "Requirement already satisfied: versioneer in /home/arnoldp9/.local/lib/python3.6/site-packages (from survivalstan==0.1.2.8) (0.18)\n",
      "Requirement already satisfied: numexpr>=2.6.1 in /opt/conda/lib/python3.6/site-packages (from survivalstan==0.1.2.8) (2.6.9)\n",
      "Requirement already satisfied: sphinxcontrib-applehelp in /home/arnoldp9/.local/lib/python3.6/site-packages (from sphinx->survivalstan==0.1.2.8) (1.0.1)\n",
      "Requirement already satisfied: packaging in /opt/conda/lib/python3.6/site-packages (from sphinx->survivalstan==0.1.2.8) (19.0)\n",
      "Requirement already satisfied: sphinxcontrib-qthelp in /home/arnoldp9/.local/lib/python3.6/site-packages (from sphinx->survivalstan==0.1.2.8) (1.0.2)\n",
      "Requirement already satisfied: alabaster<0.8,>=0.7 in /home/arnoldp9/.local/lib/python3.6/site-packages (from sphinx->survivalstan==0.1.2.8) (0.7.12)\n",
      "Requirement already satisfied: imagesize in /home/arnoldp9/.local/lib/python3.6/site-packages (from sphinx->survivalstan==0.1.2.8) (1.1.0)\n",
      "Requirement already satisfied: setuptools in /opt/conda/lib/python3.6/site-packages (from sphinx->survivalstan==0.1.2.8) (41.0.1)\n",
      "Requirement already satisfied: snowballstemmer>=1.1 in /home/arnoldp9/.local/lib/python3.6/site-packages (from sphinx->survivalstan==0.1.2.8) (1.9.0)\n",
      "Requirement already satisfied: requests>=2.5.0 in /opt/conda/lib/python3.6/site-packages (from sphinx->survivalstan==0.1.2.8) (2.22.0)\n",
      "Requirement already satisfied: sphinxcontrib-serializinghtml in /home/arnoldp9/.local/lib/python3.6/site-packages (from sphinx->survivalstan==0.1.2.8) (1.1.3)\n",
      "Requirement already satisfied: sphinxcontrib-htmlhelp in /home/arnoldp9/.local/lib/python3.6/site-packages (from sphinx->survivalstan==0.1.2.8) (1.0.2)\n",
      "Requirement already satisfied: sphinxcontrib-devhelp in /home/arnoldp9/.local/lib/python3.6/site-packages (from sphinx->survivalstan==0.1.2.8) (1.0.1)\n",
      "Requirement already satisfied: Jinja2>=2.3 in /opt/conda/lib/python3.6/site-packages (from sphinx->survivalstan==0.1.2.8) (2.10.1)\n",
      "Requirement already satisfied: Pygments>=2.0 in /opt/conda/lib/python3.6/site-packages (from sphinx->survivalstan==0.1.2.8) (2.4.1)\n",
      "Requirement already satisfied: babel!=2.0,>=1.3 in /home/arnoldp9/.local/lib/python3.6/site-packages (from sphinx->survivalstan==0.1.2.8) (2.7.0)\n",
      "Requirement already satisfied: docutils>=0.12 in /home/arnoldp9/.local/lib/python3.6/site-packages (from sphinx->survivalstan==0.1.2.8) (0.15)\n",
      "Requirement already satisfied: sphinxcontrib-jsmath in /home/arnoldp9/.local/lib/python3.6/site-packages (from sphinx->survivalstan==0.1.2.8) (1.0.1)\n",
      "Requirement already satisfied: gitpython==0.3.6 in /home/arnoldp9/.local/lib/python3.6/site-packages (from pypi-publisher->survivalstan==0.1.2.8) (0.3.6)\n",
      "Requirement already satisfied: six in /opt/conda/lib/python3.6/site-packages (from patsy->survivalstan==0.1.2.8) (1.12.0)\n",
      "Requirement already satisfied: astroid<3,>=2.2.0 in /home/arnoldp9/.local/lib/python3.6/site-packages (from pylint>=1.4.4->survivalstan==0.1.2.8) (2.2.5)\n",
      "Requirement already satisfied: isort<5,>=4.2.5 in /home/arnoldp9/.local/lib/python3.6/site-packages (from pylint>=1.4.4->survivalstan==0.1.2.8) (4.3.21)\n",
      "Requirement already satisfied: mccabe<0.7,>=0.6 in /home/arnoldp9/.local/lib/python3.6/site-packages (from pylint>=1.4.4->survivalstan==0.1.2.8) (0.6.1)\n",
      "Requirement already satisfied: typechecks in /home/arnoldp9/.local/lib/python3.6/site-packages (from stanity>=0.1.2->survivalstan==0.1.2.8) (0.1.0)\n",
      "Requirement already satisfied: pandas in /opt/conda/lib/python3.6/site-packages (from stanity>=0.1.2->survivalstan==0.1.2.8) (0.24.2)\n",
      "Requirement already satisfied: future>=0.14.3 in /home/arnoldp9/.local/lib/python3.6/site-packages (from stanity>=0.1.2->survivalstan==0.1.2.8) (0.17.1)\n",
      "Requirement already satisfied: seaborn in /opt/conda/lib/python3.6/site-packages (from stanity>=0.1.2->survivalstan==0.1.2.8) (0.9.0)\n",
      "Requirement already satisfied: scipy<=1.2.1,>=1.0 in /home/arnoldp9/.local/lib/python3.6/site-packages (from lifelines->survivalstan==0.1.2.8) (1.2.1)\n",
      "Requirement already satisfied: autograd>=1.2 in /home/arnoldp9/.local/lib/python3.6/site-packages (from lifelines->survivalstan==0.1.2.8) (1.2)\n",
      "Requirement already satisfied: matplotlib>=3.0 in /opt/conda/lib/python3.6/site-packages (from lifelines->survivalstan==0.1.2.8) (3.1.0)\n",
      "Requirement already satisfied: autograd-gamma>=0.3 in /home/arnoldp9/.local/lib/python3.6/site-packages (from lifelines->survivalstan==0.1.2.8) (0.4.1)\n",
      "Requirement already satisfied: bottleneck>=1.0 in /home/arnoldp9/.local/lib/python3.6/site-packages (from lifelines->survivalstan==0.1.2.8) (1.2.1)\n",
      "Requirement already satisfied: pyparsing>=2.0.2 in /opt/conda/lib/python3.6/site-packages (from packaging->sphinx->survivalstan==0.1.2.8) (2.4.0)\n",
      "Requirement already satisfied: idna<2.9,>=2.5 in /opt/conda/lib/python3.6/site-packages (from requests>=2.5.0->sphinx->survivalstan==0.1.2.8) (2.8)\n",
      "Requirement already satisfied: certifi>=2017.4.17 in /opt/conda/lib/python3.6/site-packages (from requests>=2.5.0->sphinx->survivalstan==0.1.2.8) (2019.3.9)\n",
      "Requirement already satisfied: urllib3!=1.25.0,!=1.25.1,<1.26,>=1.21.1 in /opt/conda/lib/python3.6/site-packages (from requests>=2.5.0->sphinx->survivalstan==0.1.2.8) (1.24.3)\n",
      "Requirement already satisfied: chardet<3.1.0,>=3.0.2 in /opt/conda/lib/python3.6/site-packages (from requests>=2.5.0->sphinx->survivalstan==0.1.2.8) (3.0.4)\n",
      "Requirement already satisfied: MarkupSafe>=0.23 in /opt/conda/lib/python3.6/site-packages (from Jinja2>=2.3->sphinx->survivalstan==0.1.2.8) (1.1.1)\n",
      "Requirement already satisfied: pytz>=2015.7 in /opt/conda/lib/python3.6/site-packages (from babel!=2.0,>=1.3->sphinx->survivalstan==0.1.2.8) (2019.1)\n",
      "Requirement already satisfied: gitdb>=0.6.4 in /home/arnoldp9/.local/lib/python3.6/site-packages (from gitpython==0.3.6->pypi-publisher->survivalstan==0.1.2.8) (0.6.4)\n",
      "Requirement already satisfied: wrapt in /home/arnoldp9/.local/lib/python3.6/site-packages (from astroid<3,>=2.2.0->pylint>=1.4.4->survivalstan==0.1.2.8) (1.11.2)\n",
      "Requirement already satisfied: typed-ast>=1.3.0; implementation_name == \"cpython\" in /home/arnoldp9/.local/lib/python3.6/site-packages (from astroid<3,>=2.2.0->pylint>=1.4.4->survivalstan==0.1.2.8) (1.4.0)\n"
     ]
    },
    {
     "name": "stdout",
     "output_type": "stream",
     "text": [
      "Requirement already satisfied: lazy-object-proxy in /home/arnoldp9/.local/lib/python3.6/site-packages (from astroid<3,>=2.2.0->pylint>=1.4.4->survivalstan==0.1.2.8) (1.4.1)\n",
      "Requirement already satisfied: python-dateutil>=2.5.0 in /opt/conda/lib/python3.6/site-packages (from pandas->stanity>=0.1.2->survivalstan==0.1.2.8) (2.8.0)\n",
      "Requirement already satisfied: cycler>=0.10 in /opt/conda/lib/python3.6/site-packages (from matplotlib>=3.0->lifelines->survivalstan==0.1.2.8) (0.10.0)\n",
      "Requirement already satisfied: kiwisolver>=1.0.1 in /opt/conda/lib/python3.6/site-packages (from matplotlib>=3.0->lifelines->survivalstan==0.1.2.8) (1.1.0)\n",
      "Requirement already satisfied: smmap>=0.8.5 in /home/arnoldp9/.local/lib/python3.6/site-packages (from gitdb>=0.6.4->gitpython==0.3.6->pypi-publisher->survivalstan==0.1.2.8) (0.9.0)\n",
      "Building wheels for collected packages: survivalstan\n",
      "  Building wheel for survivalstan (setup.py) ... \u001b[?25ldone\n",
      "\u001b[?25h  Created wheel for survivalstan: filename=survivalstan-0.1.2.8-py2.py3-none-any.whl size=51505 sha256=de8284036c7c424a6e2482d4a20c47b59fe7d87273edad24f72cdfe8e2f46acd\n",
      "  Stored in directory: /tmp/pip-ephem-wheel-cache-ntra57be/wheels/14/78/50/ed05ddb3d2941b402a3072e01785737037153416a42ab1bdac\n",
      "Successfully built survivalstan\n",
      "Installing collected packages: survivalstan\n",
      "Successfully installed survivalstan-0.1.2.8\n"
     ]
    }
   ],
   "source": [
    "# Install Stan utilities\n",
    "\n",
    "!rm stan_utility.py\n",
    "!wget https://raw.githubusercontent.com/betanalpha/jupyter_case_studies/master/pystan_workflow/stan_utility.py\n",
    "    \n",
    "\n",
    "# Upgrade pip\n",
    "!pip3 install --user --upgrade pip\n",
    "\n",
    "\n",
    "# Install PyStan\n",
    "!pip3 install --user pystan\n",
    "\n",
    "\n",
    "# Install SurvivalStan\n",
    "!git clone https://github.com/hammerlab/survivalstan.git\n",
    "!pip3 uninstall --yes survivalstan\n",
    "!pip3 install --user survivalstan/."
   ]
  },
  {
   "cell_type": "code",
   "execution_count": 2,
   "metadata": {},
   "outputs": [],
   "source": [
    "import sys\n",
    "import os\n",
    "\n",
    "import numpy as np\n",
    "import pandas as pd\n",
    "\n",
    "%matplotlib inline\n",
    "from matplotlib import pyplot as plt\n",
    "\n",
    "import pystan\n",
    "import survivalstan\n",
    "import stan_utility"
   ]
  },
  {
   "cell_type": "markdown",
   "metadata": {},
   "source": [
    "## Simple exponential model with covariates\n",
    "\n",
    "This serves as a simple sanity check.\n",
    "\n",
    "$S(t) = \\exp( -at ) \\exp( \\beta \\cdot X )$\n",
    "\n",
    "The following prior strategy will be used:\n",
    "\n",
    "* Priors for established risk factors\n",
    "* Priors for factor with more uncertain relevance"
   ]
  },
  {
   "cell_type": "code",
   "execution_count": 3,
   "metadata": {},
   "outputs": [
    {
     "data": {
      "text/plain": [
       "<matplotlib.legend.Legend at 0x7fd60d66b2e8>"
      ]
     },
     "execution_count": 3,
     "metadata": {},
     "output_type": "execute_result"
    },
    {
     "data": {
      "image/png": "[encoded data removed]",
      "text/plain": [
       "<Figure size 432x288 with 1 Axes>"
      ]
     },
     "metadata": {
      "needs_background": "light"
     },
     "output_type": "display_data"
    }
   ],
   "source": [
    "# Simulate Data\n",
    "df2 = survivalstan.sim.sim_data_exp_correlated(\n",
    "    N=500, censor_time=20, rate_form='1 + sex', rate_coefs=[-3, 0.5])\n",
    "\n",
    "\n",
    "survivalstan.utils.plot_observed_survival(\n",
    "    df2.query('sex == \"female\"'),\n",
    "    time_col='t',\n",
    "    event_col='event',\n",
    "    label='female')\n",
    "\n",
    "survivalstan.utils.plot_observed_survival(\n",
    "    df2.query('sex == \"male\"'),\n",
    "    time_col='t',\n",
    "    event_col='event',\n",
    "    label='male')\n",
    "\n",
    "plt.legend()"
   ]
  },
  {
   "cell_type": "code",
   "execution_count": 13,
   "metadata": {},
   "outputs": [],
   "source": [
    "# Infer parameters\n",
    "def infer_params(Niter = 2000, Nchains = 2, Nwarmup = 1500, Nadapt_delta = 0.9):\n",
    "\n",
    "    ctrl = dict(adapt_delta = Nadapt_delta,\n",
    "                max_treedepth = 20)\n",
    "\n",
    "    fit2_org = survivalstan.fit_stan_survival_model(\n",
    "        df=df2,\n",
    "        time_col='t',\n",
    "        event_col='event',\n",
    "        model_code=survivalstan.models.exp_survival_model,\n",
    "        formula='~ age + sex',\n",
    "        model_cohort = 'exp model',\n",
    "        iter = Niter,\n",
    "        chains = Nchains,\n",
    "        warmup = Nwarmup,\n",
    "        control = ctrl)\n",
    "    \n",
    "    return fit2_org\n",
    "\n",
    "\n",
    "# Plot divergent transitions\n",
    "def div_trans_beta(fit):\n",
    "    \n",
    "    light=\"#DCBCBC\"\n",
    "    light_highlight=\"#C79999\"\n",
    "    mid=\"#B97C7C\"\n",
    "    mid_highlight=\"#A25050\"\n",
    "    dark=\"#8F2727\"\n",
    "    dark_highlight=\"#7C0000\"\n",
    "    green=\"#00FF00\"\n",
    "\n",
    "    nondiv_params, div_params = stan_utility.partition_div(fit)\n",
    "\n",
    "    plt.scatter([x[0] for x in nondiv_params['beta']], \n",
    "                [x[1] for x in nondiv_params['beta']], \\\n",
    "                 color = mid_highlight, alpha=0.05)\n",
    "    plt.scatter([x[0] for x in div_params['beta']],\n",
    "                [x[1] for x in div_params['beta']], \\\n",
    "                 color = green, alpha=0.5)\n",
    "\n",
    "    plt.gca().set_xlabel(\"beta_1\")\n",
    "    plt.gca().set_ylabel(\"beta_2\")\n",
    "\n",
    "    plt.show()\n",
    "    \n",
    "    \n",
    "def div_trans_tau_s(fit):\n",
    "    \n",
    "    light=\"#DCBCBC\"\n",
    "    light_highlight=\"#C79999\"\n",
    "    mid=\"#B97C7C\"\n",
    "    mid_highlight=\"#A25050\"\n",
    "    dark=\"#8F2727\"\n",
    "    dark_highlight=\"#7C0000\"\n",
    "    green=\"#00FF00\"\n",
    "\n",
    "    nondiv_params, div_params = stan_utility.partition_div(fit)\n",
    "\n",
    "    plt.scatter([x[0] for x in nondiv_params['beta']], \n",
    "                nondiv_params['tau_s_raw'], \\\n",
    "                 color = mid_highlight, alpha=0.05)\n",
    "    plt.scatter([x[0] for x in div_params['beta']],\n",
    "                div_params['tau_s_raw'], \\\n",
    "                 color = green, alpha=0.5)\n",
    "\n",
    "    plt.gca().set_xlabel(\"beta_1\")\n",
    "    plt.gca().set_ylabel(\"tau_s_raw\")\n",
    "\n",
    "    plt.show()"
   ]
  },
  {
   "cell_type": "code",
   "execution_count": null,
   "metadata": {},
   "outputs": [
    {
     "name": "stderr",
     "output_type": "stream",
     "text": [
      "WARNING:pystan:DeprecationWarning: pystan.stan was deprecated in version 2.17 and will be removed in version 3.0. Compile and use a Stan program in separate steps.\n"
     ]
    },
    {
     "name": "stdout",
     "output_type": "stream",
     "text": [
      "Reusing model.\n"
     ]
    }
   ],
   "source": [
    "run0 = infer_params(Niter = 2000, Nchains = 4, Nwarmup = 1500, Nadapt_delta = 0.8)\n",
    "\n",
    "survivalstan.utils.filter_stan_summary([run0], pars=['lp__', 'alpha', 'beta', 'tau_s_raw', 'tau_raw'])\n",
    "\n",
    "pystan.check_hmc_diagnostics(run0['fit'])\n",
    "\n",
    "div_trans_beta(run0['fit'])\n",
    "div_trans_tau_s(run0['fit'])"
   ]
  },
  {
   "cell_type": "markdown",
   "metadata": {},
   "source": [
    "### Reproduce results without SurvivalStan"
   ]
  },
  {
   "cell_type": "code",
   "execution_count": null,
   "metadata": {},
   "outputs": [],
   "source": []
  },
  {
   "cell_type": "markdown",
   "metadata": {},
   "source": [
    "## More flexible baseline hazards: Piecewise hazard"
   ]
  },
  {
   "cell_type": "markdown",
   "metadata": {},
   "source": [
    "One of the more critical parameterizations to get right is that of the baseline hazard. The baseline hazard behaves like an intercept in a typical regression model. It describes the instantaneous hazard over time for the population in the absence of any covariate effects. Failure to get this right can lead to all sorts of pathologies whereby the excess variation in hazard not accounted for by your modeled baseline hazard will be absorbed into covariate effects, yielding invalid inferences and potentially misleading conclusions."
   ]
  },
  {
   "cell_type": "markdown",
   "metadata": {},
   "source": [
    "*Aside: This is not a concern when using a Cox PH model for example, because the coefficient values are estimated using Maximum Likelihood Estimation (MLE) on a partial likelihood which does not include the baseline hazard. In a Bayesian analysis, however, we have the challenge of estimating the hazard as well as the coefficient effects.*"
   ]
  },
  {
   "cell_type": "markdown",
   "metadata": {},
   "source": [
    "Most of the time, we do not have a prior belief on the distribution of the baseline hazard. We usually do not care that much about what the features of the baseline hazard look like (although perhaps we should!). Instead, we are concerned with making sure our inferences about coefficient values are valid.\n",
    "\n",
    "We thus want a baseline hazard that is sufficiently flexible to absorb any variation in the hazard over time which should not be attributed to covariate values. We also however want to minimize the risk of overfitting, so that our posterior predicted probabilities of survival are well calibrated. Many of the semi- or non-parametric approaches to modeling baseline hazards are very flexible with a penalty to impose the upper bound of complexity."
   ]
  },
  {
   "cell_type": "markdown",
   "metadata": {},
   "source": [
    "Piecewise-Exponential Model: https://data.princeton.edu/wws509/notes/c7s4"
   ]
  },
  {
   "cell_type": "code",
   "execution_count": null,
   "metadata": {},
   "outputs": [],
   "source": []
  }
 ],
 "metadata": {
  "kernelspec": {
   "display_name": "Python 3",
   "language": "python",
   "name": "python3"
  },
  "language_info": {
   "codemirror_mode": {
    "name": "ipython",
    "version": 3
   },
   "file_extension": ".py",
   "mimetype": "text/x-python",
   "name": "python",
   "nbconvert_exporter": "python",
   "pygments_lexer": "ipython3",
   "version": "3.6.7"
  }
 },
 "nbformat": 4,
 "nbformat_minor": 2
}
