{
 "cells": [
  {
   "cell_type": "markdown",
   "metadata": {},
   "source": [
    "# SurvivalStan"
   ]
  },
  {
   "cell_type": "markdown",
   "metadata": {},
   "source": [
    "Tutorial: http://www.hammerlab.org/2017/06/26/introducing-survivalstan/"
   ]
  },
  {
   "cell_type": "markdown",
   "metadata": {},
   "source": [
    "TODO\n",
    "\n",
    "- [ ] Simulate Exponential model with covariates: 1 + age + sex the correct form?\n",
    "- [ ] Try to reduce divergeces\n",
    "- [ ] Why do coefficients not match?"
   ]
  },
  {
   "cell_type": "markdown",
   "metadata": {},
   "source": [
    "## Set up environment"
   ]
  },
  {
   "cell_type": "code",
   "execution_count": null,
   "metadata": {},
   "outputs": [],
   "source": [
    "# Install Stan utilities\n",
    "\n",
    "!rm stan_utility.py\n",
    "!wget https://raw.githubusercontent.com/betanalpha/jupyter_case_studies/master/pystan_workflow/stan_utility.py\n",
    "    \n",
    "\n",
    "# Upgrade pip\n",
    "!pip3 install --user --upgrade pip\n",
    "\n",
    "\n",
    "# Install PyStan\n",
    "!pip3 install --user pystan\n",
    "\n",
    "\n",
    "# Install SurvivalStan\n",
    "!git clone https://github.com/hammerlab/survivalstan.git\n",
    "!pip3 uninstall --yes survivalstan\n",
    "!pip3 install --user survivalstan/."
   ]
  },
  {
   "cell_type": "code",
   "execution_count": null,
   "metadata": {},
   "outputs": [],
   "source": [
    "import sys\n",
    "import os\n",
    "\n",
    "import numpy as np\n",
    "import pandas as pd\n",
    "\n",
    "%matplotlib inline\n",
    "from matplotlib import pyplot as plt\n",
    "\n",
    "import pystan\n",
    "import survivalstan\n",
    "import stan_utility"
   ]
  },
  {
   "cell_type": "markdown",
   "metadata": {},
   "source": [
    "## Simple exponential model with covariates\n",
    "\n",
    "This serves as a simple sanity check.\n",
    "\n",
    "$S(t) = \\exp( -at ) \\exp( \\beta \\cdot X )$\n",
    "\n",
    "The following prior strategy will be used:\n",
    "\n",
    "* Priors for established risk factors\n",
    "* Priors for factor with more uncertain relevance"
   ]
  },
  {
   "cell_type": "code",
   "execution_count": null,
   "metadata": {},
   "outputs": [],
   "source": [
    "# Simulate Data\n",
    "df2 = survivalstan.sim.sim_data_exp_correlated(\n",
    "    N=500, censor_time=20, rate_form='1 + sex', rate_coefs=[-3, 0.5])\n",
    "\n",
    "\n",
    "survivalstan.utils.plot_observed_survival(\n",
    "    df2.query('sex == \"female\"'),\n",
    "    time_col='t',\n",
    "    event_col='event',\n",
    "    label='female')\n",
    "\n",
    "survivalstan.utils.plot_observed_survival(\n",
    "    df2.query('sex == \"male\"'),\n",
    "    time_col='t',\n",
    "    event_col='event',\n",
    "    label='male')\n",
    "\n",
    "plt.legend()"
   ]
  },
  {
   "cell_type": "code",
   "execution_count": null,
   "metadata": {},
   "outputs": [],
   "source": [
    "# Infer parameters\n",
    "\n",
    "ctrl = dict(adapt_delta = 0.9,\n",
    "            max_treedepth = 20)\n",
    "\n",
    "fit2_org = survivalstan.fit_stan_survival_model(\n",
    "    df=df2,\n",
    "    time_col='t',\n",
    "    event_col='event',\n",
    "    model_code=survivalstan.models.exp_survival_model,\n",
    "    formula='~ age + sex',\n",
    "    model_cohort = 'exp model',\n",
    "    iter = 10000,\n",
    "    chains = 4,\n",
    "    warmup = 9500,\n",
    "    control = ctrl)"
   ]
  },
  {
   "cell_type": "code",
   "execution_count": null,
   "metadata": {},
   "outputs": [],
   "source": [
    "# Results\n",
    "survivalstan.utils.filter_stan_summary([fit2_org], pars=['lp__','beta'])\n",
    "\n",
    "sfit2_org = fit2_org['fit']\n",
    "sfit2_org"
   ]
  },
  {
   "cell_type": "code",
   "execution_count": null,
   "metadata": {},
   "outputs": [],
   "source": [
    "# Plot divergent transitions\n",
    "light=\"#DCBCBC\"\n",
    "light_highlight=\"#C79999\"\n",
    "mid=\"#B97C7C\"\n",
    "mid_highlight=\"#A25050\"\n",
    "dark=\"#8F2727\"\n",
    "dark_highlight=\"#7C0000\"\n",
    "green=\"#00FF00\"\n",
    "\n",
    "nondiv_params, div_params = stan_utility.partition_div(sfit2_org)\n",
    "\n",
    "plt.scatter([x[0] for x in nondiv_params['beta']], \n",
    "             [x[1] for x in nondiv_params['beta']], \\\n",
    "             color = mid_highlight, alpha=0.05)\n",
    "plt.scatter([x[0] for x in div_params['beta']],\n",
    "             [x[1] for x in div_params['beta']], \\\n",
    "             color = green, alpha=0.5)\n",
    "\n",
    "plt.gca().set_xlabel(\"beta_1\")\n",
    "plt.gca().set_ylabel(\"beta_2\")\n",
    "\n",
    "plt.show()"
   ]
  },
  {
   "cell_type": "code",
   "execution_count": null,
   "metadata": {},
   "outputs": [],
   "source": []
  },
  {
   "cell_type": "code",
   "execution_count": null,
   "metadata": {},
   "outputs": [],
   "source": []
  },
  {
   "cell_type": "code",
   "execution_count": null,
   "metadata": {},
   "outputs": [],
   "source": [
    "# HMC diagnostics\n",
    "\n",
    "sfit2_org = fit2_org['fit']\n",
    "\n",
    "pystan.check_hmc_diagnostics(sfit2_org)\n",
    "\n",
    "print(sfit2_org)"
   ]
  },
  {
   "cell_type": "markdown",
   "metadata": {},
   "source": [
    "## More flexible baseline hazards: Piecewise hazard"
   ]
  },
  {
   "cell_type": "markdown",
   "metadata": {},
   "source": [
    "One of the more critical parameterizations to get right is that of the baseline hazard. The baseline hazard behaves like an intercept in a typical regression model. It describes the instantaneous hazard over time for the population in the absence of any covariate effects. Failure to get this right can lead to all sorts of pathologies whereby the excess variation in hazard not accounted for by your modeled baseline hazard will be absorbed into covariate effects, yielding invalid inferences and potentially misleading conclusions."
   ]
  },
  {
   "cell_type": "markdown",
   "metadata": {},
   "source": [
    "*Aside: This is not a concern when using a Cox PH model for example, because the coefficient values are estimated using Maximum Likelihood Estimation (MLE) on a partial likelihood which does not include the baseline hazard. In a Bayesian analysis, however, we have the challenge of estimating the hazard as well as the coefficient effects.*"
   ]
  },
  {
   "cell_type": "markdown",
   "metadata": {},
   "source": [
    "Most of the time, we do not have a prior belief on the distribution of the baseline hazard. We usually do not care that much about what the features of the baseline hazard look like (although perhaps we should!). Instead, we are concerned with making sure our inferences about coefficient values are valid.\n",
    "\n",
    "We thus want a baseline hazard that is sufficiently flexible to absorb any variation in the hazard over time which should not be attributed to covariate values. We also however want to minimize the risk of overfitting, so that our posterior predicted probabilities of survival are well calibrated. Many of the semi- or non-parametric approaches to modeling baseline hazards are very flexible with a penalty to impose the upper bound of complexity."
   ]
  },
  {
   "cell_type": "markdown",
   "metadata": {},
   "source": [
    "Piecewise-Exponential Model: https://data.princeton.edu/wws509/notes/c7s4"
   ]
  },
  {
   "cell_type": "code",
   "execution_count": null,
   "metadata": {},
   "outputs": [],
   "source": []
  }
 ],
 "metadata": {
  "kernelspec": {
   "display_name": "Python 3",
   "language": "python",
   "name": "python3"
  },
  "language_info": {
   "codemirror_mode": {
    "name": "ipython",
    "version": 3
   },
   "file_extension": ".py",
   "mimetype": "text/x-python",
   "name": "python",
   "nbconvert_exporter": "python",
   "pygments_lexer": "ipython3",
   "version": "3.6.7"
  }
 },
 "nbformat": 4,
 "nbformat_minor": 2
}
