{
 "cells": [
  {
   "cell_type": "markdown",
   "metadata": {},
   "source": [
    "# SurvivalStan"
   ]
  },
  {
   "cell_type": "markdown",
   "metadata": {},
   "source": [
    "## Set up environment"
   ]
  },
  {
   "cell_type": "code",
   "execution_count": 1,
   "metadata": {},
   "outputs": [
    {
     "name": "stdout",
     "output_type": "stream",
     "text": [
      "--2019-07-24 05:26:34--  https://raw.githubusercontent.com/betanalpha/jupyter_case_studies/master/pystan_workflow/stan_utility.py\n",
      "Resolving raw.githubusercontent.com (raw.githubusercontent.com)... 151.101.112.133\n",
      "Connecting to raw.githubusercontent.com (raw.githubusercontent.com)|151.101.112.133|:443... connected.\n",
      "HTTP request sent, awaiting response... 200 OK\n",
      "Length: 5593 (5.5K) [text/plain]\n",
      "Saving to: ‘stan_utility.py’\n",
      "\n",
      "stan_utility.py     100%[===================>]   5.46K  --.-KB/s    in 0s      \n",
      "\n",
      "2019-07-24 05:26:34 (61.8 MB/s) - ‘stan_utility.py’ saved [5593/5593]\n",
      "\n"
     ]
    }
   ],
   "source": [
    "# Install Stan utilities\n",
    "\n",
    "!rm stan_utility.py\n",
    "!wget https://raw.githubusercontent.com/betanalpha/jupyter_case_studies/master/pystan_workflow/stan_utility.py\n",
    "    \n",
    "\n",
    "# Upgrade pip\n",
    "!pip3 install --user --upgrade pip\n",
    "\n",
    "\n",
    "# Install PyStan\n",
    "!pip3 install --user pystan\n",
    "\n",
    "\n",
    "# Install SurvivalStan\n",
    "!git clone https://github.com/hammerlab/survivalstan.git\n",
    "!pip3 uninstall --yes survivalstan\n",
    "!pip3 install --user survivalstan/."
   ]
  },
  {
   "cell_type": "code",
   "execution_count": null,
   "metadata": {},
   "outputs": [],
   "source": [
    "import sys\n",
    "import os\n",
    "\n",
    "import numpy as np\n",
    "import pandas as pd\n",
    "\n",
    "\n",
    "import pystan\n",
    "import survivalstan"
   ]
  },
  {
   "cell_type": "markdown",
   "metadata": {},
   "source": [
    "## Simple exponential model with covariates\n",
    "\n",
    "This serves as a simple sanity check.\n",
    "\n",
    "$S(t) = \\exp( -at ) \\exp( \\beta \\cdot X )$\n",
    "\n",
    "The following prior strategy will be used:\n",
    "\n",
    "* Priors for established risk factors\n",
    "* Priors for factor with more uncertain relevance"
   ]
  },
  {
   "cell_type": "code",
   "execution_count": 5,
   "metadata": {},
   "outputs": [],
   "source": [
    "# Simulate Data\n",
    "df2 = survivalstan.sim.sim_data_exp_correlated(N = 500, \n",
    "                                               censor_time = 20, \n",
    "                                               rate_form = '1 + age + sex', \n",
    "                                               rate_coefs=[0, -3, 0.5])\n",
    "\n",
    "# Plot data\n",
    "survivalstan.utils.plot_observed_survival(\n",
    "    df2.query('sex == \"female\"'),\n",
    "    time_col='t',\n",
    "    event_col='event',\n",
    "    label='female')\n",
    "\n",
    "survivalstan.utils.plot_observed_survival(\n",
    "    df2.query('sex == \"male\"'),\n",
    "    time_col='t',\n",
    "    event_col='event',\n",
    "    label='male')\n",
    "\n",
    "plt.legend()"
   ]
  },
  {
   "cell_type": "code",
   "execution_count": null,
   "metadata": {},
   "outputs": [
    {
     "name": "stderr",
     "output_type": "stream",
     "text": [
      "WARNING:pystan:DeprecationWarning: pystan.stan was deprecated in version 2.17 and will be removed in version 3.0. Compile and use a Stan program in separate steps.\n",
      "INFO:pystan:COMPILING THE C++ CODE FOR MODEL anon_model_0176fed484efbd961d78e8973c25ff98 NOW.\n"
     ]
    },
    {
     "name": "stdout",
     "output_type": "stream",
     "text": [
      "NOT reusing model.\n"
     ]
    }
   ],
   "source": [
    "# Infer parameters\n",
    "\n",
    "ctrl = dict(adapt_delta = 0.99999,\n",
    "            max_treedepth = 20)\n",
    "\n",
    "fit2_org = survivalstan.fit_stan_survival_model(\n",
    "    df=df2,\n",
    "    time_col='t',\n",
    "    event_col='event',\n",
    "    model_code=survivalstan.models.exp_survival_model,\n",
    "    formula='~ 1 + age + sex',\n",
    "    model_cohort = 'exp model',\n",
    "    iter = 10000,\n",
    "    chains = 4,\n",
    "    warmup = 6500,\n",
    "    control = ctrl)"
   ]
  },
  {
   "cell_type": "code",
   "execution_count": null,
   "metadata": {},
   "outputs": [],
   "source": [
    "# HMC diagnostics\n",
    "\n",
    "sfit2_org = fit2_org['fit']\n",
    "\n",
    "pystan.check_hmc_diagnostics(sfit2_org)\n",
    "\n",
    "print(sfit2_org)"
   ]
  },
  {
   "cell_type": "markdown",
   "metadata": {},
   "source": [
    "## More flexible baseline hazards: Piecewise hazard"
   ]
  },
  {
   "cell_type": "code",
   "execution_count": null,
   "metadata": {},
   "outputs": [],
   "source": []
  }
 ],
 "metadata": {
  "kernelspec": {
   "display_name": "Python 3",
   "language": "python",
   "name": "python3"
  },
  "language_info": {
   "codemirror_mode": {
    "name": "ipython",
    "version": 3
   },
   "file_extension": ".py",
   "mimetype": "text/x-python",
   "name": "python",
   "nbconvert_exporter": "python",
   "pygments_lexer": "ipython3",
   "version": "3.6.7"
  }
 },
 "nbformat": 4,
 "nbformat_minor": 2
}
